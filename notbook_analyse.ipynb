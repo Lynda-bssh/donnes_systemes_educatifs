{
 "cells": [
  {
   "cell_type": "markdown",
   "metadata": {},
   "source": [
    "## Projet 2 :Analyse des données de systèmes éducatifs\n",
    "- Valider la qualité de jeu de données en terme de (valeurs manquantes et dupliquées)\n",
    "- Décrire les informations contenues dans les 5 dataset (nombre de lignes , nombre de colonnes, tupe de chaque donnée..)\n",
    "- Répondre a la problèmatique tte en analysant les données qui semble pertinente.\n",
    "- Calcul de la moyenne et mediane et ecart-type "
   ]
  },
  {
   "cell_type": "markdown",
   "metadata": {},
   "source": [
    "### Importation des bibliothèque"
   ]
  },
  {
   "cell_type": "code",
   "execution_count": 1,
   "metadata": {},
   "outputs": [],
   "source": [
    "import pandas as pd\n",
    "import numpy as np\n",
    "import seaborn as sns\n",
    "import matplotlib.pyplot as plt\n"
   ]
  },
  {
   "cell_type": "markdown",
   "metadata": {},
   "source": [
    "# Exploratory Data Analysis"
   ]
  },
  {
   "cell_type": "code",
   "execution_count": 2,
   "metadata": {},
   "outputs": [],
   "source": [
    "df= pd.read_csv('EdStatsCountry-Series.csv')\n",
    "df1 = pd.read_csv('EdStatsData.csv')\n",
    "df2 = pd.read_csv('EdStatsSeries.csv')\n",
    "df3 = pd.read_csv('EdStatsFootNote.csv')\n",
    "df4 = pd.read_csv('EdStatsCountry.csv')\n",
    "# on fait des copies pour  chaque dataset:\n",
    "data = df1.copy()\n",
    "series = df2.copy()\n",
    "note = df3.copy()\n",
    "country = df4.copy()\n",
    "country_series =df.copy()"
   ]
  },
  {
   "cell_type": "markdown",
   "metadata": {},
   "source": [
    "#### Déscription des données de chaque data:"
   ]
  },
  {
   "cell_type": "markdown",
   "metadata": {},
   "source": [
    "## DataFrame : EdStatsCountry-Series"
   ]
  },
  {
   "cell_type": "code",
   "execution_count": 3,
   "metadata": {},
   "outputs": [
    {
     "data": {
      "text/html": [
       "<div>\n",
       "<style scoped>\n",
       "    .dataframe tbody tr th:only-of-type {\n",
       "        vertical-align: middle;\n",
       "    }\n",
       "\n",
       "    .dataframe tbody tr th {\n",
       "        vertical-align: top;\n",
       "    }\n",
       "\n",
       "    .dataframe thead th {\n",
       "        text-align: right;\n",
       "    }\n",
       "</style>\n",
       "<table border=\"1\" class=\"dataframe\">\n",
       "  <thead>\n",
       "    <tr style=\"text-align: right;\">\n",
       "      <th></th>\n",
       "      <th>CountryCode</th>\n",
       "      <th>SeriesCode</th>\n",
       "      <th>DESCRIPTION</th>\n",
       "      <th>Unnamed: 3</th>\n",
       "    </tr>\n",
       "  </thead>\n",
       "  <tbody>\n",
       "    <tr>\n",
       "      <th>0</th>\n",
       "      <td>ABW</td>\n",
       "      <td>SP.POP.TOTL</td>\n",
       "      <td>Data sources : United Nations World Population...</td>\n",
       "      <td>NaN</td>\n",
       "    </tr>\n",
       "    <tr>\n",
       "      <th>1</th>\n",
       "      <td>ABW</td>\n",
       "      <td>SP.POP.GROW</td>\n",
       "      <td>Data sources: United Nations World Population ...</td>\n",
       "      <td>NaN</td>\n",
       "    </tr>\n",
       "    <tr>\n",
       "      <th>2</th>\n",
       "      <td>AFG</td>\n",
       "      <td>SP.POP.GROW</td>\n",
       "      <td>Data sources: United Nations World Population ...</td>\n",
       "      <td>NaN</td>\n",
       "    </tr>\n",
       "  </tbody>\n",
       "</table>\n",
       "</div>"
      ],
      "text/plain": [
       "  CountryCode   SeriesCode                                        DESCRIPTION  \\\n",
       "0         ABW  SP.POP.TOTL  Data sources : United Nations World Population...   \n",
       "1         ABW  SP.POP.GROW  Data sources: United Nations World Population ...   \n",
       "2         AFG  SP.POP.GROW  Data sources: United Nations World Population ...   \n",
       "\n",
       "   Unnamed: 3  \n",
       "0         NaN  \n",
       "1         NaN  \n",
       "2         NaN  "
      ]
     },
     "execution_count": 3,
     "metadata": {},
     "output_type": "execute_result"
    }
   ],
   "source": [
    "country_series.head(3)\n",
    "#country.tail()"
   ]
  },
  {
   "cell_type": "code",
   "execution_count": 4,
   "metadata": {},
   "outputs": [
    {
     "data": {
      "text/plain": [
       "(613, 4)"
      ]
     },
     "execution_count": 4,
     "metadata": {},
     "output_type": "execute_result"
    }
   ],
   "source": [
    "country_series.shape"
   ]
  },
  {
   "cell_type": "code",
   "execution_count": 5,
   "metadata": {},
   "outputs": [
    {
     "data": {
      "text/plain": [
       "object     3\n",
       "float64    1\n",
       "Name: count, dtype: int64"
      ]
     },
     "execution_count": 5,
     "metadata": {},
     "output_type": "execute_result"
    }
   ],
   "source": [
    "country_series.dtypes.value_counts()"
   ]
  },
  {
   "cell_type": "code",
   "execution_count": 6,
   "metadata": {},
   "outputs": [
    {
     "data": {
      "text/plain": [
       "CountryCode      0\n",
       "SeriesCode       0\n",
       "DESCRIPTION      0\n",
       "Unnamed: 3     613\n",
       "dtype: int64"
      ]
     },
     "execution_count": 6,
     "metadata": {},
     "output_type": "execute_result"
    }
   ],
   "source": [
    "country_series.isnull().sum()"
   ]
  },
  {
   "cell_type": "code",
   "execution_count": 7,
   "metadata": {},
   "outputs": [
    {
     "data": {
      "text/plain": [
       "CountryCode\n",
       "MDA    18\n",
       "GEO    18\n",
       "CYP    12\n",
       "SRB    12\n",
       "MUS    12\n",
       "       ..\n",
       "GRL     2\n",
       "GTM     2\n",
       "GUM     2\n",
       "HKG     2\n",
       "ZWE     2\n",
       "Name: count, Length: 211, dtype: int64"
      ]
     },
     "execution_count": 7,
     "metadata": {},
     "output_type": "execute_result"
    }
   ],
   "source": [
    "country_series['CountryCode'].value_counts()"
   ]
  },
  {
   "cell_type": "code",
   "execution_count": 8,
   "metadata": {},
   "outputs": [
    {
     "data": {
      "text/html": [
       "<div>\n",
       "<style scoped>\n",
       "    .dataframe tbody tr th:only-of-type {\n",
       "        vertical-align: middle;\n",
       "    }\n",
       "\n",
       "    .dataframe tbody tr th {\n",
       "        vertical-align: top;\n",
       "    }\n",
       "\n",
       "    .dataframe thead th {\n",
       "        text-align: right;\n",
       "    }\n",
       "</style>\n",
       "<table border=\"1\" class=\"dataframe\">\n",
       "  <thead>\n",
       "    <tr style=\"text-align: right;\">\n",
       "      <th></th>\n",
       "      <th>CountryCode</th>\n",
       "      <th>SeriesCode</th>\n",
       "      <th>DESCRIPTION</th>\n",
       "    </tr>\n",
       "  </thead>\n",
       "  <tbody>\n",
       "    <tr>\n",
       "      <th>0</th>\n",
       "      <td>ABW</td>\n",
       "      <td>SP.POP.TOTL</td>\n",
       "      <td>Data sources : United Nations World Population...</td>\n",
       "    </tr>\n",
       "    <tr>\n",
       "      <th>1</th>\n",
       "      <td>ABW</td>\n",
       "      <td>SP.POP.GROW</td>\n",
       "      <td>Data sources: United Nations World Population ...</td>\n",
       "    </tr>\n",
       "    <tr>\n",
       "      <th>2</th>\n",
       "      <td>AFG</td>\n",
       "      <td>SP.POP.GROW</td>\n",
       "      <td>Data sources: United Nations World Population ...</td>\n",
       "    </tr>\n",
       "    <tr>\n",
       "      <th>3</th>\n",
       "      <td>AFG</td>\n",
       "      <td>NY.GDP.PCAP.PP.CD</td>\n",
       "      <td>Estimates are based on regression.</td>\n",
       "    </tr>\n",
       "    <tr>\n",
       "      <th>4</th>\n",
       "      <td>AFG</td>\n",
       "      <td>SP.POP.TOTL</td>\n",
       "      <td>Data sources : United Nations World Population...</td>\n",
       "    </tr>\n",
       "  </tbody>\n",
       "</table>\n",
       "</div>"
      ],
      "text/plain": [
       "  CountryCode         SeriesCode  \\\n",
       "0         ABW        SP.POP.TOTL   \n",
       "1         ABW        SP.POP.GROW   \n",
       "2         AFG        SP.POP.GROW   \n",
       "3         AFG  NY.GDP.PCAP.PP.CD   \n",
       "4         AFG        SP.POP.TOTL   \n",
       "\n",
       "                                         DESCRIPTION  \n",
       "0  Data sources : United Nations World Population...  \n",
       "1  Data sources: United Nations World Population ...  \n",
       "2  Data sources: United Nations World Population ...  \n",
       "3                 Estimates are based on regression.  \n",
       "4  Data sources : United Nations World Population...  "
      ]
     },
     "execution_count": 8,
     "metadata": {},
     "output_type": "execute_result"
    }
   ],
   "source": [
    "country_series.drop('Unnamed: 3',axis = 1,inplace = True)\n",
    "country_series.head()"
   ]
  },
  {
   "cell_type": "code",
   "execution_count": 9,
   "metadata": {},
   "outputs": [
    {
     "data": {
      "image/png": "[encoded data removed]",
      "text/plain": [
       "<Figure size 1000x800 with 1 Axes>"
      ]
     },
     "metadata": {},
     "output_type": "display_data"
    }
   ],
   "source": [
    "# Regroupement des pays par code indicateur et des pays par description\n",
    "\n",
    "figure = plt.figure(figsize = (10,8)) \n",
    "serie_code = country_series.groupby('SeriesCode')[['CountryCode']].count().reset_index().sort_values(by='CountryCode')['SeriesCode']\n",
    "nb_pays_par_serie_code=country_series.groupby('SeriesCode')[['CountryCode']].count()['CountryCode'].sort_values()\n",
    "plt.barh(y = serie_code, width=nb_pays_par_serie_code, color='SteelBlue')\n",
    "for i, v in enumerate(nb_pays_par_serie_code):\n",
    "    plt.text(v + 3, i - .22, str(v), color='SteelBlue', fontsize=10, fontweight='bold')\n",
    "plt.title('Nombre de pays par code indicateur', fontsize=12)\n",
    "plt.xlabel('Nombre de pays', fontsize=10)\n",
    "plt.ylabel('Codes indicateurs', fontsize=10)\n",
    "plt.tick_params(labelsize=10)\n",
    "plt.xlim([0, 250])\n",
    "plt.grid(False)\n",
    "plt.show()"
   ]
  },
  {
   "cell_type": "markdown",
   "metadata": {},
   "source": [
    "### Analyse des dataframe:"
   ]
  },
  {
   "cell_type": "markdown",
   "metadata": {},
   "source": [
    "##### 1)-Dataframe EdstatsData:"
   ]
  },
  {
   "cell_type": "markdown",
   "metadata": {},
   "source": [
    "- je commence par afficher les 2 premieres lignes du dataframe Edstatsdata"
   ]
  },
  {
   "cell_type": "code",
   "execution_count": 10,
   "metadata": {},
   "outputs": [
    {
     "data": {
      "text/html": [
       "<div>\n",
       "<style scoped>\n",
       "    .dataframe tbody tr th:only-of-type {\n",
       "        vertical-align: middle;\n",
       "    }\n",
       "\n",
       "    .dataframe tbody tr th {\n",
       "        vertical-align: top;\n",
       "    }\n",
       "\n",
       "    .dataframe thead th {\n",
       "        text-align: right;\n",
       "    }\n",
       "</style>\n",
       "<table border=\"1\" class=\"dataframe\">\n",
       "  <thead>\n",
       "    <tr style=\"text-align: right;\">\n",
       "      <th></th>\n",
       "      <th>Country Name</th>\n",
       "      <th>Country Code</th>\n",
       "      <th>Indicator Name</th>\n",
       "      <th>Indicator Code</th>\n",
       "      <th>1970</th>\n",
       "      <th>1971</th>\n",
       "      <th>1972</th>\n",
       "      <th>1973</th>\n",
       "      <th>1974</th>\n",
       "      <th>1975</th>\n",
       "      <th>...</th>\n",
       "      <th>2060</th>\n",
       "      <th>2065</th>\n",
       "      <th>2070</th>\n",
       "      <th>2075</th>\n",
       "      <th>2080</th>\n",
       "      <th>2085</th>\n",
       "      <th>2090</th>\n",
       "      <th>2095</th>\n",
       "      <th>2100</th>\n",
       "      <th>Unnamed: 69</th>\n",
       "    </tr>\n",
       "  </thead>\n",
       "  <tbody>\n",
       "    <tr>\n",
       "      <th>0</th>\n",
       "      <td>Arab World</td>\n",
       "      <td>ARB</td>\n",
       "      <td>Adjusted net enrolment rate, lower secondary, ...</td>\n",
       "      <td>UIS.NERA.2</td>\n",
       "      <td>NaN</td>\n",
       "      <td>NaN</td>\n",
       "      <td>NaN</td>\n",
       "      <td>NaN</td>\n",
       "      <td>NaN</td>\n",
       "      <td>NaN</td>\n",
       "      <td>...</td>\n",
       "      <td>NaN</td>\n",
       "      <td>NaN</td>\n",
       "      <td>NaN</td>\n",
       "      <td>NaN</td>\n",
       "      <td>NaN</td>\n",
       "      <td>NaN</td>\n",
       "      <td>NaN</td>\n",
       "      <td>NaN</td>\n",
       "      <td>NaN</td>\n",
       "      <td>NaN</td>\n",
       "    </tr>\n",
       "    <tr>\n",
       "      <th>1</th>\n",
       "      <td>Arab World</td>\n",
       "      <td>ARB</td>\n",
       "      <td>Adjusted net enrolment rate, lower secondary, ...</td>\n",
       "      <td>UIS.NERA.2.F</td>\n",
       "      <td>NaN</td>\n",
       "      <td>NaN</td>\n",
       "      <td>NaN</td>\n",
       "      <td>NaN</td>\n",
       "      <td>NaN</td>\n",
       "      <td>NaN</td>\n",
       "      <td>...</td>\n",
       "      <td>NaN</td>\n",
       "      <td>NaN</td>\n",
       "      <td>NaN</td>\n",
       "      <td>NaN</td>\n",
       "      <td>NaN</td>\n",
       "      <td>NaN</td>\n",
       "      <td>NaN</td>\n",
       "      <td>NaN</td>\n",
       "      <td>NaN</td>\n",
       "      <td>NaN</td>\n",
       "    </tr>\n",
       "  </tbody>\n",
       "</table>\n",
       "<p>2 rows × 70 columns</p>\n",
       "</div>"
      ],
      "text/plain": [
       "  Country Name Country Code  \\\n",
       "0   Arab World          ARB   \n",
       "1   Arab World          ARB   \n",
       "\n",
       "                                      Indicator Name Indicator Code  1970  \\\n",
       "0  Adjusted net enrolment rate, lower secondary, ...     UIS.NERA.2   NaN   \n",
       "1  Adjusted net enrolment rate, lower secondary, ...   UIS.NERA.2.F   NaN   \n",
       "\n",
       "   1971  1972  1973  1974  1975  ...  2060  2065  2070  2075  2080  2085  \\\n",
       "0   NaN   NaN   NaN   NaN   NaN  ...   NaN   NaN   NaN   NaN   NaN   NaN   \n",
       "1   NaN   NaN   NaN   NaN   NaN  ...   NaN   NaN   NaN   NaN   NaN   NaN   \n",
       "\n",
       "   2090  2095  2100  Unnamed: 69  \n",
       "0   NaN   NaN   NaN          NaN  \n",
       "1   NaN   NaN   NaN          NaN  \n",
       "\n",
       "[2 rows x 70 columns]"
      ]
     },
     "execution_count": 10,
     "metadata": {},
     "output_type": "execute_result"
    }
   ],
   "source": [
    "data.head(2)"
   ]
  },
  {
   "cell_type": "markdown",
   "metadata": {},
   "source": [
    "On voit que:\n",
    "- des informations sur les noms de pays.\n",
    "- des information sur code de pays.\n",
    "- Nom des indicateurs et code des indicateurs .\n",
    "- des années de 1970 jusqu'a 2100.\n",
    "- bcp de valeurs non renseignées."
   ]
  },
  {
   "cell_type": "code",
   "execution_count": 11,
   "metadata": {},
   "outputs": [
    {
     "data": {
      "text/plain": [
       "(886930, 70)"
      ]
     },
     "execution_count": 11,
     "metadata": {},
     "output_type": "execute_result"
    }
   ],
   "source": [
    "data.shape"
   ]
  },
  {
   "cell_type": "markdown",
   "metadata": {},
   "source": [
    "- il y'a 886930 lignes et 70 colonnes."
   ]
  },
  {
   "cell_type": "code",
   "execution_count": 12,
   "metadata": {},
   "outputs": [
    {
     "data": {
      "text/plain": [
       "float64    66\n",
       "object      4\n",
       "Name: count, dtype: int64"
      ]
     },
     "execution_count": 12,
     "metadata": {},
     "output_type": "execute_result"
    }
   ],
   "source": [
    "data.dtypes.value_counts()"
   ]
  },
  {
   "cell_type": "code",
   "execution_count": 13,
   "metadata": {},
   "outputs": [
    {
     "data": {
      "text/plain": [
       "Country Name           0\n",
       "Country Code           0\n",
       "Indicator Name         0\n",
       "Indicator Code         0\n",
       "1970              814642\n",
       "                   ...  \n",
       "2085              835494\n",
       "2090              835494\n",
       "2095              835494\n",
       "2100              835494\n",
       "Unnamed: 69       886930\n",
       "Length: 70, dtype: int64"
      ]
     },
     "execution_count": 13,
     "metadata": {},
     "output_type": "execute_result"
    }
   ],
   "source": [
    "data.isnull().sum()"
   ]
  },
  {
   "cell_type": "code",
   "execution_count": 14,
   "metadata": {},
   "outputs": [
    {
     "data": {
      "text/plain": [
       "<Axes: >"
      ]
     },
     "execution_count": 14,
     "metadata": {},
     "output_type": "execute_result"
    },
    {
     "data": {
      "image/png": "[encoded data removed]",
      "text/plain": [
       "<Figure size 1000x700 with 1 Axes>"
      ]
     },
     "metadata": {},
     "output_type": "display_data"
    }
   ],
   "source": [
    "plt.figure(figsize = (10, 7))\n",
    "sns.heatmap(data.isna(),cbar = False)\n",
    "# on vois des lignes continues donc ça sens une relation entre ses variables.\n"
   ]
  },
  {
   "cell_type": "markdown",
   "metadata": {},
   "source": [
    "- le jeux de données se compose de 2 plages d'années:\n",
    "* 1970-2017.\n",
    "* 2020-2100.\n",
    "* données renseigné dans les années 2015 et 2010 paraport au d'autres année."
   ]
  },
  {
   "cell_type": "code",
   "execution_count": 15,
   "metadata": {},
   "outputs": [
    {
     "name": "stdout",
     "output_type": "stream",
     "text": [
      "Nombre de pays  dans ce jeu de données : 242\n"
     ]
    },
    {
     "data": {
      "text/plain": [
       "array(['Arab World', 'East Asia & Pacific',\n",
       "       'East Asia & Pacific (excluding high income)', 'Euro area',\n",
       "       'Europe & Central Asia',\n",
       "       'Europe & Central Asia (excluding high income)', 'European Union',\n",
       "       'Heavily indebted poor countries (HIPC)', 'High income',\n",
       "       'Latin America & Caribbean',\n",
       "       'Latin America & Caribbean (excluding high income)',\n",
       "       'Least developed countries: UN classification',\n",
       "       'Low & middle income', 'Low income', 'Lower middle income',\n",
       "       'Middle East & North Africa',\n",
       "       'Middle East & North Africa (excluding high income)',\n",
       "       'Middle income', 'North America', 'OECD members', 'South Asia',\n",
       "       'Sub-Saharan Africa', 'Sub-Saharan Africa (excluding high income)',\n",
       "       'Upper middle income', 'World', 'Afghanistan', 'Albania',\n",
       "       'Algeria', 'American Samoa', 'Andorra', 'Angola',\n",
       "       'Antigua and Barbuda', 'Argentina', 'Armenia', 'Aruba'],\n",
       "      dtype=object)"
      ]
     },
     "execution_count": 15,
     "metadata": {},
     "output_type": "execute_result"
    }
   ],
   "source": [
    "liste_pays = data[\"Country Name\"].unique()\n",
    "print(f'Nombre de pays  dans ce jeu de données : {len(liste_pays)}')\n",
    "liste_pays[:35]"
   ]
  },
  {
   "cell_type": "markdown",
   "metadata": {},
   "source": [
    "#### Identifications des données dupliquées:\n"
   ]
  },
  {
   "cell_type": "code",
   "execution_count": 16,
   "metadata": {},
   "outputs": [
    {
     "name": "stdout",
     "output_type": "stream",
     "text": [
      "aucune données dupliquée dans ce jeu de données.\n"
     ]
    }
   ],
   "source": [
    "duplicate = data.duplicated(subset = ['Country Code','Indicator Code'])\n",
    "\n",
    "if True in list(duplicate.unique()):\n",
    "    print(\"données dupliquèes dans ce jeu de données.\")\n",
    "else:\n",
    "    print(\"aucune données dupliquée dans ce jeu de données.\")\n"
   ]
  },
  {
   "cell_type": "markdown",
   "metadata": {},
   "source": [
    "- Donc,il y'a aucune données dupliqué."
   ]
  },
  {
   "cell_type": "code",
   "execution_count": 17,
   "metadata": {},
   "outputs": [
    {
     "name": "stdout",
     "output_type": "stream",
     "text": [
      "il y'a trouve :  3665 indicateur dans EDstatsData\n"
     ]
    }
   ],
   "source": [
    "# Verifier le nombre d'indicateur dans EdstatsData : \n",
    "indicateur = data['Indicator Code'].unique()\n",
    "print(f\"il y'a trouve :  {len(indicateur)} indicateur dans EDstatsData\")\n"
   ]
  },
  {
   "cell_type": "markdown",
   "metadata": {},
   "source": [
    "- impossible d'analysie tout ces indicateur , on devrait selectionner les plus pertinents pour notre analyse\n"
   ]
  },
  {
   "cell_type": "code",
   "execution_count": 18,
   "metadata": {},
   "outputs": [
    {
     "data": {
      "text/html": [
       "<div>\n",
       "<style scoped>\n",
       "    .dataframe tbody tr th:only-of-type {\n",
       "        vertical-align: middle;\n",
       "    }\n",
       "\n",
       "    .dataframe tbody tr th {\n",
       "        vertical-align: top;\n",
       "    }\n",
       "\n",
       "    .dataframe thead th {\n",
       "        text-align: right;\n",
       "    }\n",
       "</style>\n",
       "<table border=\"1\" class=\"dataframe\">\n",
       "  <thead>\n",
       "    <tr style=\"text-align: right;\">\n",
       "      <th></th>\n",
       "      <th>Indicator Name</th>\n",
       "      <th>Indicator Code</th>\n",
       "    </tr>\n",
       "  </thead>\n",
       "  <tbody>\n",
       "    <tr>\n",
       "      <th>0</th>\n",
       "      <td>Adjusted net enrolment rate, lower secondary, both sexes (%)</td>\n",
       "      <td>UIS.NERA.2</td>\n",
       "    </tr>\n",
       "    <tr>\n",
       "      <th>1</th>\n",
       "      <td>Adjusted net enrolment rate, lower secondary, female (%)</td>\n",
       "      <td>UIS.NERA.2.F</td>\n",
       "    </tr>\n",
       "    <tr>\n",
       "      <th>2</th>\n",
       "      <td>Adjusted net enrolment rate, lower secondary, gender parity index (GPI)</td>\n",
       "      <td>UIS.NERA.2.GPI</td>\n",
       "    </tr>\n",
       "    <tr>\n",
       "      <th>3</th>\n",
       "      <td>Adjusted net enrolment rate, lower secondary, male (%)</td>\n",
       "      <td>UIS.NERA.2.M</td>\n",
       "    </tr>\n",
       "    <tr>\n",
       "      <th>4</th>\n",
       "      <td>Adjusted net enrolment rate, primary, both sexes (%)</td>\n",
       "      <td>SE.PRM.TENR</td>\n",
       "    </tr>\n",
       "    <tr>\n",
       "      <th>5</th>\n",
       "      <td>Adjusted net enrolment rate, primary, female (%)</td>\n",
       "      <td>SE.PRM.TENR.FE</td>\n",
       "    </tr>\n",
       "    <tr>\n",
       "      <th>6</th>\n",
       "      <td>Adjusted net enrolment rate, primary, gender parity index (GPI)</td>\n",
       "      <td>UIS.NERA.1.GPI</td>\n",
       "    </tr>\n",
       "    <tr>\n",
       "      <th>7</th>\n",
       "      <td>Adjusted net enrolment rate, primary, male (%)</td>\n",
       "      <td>SE.PRM.TENR.MA</td>\n",
       "    </tr>\n",
       "    <tr>\n",
       "      <th>8</th>\n",
       "      <td>Adjusted net enrolment rate, upper secondary, both sexes (%)</td>\n",
       "      <td>UIS.NERA.3</td>\n",
       "    </tr>\n",
       "    <tr>\n",
       "      <th>9</th>\n",
       "      <td>Adjusted net enrolment rate, upper secondary, female (%)</td>\n",
       "      <td>UIS.NERA.3.F</td>\n",
       "    </tr>\n",
       "    <tr>\n",
       "      <th>10</th>\n",
       "      <td>Adjusted net enrolment rate, upper secondary, gender parity index (GPI)</td>\n",
       "      <td>UIS.NERA.3.GPI</td>\n",
       "    </tr>\n",
       "    <tr>\n",
       "      <th>11</th>\n",
       "      <td>Adjusted net enrolment rate, upper secondary, male (%)</td>\n",
       "      <td>UIS.NERA.3.M</td>\n",
       "    </tr>\n",
       "    <tr>\n",
       "      <th>12</th>\n",
       "      <td>Adjusted net intake rate to Grade 1 of primary education, both sexes (%)</td>\n",
       "      <td>UIS.NIRA.1</td>\n",
       "    </tr>\n",
       "    <tr>\n",
       "      <th>13</th>\n",
       "      <td>Adjusted net intake rate to Grade 1 of primary education, female (%)</td>\n",
       "      <td>UIS.NIRA.1.F</td>\n",
       "    </tr>\n",
       "    <tr>\n",
       "      <th>14</th>\n",
       "      <td>Adjusted net intake rate to Grade 1 of primary education, gender parity index (GPI)</td>\n",
       "      <td>UIS.NIRA.1.GPI</td>\n",
       "    </tr>\n",
       "  </tbody>\n",
       "</table>\n",
       "</div>"
      ],
      "text/plain": [
       "                                                                         Indicator Name  \\\n",
       "0                          Adjusted net enrolment rate, lower secondary, both sexes (%)   \n",
       "1                              Adjusted net enrolment rate, lower secondary, female (%)   \n",
       "2               Adjusted net enrolment rate, lower secondary, gender parity index (GPI)   \n",
       "3                                Adjusted net enrolment rate, lower secondary, male (%)   \n",
       "4                                  Adjusted net enrolment rate, primary, both sexes (%)   \n",
       "5                                      Adjusted net enrolment rate, primary, female (%)   \n",
       "6                       Adjusted net enrolment rate, primary, gender parity index (GPI)   \n",
       "7                                        Adjusted net enrolment rate, primary, male (%)   \n",
       "8                          Adjusted net enrolment rate, upper secondary, both sexes (%)   \n",
       "9                              Adjusted net enrolment rate, upper secondary, female (%)   \n",
       "10              Adjusted net enrolment rate, upper secondary, gender parity index (GPI)   \n",
       "11                               Adjusted net enrolment rate, upper secondary, male (%)   \n",
       "12             Adjusted net intake rate to Grade 1 of primary education, both sexes (%)   \n",
       "13                 Adjusted net intake rate to Grade 1 of primary education, female (%)   \n",
       "14  Adjusted net intake rate to Grade 1 of primary education, gender parity index (GPI)   \n",
       "\n",
       "    Indicator Code  \n",
       "0       UIS.NERA.2  \n",
       "1     UIS.NERA.2.F  \n",
       "2   UIS.NERA.2.GPI  \n",
       "3     UIS.NERA.2.M  \n",
       "4      SE.PRM.TENR  \n",
       "5   SE.PRM.TENR.FE  \n",
       "6   UIS.NERA.1.GPI  \n",
       "7   SE.PRM.TENR.MA  \n",
       "8       UIS.NERA.3  \n",
       "9     UIS.NERA.3.F  \n",
       "10  UIS.NERA.3.GPI  \n",
       "11    UIS.NERA.3.M  \n",
       "12      UIS.NIRA.1  \n",
       "13    UIS.NIRA.1.F  \n",
       "14  UIS.NIRA.1.GPI  "
      ]
     },
     "execution_count": 18,
     "metadata": {},
     "output_type": "execute_result"
    }
   ],
   "source": [
    "liste_code_indicator = sorted(list(data[\"Indicator Code\"].unique()))\n",
    "pd.set_option(\"display.max_colwidth\",1000)\n",
    "data[[\"Indicator Name\",\"Indicator Code\"]].head(15)"
   ]
  },
  {
   "cell_type": "markdown",
   "metadata": {},
   "source": [
    "#### plusieurs catégories d'indicateur:\n",
    "    - Sexe.\n",
    "    - Femme.\n",
    "    - Hommes.\n",
    "    - parité de genre\n",
    "    - ...."
   ]
  },
  {
   "cell_type": "markdown",
   "metadata": {},
   "source": [
    "### Il y a 3665 indicateurs tous liés à l'éducation selon la catégorie d'âge, le genre, le milieu de vie(rural/urbain) :\n",
    "  1-des indicateurs concernant la petite enfance: taux de fréquentation, taux de scolarisation....\n",
    "  \n",
    "  2-des indicateurs concernant le primaire:taux d'achèvement, taux de scolarisation, taux d'admission...\n",
    "  \n",
    "  3-des indicateurs concernant le secondaire: taux d'achèvement, taux de scolarisation...\n",
    "  \n",
    "  4-des indicateurs concernant l'Enseignement professionnel et post secondaire non tertiaire: inscription, taux de scolarisation...\n",
    "  \n",
    "  5-des indicateurs concernant l'Enseignement tertiaire: inscription, taux de fréquentation...\n",
    "  \n",
    "  6-des indicateurs concernant les enseignants : salaires, ratio élèves/enseignants....\n",
    "  \n",
    "  7-des indicateurs concernant les dépenses liées à l'éducation : rémunérations, investissements dans les établissements...\n",
    "  \n",
    "  8-des indicateurs concernant l'Alphabétisation: population analphabète, taux d'alphabétisation...\n",
    "  \n",
    "  9-des indicateurs concernant les résultats d'apprentissage:nombreux indicateurs en lecture, compréhension, mathématiques....\n",
    "  \n",
    "  10-des indicateurs concernant la réalisation: nombre moyen d'années d'études,pourcentage de population ayant fait des études supérieures....\n",
    "  \n",
    "  11-des indicateurs concernant les compétences technologiques: proportion de jeunes et d'adultes qui ont connecté et installé de nouveaux appareils...\n",
    "  \n",
    "  12-des indicateurs concernant la population: croissance démographique, population...\n",
    "  \n",
    "  13-des indicateurs concernant la main d'oeuvre:population active, chômage...\n",
    "  \n",
    "  14-des indicateurs concernant le contexte:durée de scolarité obligatoire,PIB par habitant...\n",
    "  \n",
    "  15-des indicateurs concernant la sécurité à l'école/violence: nombre d'attaques contre les étudiants, pourcentage d'élèves victimes d'intimidation...\n",
    "  \n",
    "  16-des indicateurs concernant les politiques mises en place: politique de développement de la petite enfance, santé scolaire....\n",
    "  \n",
    "  17-des indicateurs concernant la réalisation mondiale:score en maths, score en lecture...\n",
    "  \n",
    "  18-des indicateurs concernant la pauvreté de l'apprentissage: enfants non scolarisés...\n",
    "  \n",
    "  19-des indicateurs concernant l'Egalité en matière d'éducation:nombre moyen d'années de scolarité par groupe d'âge, par genre, taux de fréquentation....\n",
    "  \n",
    "    "
   ]
  },
  {
   "cell_type": "markdown",
   "metadata": {},
   "source": [
    "##### 2)-Dataframe EdstatsSeries :"
   ]
  },
  {
   "cell_type": "code",
   "execution_count": 19,
   "metadata": {},
   "outputs": [
    {
     "data": {
      "text/html": [
       "<div>\n",
       "<style scoped>\n",
       "    .dataframe tbody tr th:only-of-type {\n",
       "        vertical-align: middle;\n",
       "    }\n",
       "\n",
       "    .dataframe tbody tr th {\n",
       "        vertical-align: top;\n",
       "    }\n",
       "\n",
       "    .dataframe thead th {\n",
       "        text-align: right;\n",
       "    }\n",
       "</style>\n",
       "<table border=\"1\" class=\"dataframe\">\n",
       "  <thead>\n",
       "    <tr style=\"text-align: right;\">\n",
       "      <th></th>\n",
       "      <th>Series Code</th>\n",
       "      <th>Topic</th>\n",
       "      <th>Indicator Name</th>\n",
       "      <th>Short definition</th>\n",
       "      <th>Long definition</th>\n",
       "      <th>Unit of measure</th>\n",
       "      <th>Periodicity</th>\n",
       "      <th>Base Period</th>\n",
       "      <th>Other notes</th>\n",
       "      <th>Aggregation method</th>\n",
       "      <th>...</th>\n",
       "      <th>Notes from original source</th>\n",
       "      <th>General comments</th>\n",
       "      <th>Source</th>\n",
       "      <th>Statistical concept and methodology</th>\n",
       "      <th>Development relevance</th>\n",
       "      <th>Related source links</th>\n",
       "      <th>Other web links</th>\n",
       "      <th>Related indicators</th>\n",
       "      <th>License Type</th>\n",
       "      <th>Unnamed: 20</th>\n",
       "    </tr>\n",
       "  </thead>\n",
       "  <tbody>\n",
       "    <tr>\n",
       "      <th>0</th>\n",
       "      <td>BAR.NOED.1519.FE.ZS</td>\n",
       "      <td>Attainment</td>\n",
       "      <td>Barro-Lee: Percentage of female population age 15-19 with no education</td>\n",
       "      <td>Percentage of female population age 15-19 with no education</td>\n",
       "      <td>Percentage of female population age 15-19 with no education</td>\n",
       "      <td>NaN</td>\n",
       "      <td>NaN</td>\n",
       "      <td>NaN</td>\n",
       "      <td>NaN</td>\n",
       "      <td>NaN</td>\n",
       "      <td>...</td>\n",
       "      <td>NaN</td>\n",
       "      <td>NaN</td>\n",
       "      <td>Robert J. Barro and Jong-Wha Lee: http://www.barrolee.com/</td>\n",
       "      <td>NaN</td>\n",
       "      <td>NaN</td>\n",
       "      <td>NaN</td>\n",
       "      <td>NaN</td>\n",
       "      <td>NaN</td>\n",
       "      <td>NaN</td>\n",
       "      <td>NaN</td>\n",
       "    </tr>\n",
       "  </tbody>\n",
       "</table>\n",
       "<p>1 rows × 21 columns</p>\n",
       "</div>"
      ],
      "text/plain": [
       "           Series Code       Topic  \\\n",
       "0  BAR.NOED.1519.FE.ZS  Attainment   \n",
       "\n",
       "                                                           Indicator Name  \\\n",
       "0  Barro-Lee: Percentage of female population age 15-19 with no education   \n",
       "\n",
       "                                              Short definition  \\\n",
       "0  Percentage of female population age 15-19 with no education   \n",
       "\n",
       "                                               Long definition  \\\n",
       "0  Percentage of female population age 15-19 with no education   \n",
       "\n",
       "   Unit of measure Periodicity Base Period Other notes Aggregation method  \\\n",
       "0              NaN         NaN         NaN         NaN                NaN   \n",
       "\n",
       "   ... Notes from original source  General comments  \\\n",
       "0  ...                        NaN               NaN   \n",
       "\n",
       "                                                       Source  \\\n",
       "0  Robert J. Barro and Jong-Wha Lee: http://www.barrolee.com/   \n",
       "\n",
       "  Statistical concept and methodology Development relevance  \\\n",
       "0                                 NaN                   NaN   \n",
       "\n",
       "  Related source links Other web links  Related indicators  License Type  \\\n",
       "0                  NaN             NaN                 NaN           NaN   \n",
       "\n",
       "   Unnamed: 20  \n",
       "0          NaN  \n",
       "\n",
       "[1 rows x 21 columns]"
      ]
     },
     "execution_count": 19,
     "metadata": {},
     "output_type": "execute_result"
    }
   ],
   "source": [
    "series.head(1)"
   ]
  },
  {
   "cell_type": "code",
   "execution_count": 20,
   "metadata": {},
   "outputs": [
    {
     "data": {
      "text/plain": [
       "(3665, 21)"
      ]
     },
     "execution_count": 20,
     "metadata": {},
     "output_type": "execute_result"
    }
   ],
   "source": [
    "series.shape"
   ]
  },
  {
   "cell_type": "code",
   "execution_count": 21,
   "metadata": {},
   "outputs": [
    {
     "data": {
      "text/plain": [
       "object     15\n",
       "float64     6\n",
       "Name: count, dtype: int64"
      ]
     },
     "execution_count": 21,
     "metadata": {},
     "output_type": "execute_result"
    }
   ],
   "source": [
    "series.dtypes.value_counts()"
   ]
  },
  {
   "cell_type": "code",
   "execution_count": 22,
   "metadata": {},
   "outputs": [
    {
     "data": {
      "text/plain": [
       "Series Code                               0\n",
       "Topic                                     0\n",
       "Indicator Name                            0\n",
       "Short definition                       1509\n",
       "Long definition                           0\n",
       "Unit of measure                        3665\n",
       "Periodicity                            3566\n",
       "Base Period                            3351\n",
       "Other notes                            3113\n",
       "Aggregation method                     3618\n",
       "Limitations and exceptions             3651\n",
       "Notes from original source             3665\n",
       "General comments                       3651\n",
       "Source                                    0\n",
       "Statistical concept and methodology    3642\n",
       "Development relevance                  3662\n",
       "Related source links                   3450\n",
       "Other web links                        3665\n",
       "Related indicators                     3665\n",
       "License Type                           3665\n",
       "Unnamed: 20                            3665\n",
       "dtype: int64"
      ]
     },
     "execution_count": 22,
     "metadata": {},
     "output_type": "execute_result"
    }
   ],
   "source": [
    "series.isnull().sum()"
   ]
  },
  {
   "cell_type": "code",
   "execution_count": 23,
   "metadata": {},
   "outputs": [
    {
     "data": {
      "text/plain": [
       "<Axes: >"
      ]
     },
     "execution_count": 23,
     "metadata": {},
     "output_type": "execute_result"
    },
    {
     "data": {
      "image/png": "[encoded data removed]",
      "text/plain": [
       "<Figure size 1000x700 with 1 Axes>"
      ]
     },
     "metadata": {},
     "output_type": "display_data"
    }
   ],
   "source": [
    "plt.figure(figsize = (10,7))\n",
    "sns.heatmap(series.isna(),cbar = False)"
   ]
  },
  {
   "cell_type": "code",
   "execution_count": 24,
   "metadata": {},
   "outputs": [
    {
     "data": {
      "text/plain": [
       "Series Code                            0.000000\n",
       "Topic                                  0.000000\n",
       "Indicator Name                         0.000000\n",
       "Long definition                        0.000000\n",
       "Source                                 0.000000\n",
       "Short definition                       0.411733\n",
       "Other notes                            0.849386\n",
       "Base Period                            0.914325\n",
       "Related source links                   0.941337\n",
       "Periodicity                            0.972988\n",
       "Aggregation method                     0.987176\n",
       "Statistical concept and methodology    0.993724\n",
       "Limitations and exceptions             0.996180\n",
       "General comments                       0.996180\n",
       "Development relevance                  0.999181\n",
       "Notes from original source             1.000000\n",
       "License Type                           1.000000\n",
       "Unit of measure                        1.000000\n",
       "Other web links                        1.000000\n",
       "Related indicators                     1.000000\n",
       "Unnamed: 20                            1.000000\n",
       "dtype: float64"
      ]
     },
     "execution_count": 24,
     "metadata": {},
     "output_type": "execute_result"
    }
   ],
   "source": [
    "# porcentage des valeurs nulles da la dataframe:\n",
    "(series.isna().sum() /series.shape[0]).sort_values(ascending=True)"
   ]
  },
  {
   "cell_type": "code",
   "execution_count": 25,
   "metadata": {},
   "outputs": [
    {
     "data": {
      "text/plain": [
       "(3665, 5)"
      ]
     },
     "execution_count": 25,
     "metadata": {},
     "output_type": "execute_result"
    }
   ],
   "source": [
    "# je filtre la dataframe selon le porcentage des nan qui sont inferieur a 40%:\n",
    "series = series[series.columns[series.isna().sum() /series.shape[0] < 0.4]]\n",
    "series.shape"
   ]
  },
  {
   "cell_type": "markdown",
   "metadata": {},
   "source": [
    "- je garde que 5 colonnes. ce sont des colonnes qui contient pas des valeurs nulle est aussi qui donne des infos sur ce jeux de donnée"
   ]
  },
  {
   "cell_type": "code",
   "execution_count": 26,
   "metadata": {},
   "outputs": [
    {
     "data": {
      "text/plain": [
       "<Axes: >"
      ]
     },
     "execution_count": 26,
     "metadata": {},
     "output_type": "execute_result"
    },
    {
     "data": {
      "image/png": "[encoded data removed]",
      "text/plain": [
       "<Figure size 1000x700 with 1 Axes>"
      ]
     },
     "metadata": {},
     "output_type": "display_data"
    }
   ],
   "source": [
    "plt.figure(figsize = (10,7))\n",
    "sns.heatmap(series.isna(),cbar = False)"
   ]
  },
  {
   "cell_type": "code",
   "execution_count": 27,
   "metadata": {},
   "outputs": [
    {
     "data": {
      "text/html": [
       "<div>\n",
       "<style scoped>\n",
       "    .dataframe tbody tr th:only-of-type {\n",
       "        vertical-align: middle;\n",
       "    }\n",
       "\n",
       "    .dataframe tbody tr th {\n",
       "        vertical-align: top;\n",
       "    }\n",
       "\n",
       "    .dataframe thead th {\n",
       "        text-align: right;\n",
       "    }\n",
       "</style>\n",
       "<table border=\"1\" class=\"dataframe\">\n",
       "  <thead>\n",
       "    <tr style=\"text-align: right;\">\n",
       "      <th></th>\n",
       "      <th>Series Code</th>\n",
       "      <th>Topic</th>\n",
       "      <th>Indicator Name</th>\n",
       "      <th>Long definition</th>\n",
       "      <th>Source</th>\n",
       "    </tr>\n",
       "  </thead>\n",
       "  <tbody>\n",
       "    <tr>\n",
       "      <th>0</th>\n",
       "      <td>BAR.NOED.1519.FE.ZS</td>\n",
       "      <td>Attainment</td>\n",
       "      <td>Barro-Lee: Percentage of female population age 15-19 with no education</td>\n",
       "      <td>Percentage of female population age 15-19 with no education</td>\n",
       "      <td>Robert J. Barro and Jong-Wha Lee: http://www.barrolee.com/</td>\n",
       "    </tr>\n",
       "    <tr>\n",
       "      <th>1</th>\n",
       "      <td>BAR.NOED.1519.ZS</td>\n",
       "      <td>Attainment</td>\n",
       "      <td>Barro-Lee: Percentage of population age 15-19 with no education</td>\n",
       "      <td>Percentage of population age 15-19 with no education</td>\n",
       "      <td>Robert J. Barro and Jong-Wha Lee: http://www.barrolee.com/</td>\n",
       "    </tr>\n",
       "    <tr>\n",
       "      <th>2</th>\n",
       "      <td>BAR.NOED.15UP.FE.ZS</td>\n",
       "      <td>Attainment</td>\n",
       "      <td>Barro-Lee: Percentage of female population age 15+ with no education</td>\n",
       "      <td>Percentage of female population age 15+ with no education</td>\n",
       "      <td>Robert J. Barro and Jong-Wha Lee: http://www.barrolee.com/</td>\n",
       "    </tr>\n",
       "  </tbody>\n",
       "</table>\n",
       "</div>"
      ],
      "text/plain": [
       "           Series Code       Topic  \\\n",
       "0  BAR.NOED.1519.FE.ZS  Attainment   \n",
       "1     BAR.NOED.1519.ZS  Attainment   \n",
       "2  BAR.NOED.15UP.FE.ZS  Attainment   \n",
       "\n",
       "                                                           Indicator Name  \\\n",
       "0  Barro-Lee: Percentage of female population age 15-19 with no education   \n",
       "1         Barro-Lee: Percentage of population age 15-19 with no education   \n",
       "2    Barro-Lee: Percentage of female population age 15+ with no education   \n",
       "\n",
       "                                               Long definition  \\\n",
       "0  Percentage of female population age 15-19 with no education   \n",
       "1         Percentage of population age 15-19 with no education   \n",
       "2    Percentage of female population age 15+ with no education   \n",
       "\n",
       "                                                       Source  \n",
       "0  Robert J. Barro and Jong-Wha Lee: http://www.barrolee.com/  \n",
       "1  Robert J. Barro and Jong-Wha Lee: http://www.barrolee.com/  \n",
       "2  Robert J. Barro and Jong-Wha Lee: http://www.barrolee.com/  "
      ]
     },
     "execution_count": 27,
     "metadata": {},
     "output_type": "execute_result"
    }
   ],
   "source": [
    "series.head(3)"
   ]
  },
  {
   "cell_type": "markdown",
   "metadata": {},
   "source": [
    "##### 3)-Dataframe EdstatsFootNote:"
   ]
  },
  {
   "cell_type": "code",
   "execution_count": 28,
   "metadata": {},
   "outputs": [
    {
     "data": {
      "text/html": [
       "<div>\n",
       "<style scoped>\n",
       "    .dataframe tbody tr th:only-of-type {\n",
       "        vertical-align: middle;\n",
       "    }\n",
       "\n",
       "    .dataframe tbody tr th {\n",
       "        vertical-align: top;\n",
       "    }\n",
       "\n",
       "    .dataframe thead th {\n",
       "        text-align: right;\n",
       "    }\n",
       "</style>\n",
       "<table border=\"1\" class=\"dataframe\">\n",
       "  <thead>\n",
       "    <tr style=\"text-align: right;\">\n",
       "      <th></th>\n",
       "      <th>CountryCode</th>\n",
       "      <th>SeriesCode</th>\n",
       "      <th>Year</th>\n",
       "      <th>DESCRIPTION</th>\n",
       "      <th>Unnamed: 4</th>\n",
       "    </tr>\n",
       "  </thead>\n",
       "  <tbody>\n",
       "    <tr>\n",
       "      <th>0</th>\n",
       "      <td>ABW</td>\n",
       "      <td>SE.PRE.ENRL.FE</td>\n",
       "      <td>YR2001</td>\n",
       "      <td>Country estimation.</td>\n",
       "      <td>NaN</td>\n",
       "    </tr>\n",
       "    <tr>\n",
       "      <th>1</th>\n",
       "      <td>ABW</td>\n",
       "      <td>SE.TER.TCHR.FE</td>\n",
       "      <td>YR2005</td>\n",
       "      <td>Country estimation.</td>\n",
       "      <td>NaN</td>\n",
       "    </tr>\n",
       "    <tr>\n",
       "      <th>2</th>\n",
       "      <td>ABW</td>\n",
       "      <td>SE.PRE.TCHR.FE</td>\n",
       "      <td>YR2000</td>\n",
       "      <td>Country estimation.</td>\n",
       "      <td>NaN</td>\n",
       "    </tr>\n",
       "  </tbody>\n",
       "</table>\n",
       "</div>"
      ],
      "text/plain": [
       "  CountryCode      SeriesCode    Year          DESCRIPTION  Unnamed: 4\n",
       "0         ABW  SE.PRE.ENRL.FE  YR2001  Country estimation.         NaN\n",
       "1         ABW  SE.TER.TCHR.FE  YR2005  Country estimation.         NaN\n",
       "2         ABW  SE.PRE.TCHR.FE  YR2000  Country estimation.         NaN"
      ]
     },
     "execution_count": 28,
     "metadata": {},
     "output_type": "execute_result"
    }
   ],
   "source": [
    "note.head(3)"
   ]
  },
  {
   "cell_type": "code",
   "execution_count": 29,
   "metadata": {},
   "outputs": [
    {
     "data": {
      "text/plain": [
       "(643638, 5)"
      ]
     },
     "execution_count": 29,
     "metadata": {},
     "output_type": "execute_result"
    }
   ],
   "source": [
    "note.shape"
   ]
  },
  {
   "cell_type": "code",
   "execution_count": 30,
   "metadata": {},
   "outputs": [
    {
     "data": {
      "text/plain": [
       "<bound method IndexOpsMixin.nunique of 0         YR2001\n",
       "1         YR2005\n",
       "2         YR2000\n",
       "3         YR2004\n",
       "4         YR2006\n",
       "           ...  \n",
       "643633    YR2007\n",
       "643634    YR2014\n",
       "643635    YR2015\n",
       "643636    YR2017\n",
       "643637    YR2017\n",
       "Name: Year, Length: 643638, dtype: object>"
      ]
     },
     "execution_count": 30,
     "metadata": {},
     "output_type": "execute_result"
    }
   ],
   "source": [
    "\n",
    "note['Year'].nunique"
   ]
  },
  {
   "cell_type": "code",
   "execution_count": 31,
   "metadata": {},
   "outputs": [
    {
     "data": {
      "text/plain": [
       "object     4\n",
       "float64    1\n",
       "Name: count, dtype: int64"
      ]
     },
     "execution_count": 31,
     "metadata": {},
     "output_type": "execute_result"
    }
   ],
   "source": [
    "note.dtypes.value_counts()"
   ]
  },
  {
   "cell_type": "code",
   "execution_count": 32,
   "metadata": {},
   "outputs": [
    {
     "data": {
      "text/plain": [
       "CountryCode         0\n",
       "SeriesCode          0\n",
       "Year                0\n",
       "DESCRIPTION         0\n",
       "Unnamed: 4     643638\n",
       "dtype: int64"
      ]
     },
     "execution_count": 32,
     "metadata": {},
     "output_type": "execute_result"
    }
   ],
   "source": [
    "note.isnull().sum()"
   ]
  },
  {
   "cell_type": "code",
   "execution_count": 33,
   "metadata": {},
   "outputs": [],
   "source": [
    "# Rendre la colonne Year en type integer et enlever YR:\n",
    "note[\"Year\"] = note[\"Year\"].str[2:].astype(str).astype(int)"
   ]
  },
  {
   "cell_type": "markdown",
   "metadata": {},
   "source": [
    "##### 4)-DataFrame EdstatsCountry:"
   ]
  },
  {
   "cell_type": "code",
   "execution_count": 34,
   "metadata": {},
   "outputs": [
    {
     "data": {
      "text/html": [
       "<div>\n",
       "<style scoped>\n",
       "    .dataframe tbody tr th:only-of-type {\n",
       "        vertical-align: middle;\n",
       "    }\n",
       "\n",
       "    .dataframe tbody tr th {\n",
       "        vertical-align: top;\n",
       "    }\n",
       "\n",
       "    .dataframe thead th {\n",
       "        text-align: right;\n",
       "    }\n",
       "</style>\n",
       "<table border=\"1\" class=\"dataframe\">\n",
       "  <thead>\n",
       "    <tr style=\"text-align: right;\">\n",
       "      <th></th>\n",
       "      <th>Country Code</th>\n",
       "      <th>Short Name</th>\n",
       "      <th>Table Name</th>\n",
       "      <th>Long Name</th>\n",
       "      <th>2-alpha code</th>\n",
       "      <th>Currency Unit</th>\n",
       "      <th>Special Notes</th>\n",
       "      <th>Region</th>\n",
       "      <th>Income Group</th>\n",
       "      <th>WB-2 code</th>\n",
       "      <th>...</th>\n",
       "      <th>IMF data dissemination standard</th>\n",
       "      <th>Latest population census</th>\n",
       "      <th>Latest household survey</th>\n",
       "      <th>Source of most recent Income and expenditure data</th>\n",
       "      <th>Vital registration complete</th>\n",
       "      <th>Latest agricultural census</th>\n",
       "      <th>Latest industrial data</th>\n",
       "      <th>Latest trade data</th>\n",
       "      <th>Latest water withdrawal data</th>\n",
       "      <th>Unnamed: 31</th>\n",
       "    </tr>\n",
       "  </thead>\n",
       "  <tbody>\n",
       "    <tr>\n",
       "      <th>0</th>\n",
       "      <td>ABW</td>\n",
       "      <td>Aruba</td>\n",
       "      <td>Aruba</td>\n",
       "      <td>Aruba</td>\n",
       "      <td>AW</td>\n",
       "      <td>Aruban florin</td>\n",
       "      <td>SNA data for 2000-2011 are updated from official government statistics; 1994-1999 from UN databases. Base year has changed from 1995 to 2000.</td>\n",
       "      <td>Latin America &amp; Caribbean</td>\n",
       "      <td>High income: nonOECD</td>\n",
       "      <td>AW</td>\n",
       "      <td>...</td>\n",
       "      <td>NaN</td>\n",
       "      <td>2010</td>\n",
       "      <td>NaN</td>\n",
       "      <td>NaN</td>\n",
       "      <td>Yes</td>\n",
       "      <td>NaN</td>\n",
       "      <td>NaN</td>\n",
       "      <td>2012.0</td>\n",
       "      <td>NaN</td>\n",
       "      <td>NaN</td>\n",
       "    </tr>\n",
       "    <tr>\n",
       "      <th>1</th>\n",
       "      <td>AFG</td>\n",
       "      <td>Afghanistan</td>\n",
       "      <td>Afghanistan</td>\n",
       "      <td>Islamic State of Afghanistan</td>\n",
       "      <td>AF</td>\n",
       "      <td>Afghan afghani</td>\n",
       "      <td>Fiscal year end: March 20; reporting period for national accounts data: FY (from 2013 are CY). National accounts data are sourced from the IMF and differ from the Central Statistics Organization numbers due to exclusion of the opium economy.</td>\n",
       "      <td>South Asia</td>\n",
       "      <td>Low income</td>\n",
       "      <td>AF</td>\n",
       "      <td>...</td>\n",
       "      <td>General Data Dissemination System (GDDS)</td>\n",
       "      <td>1979</td>\n",
       "      <td>Multiple Indicator Cluster Survey (MICS), 2010/11</td>\n",
       "      <td>Integrated household survey (IHS), 2008</td>\n",
       "      <td>NaN</td>\n",
       "      <td>2013/14</td>\n",
       "      <td>NaN</td>\n",
       "      <td>2012.0</td>\n",
       "      <td>2000</td>\n",
       "      <td>NaN</td>\n",
       "    </tr>\n",
       "  </tbody>\n",
       "</table>\n",
       "<p>2 rows × 32 columns</p>\n",
       "</div>"
      ],
      "text/plain": [
       "  Country Code   Short Name   Table Name                     Long Name  \\\n",
       "0          ABW        Aruba        Aruba                         Aruba   \n",
       "1          AFG  Afghanistan  Afghanistan  Islamic State of Afghanistan   \n",
       "\n",
       "  2-alpha code   Currency Unit  \\\n",
       "0           AW   Aruban florin   \n",
       "1           AF  Afghan afghani   \n",
       "\n",
       "                                                                                                                                                                                                                                       Special Notes  \\\n",
       "0                                                                                                      SNA data for 2000-2011 are updated from official government statistics; 1994-1999 from UN databases. Base year has changed from 1995 to 2000.   \n",
       "1  Fiscal year end: March 20; reporting period for national accounts data: FY (from 2013 are CY). National accounts data are sourced from the IMF and differ from the Central Statistics Organization numbers due to exclusion of the opium economy.   \n",
       "\n",
       "                      Region          Income Group WB-2 code  ...  \\\n",
       "0  Latin America & Caribbean  High income: nonOECD        AW  ...   \n",
       "1                 South Asia            Low income        AF  ...   \n",
       "\n",
       "            IMF data dissemination standard  Latest population census  \\\n",
       "0                                       NaN                      2010   \n",
       "1  General Data Dissemination System (GDDS)                      1979   \n",
       "\n",
       "                             Latest household survey  \\\n",
       "0                                                NaN   \n",
       "1  Multiple Indicator Cluster Survey (MICS), 2010/11   \n",
       "\n",
       "  Source of most recent Income and expenditure data  \\\n",
       "0                                               NaN   \n",
       "1           Integrated household survey (IHS), 2008   \n",
       "\n",
       "  Vital registration complete Latest agricultural census  \\\n",
       "0                         Yes                        NaN   \n",
       "1                         NaN                    2013/14   \n",
       "\n",
       "  Latest industrial data Latest trade data Latest water withdrawal data  \\\n",
       "0                    NaN            2012.0                          NaN   \n",
       "1                    NaN            2012.0                         2000   \n",
       "\n",
       "  Unnamed: 31  \n",
       "0         NaN  \n",
       "1         NaN  \n",
       "\n",
       "[2 rows x 32 columns]"
      ]
     },
     "execution_count": 34,
     "metadata": {},
     "output_type": "execute_result"
    }
   ],
   "source": [
    "country.head(2)"
   ]
  },
  {
   "cell_type": "code",
   "execution_count": 35,
   "metadata": {},
   "outputs": [
    {
     "data": {
      "text/plain": [
       "(241, 32)"
      ]
     },
     "execution_count": 35,
     "metadata": {},
     "output_type": "execute_result"
    }
   ],
   "source": [
    "country.shape"
   ]
  },
  {
   "cell_type": "code",
   "execution_count": 36,
   "metadata": {},
   "outputs": [
    {
     "data": {
      "text/plain": [
       "object     28\n",
       "float64     4\n",
       "Name: count, dtype: int64"
      ]
     },
     "execution_count": 36,
     "metadata": {},
     "output_type": "execute_result"
    }
   ],
   "source": [
    "country.dtypes.value_counts()"
   ]
  },
  {
   "cell_type": "code",
   "execution_count": 37,
   "metadata": {},
   "outputs": [
    {
     "data": {
      "text/plain": [
       "Country Code                                           0\n",
       "Short Name                                             0\n",
       "Table Name                                             0\n",
       "Long Name                                              0\n",
       "2-alpha code                                           3\n",
       "Currency Unit                                         26\n",
       "Special Notes                                         96\n",
       "Region                                                27\n",
       "Income Group                                          27\n",
       "WB-2 code                                              1\n",
       "National accounts base year                           36\n",
       "National accounts reference year                     209\n",
       "SNA price valuation                                   44\n",
       "Lending category                                      97\n",
       "Other groups                                         183\n",
       "System of National Accounts                           26\n",
       "Alternative conversion factor                        194\n",
       "PPP survey year                                       96\n",
       "Balance of Payments Manual in use                     60\n",
       "External debt Reporting status                       117\n",
       "System of trade                                       41\n",
       "Government Accounting concept                         80\n",
       "IMF data dissemination standard                       60\n",
       "Latest population census                              28\n",
       "Latest household survey                              100\n",
       "Source of most recent Income and expenditure data     81\n",
       "Vital registration complete                          130\n",
       "Latest agricultural census                            99\n",
       "Latest industrial data                               134\n",
       "Latest trade data                                     56\n",
       "Latest water withdrawal data                          62\n",
       "Unnamed: 31                                          241\n",
       "dtype: int64"
      ]
     },
     "execution_count": 37,
     "metadata": {},
     "output_type": "execute_result"
    }
   ],
   "source": [
    "country.isnull().sum()"
   ]
  },
  {
   "cell_type": "code",
   "execution_count": 38,
   "metadata": {},
   "outputs": [
    {
     "data": {
      "text/plain": [
       "<Axes: >"
      ]
     },
     "execution_count": 38,
     "metadata": {},
     "output_type": "execute_result"
    },
    {
     "data": {
      "image/png": "[encoded data removed]",
      "text/plain": [
       "<Figure size 1000x700 with 1 Axes>"
      ]
     },
     "metadata": {},
     "output_type": "display_data"
    }
   ],
   "source": [
    "plt.figure(figsize = (10,7))\n",
    "sns.heatmap(country.isna(),cbar = False)"
   ]
  },
  {
   "cell_type": "markdown",
   "metadata": {},
   "source": [
    "- D'aprés le heatmap on vois bcp de colonne qui contient des valeurs nulles qui donne pas vraiment des informations interessantes,"
   ]
  },
  {
   "cell_type": "code",
   "execution_count": 39,
   "metadata": {},
   "outputs": [
    {
     "name": "stdout",
     "output_type": "stream",
     "text": [
      " on trouve 241 dans edstatsCountry\n"
     ]
    }
   ],
   "source": [
    "# Vérifier le nombre de pays dans EdstatsCountry\n",
    "all_country = country['Country Code'].unique()\n",
    "print(f' on trouve {len(all_country)} dans edstatsCountry')"
   ]
  },
  {
   "cell_type": "markdown",
   "metadata": {},
   "source": [
    "#### afficher les données catégorielles de dataframe country:"
   ]
  },
  {
   "cell_type": "code",
   "execution_count": 40,
   "metadata": {},
   "outputs": [
    {
     "name": "stdout",
     "output_type": "stream",
     "text": [
      "Country Code--------------------------------------,\n",
      " ['ABW' 'AFG' 'AGO' 'ALB' 'AND' 'ARB' 'ARE' 'ARG' 'ARM' 'ASM' 'ATG' 'AUS'\n",
      " 'AUT' 'AZE' 'BDI' 'BEL' 'BEN' 'BFA' 'BGD' 'BGR' 'BHR' 'BHS' 'BIH' 'BLR'\n",
      " 'BLZ' 'BMU' 'BOL' 'BRA' 'BRB' 'BRN' 'BTN' 'BWA' 'CAF' 'CAN' 'CHE' 'CHI'\n",
      " 'CHL' 'CHN' 'CIV' 'CMR' 'COD' 'COG' 'COL' 'COM' 'CPV' 'CRI' 'CUB' 'CUW'\n",
      " 'CYM' 'CYP' 'CZE' 'DEU' 'DJI' 'DMA' 'DNK' 'DOM' 'DZA' 'EAP' 'EAS' 'ECA'\n",
      " 'ECS' 'ECU' 'EGY' 'EMU' 'ERI' 'ESP' 'EST' 'ETH' 'EUU' 'FIN' 'FJI' 'FRA'\n",
      " 'FRO' 'FSM' 'GAB' 'GBR' 'GEO' 'GHA' 'GIB' 'GIN' 'GMB' 'GNB' 'GNQ' 'GRC'\n",
      " 'GRD' 'GRL' 'GTM' 'GUM' 'GUY' 'HIC' 'HKG' 'HND' 'HPC' 'HRV' 'HTI' 'HUN'\n",
      " 'IDN' 'IMN' 'IND' 'IRL' 'IRN' 'IRQ' 'ISL' 'ISR' 'ITA' 'JAM' 'JOR' 'JPN'\n",
      " 'KAZ' 'KEN' 'KGZ' 'KHM' 'KIR' 'KNA' 'KOR' 'KWT' 'LAC' 'LAO' 'LBN' 'LBR'\n",
      " 'LBY' 'LCA' 'LCN' 'LDC' 'LIC' 'LIE' 'LKA' 'LMC' 'LMY' 'LSO' 'LTU' 'LUX'\n",
      " 'LVA' 'MAC' 'MAF' 'MAR' 'MCO' 'MDA' 'MDG' 'MDV' 'MEA' 'MEX' 'MHL' 'MIC'\n",
      " 'MKD' 'MLI' 'MLT' 'MMR' 'MNA' 'MNE' 'MNG' 'MNP' 'MOZ' 'MRT' 'MUS' 'MWI'\n",
      " 'MYS' 'NAC' 'NAM' 'NCL' 'NER' 'NGA' 'NIC' 'NLD' 'NOR' 'NPL' 'NRU' 'NZL'\n",
      " 'OED' 'OMN' 'PAK' 'PAN' 'PER' 'PHL' 'PLW' 'PNG' 'POL' 'PRI' 'PRK' 'PRT'\n",
      " 'PRY' 'PSE' 'PYF' 'QAT' 'ROU' 'RUS' 'RWA' 'SAS' 'SAU' 'SDN' 'SEN' 'SGP'\n",
      " 'SLB' 'SLE' 'SLV' 'SMR' 'SOM' 'SRB' 'SSA' 'SSD' 'SSF' 'STP' 'SUR' 'SVK'\n",
      " 'SVN' 'SWE' 'SWZ' 'SXM' 'SYC' 'SYR' 'TCA' 'TCD' 'TGO' 'THA' 'TJK' 'TKM'\n",
      " 'TLS' 'TON' 'TTO' 'TUN' 'TUR' 'TUV' 'TZA' 'UGA' 'UKR' 'UMC' 'URY' 'USA'\n",
      " 'UZB' 'VCT' 'VEN' 'VIR' 'VNM' 'VUT' 'WLD' 'WSM' 'XKX' 'YEM' 'ZAF' 'ZMB'\n",
      " 'ZWE']\n",
      "Short Name----------------------------------------,\n",
      " ['Aruba' 'Afghanistan' 'Angola' 'Albania' 'Andorra' 'Arab World'\n",
      " 'United Arab Emirates' 'Argentina' 'Armenia' 'American Samoa'\n",
      " 'Antigua and Barbuda' 'Australia' 'Austria' 'Azerbaijan' 'Burundi'\n",
      " 'Belgium' 'Benin' 'Burkina Faso' 'Bangladesh' 'Bulgaria' 'Bahrain'\n",
      " 'The Bahamas' 'Bosnia and Herzegovina' 'Belarus' 'Belize' 'Bermuda'\n",
      " 'Bolivia' 'Brazil' 'Barbados' 'Brunei' 'Bhutan' 'Botswana'\n",
      " 'Central African Republic' 'Canada' 'Switzerland' 'Channel Islands'\n",
      " 'Chile' 'China' \"Côte d'Ivoire\" 'Cameroon' 'Dem. Rep. Congo' 'Congo'\n",
      " 'Colombia' 'Comoros' 'Cabo Verde' 'Costa Rica' 'Cuba' 'Curaçao'\n",
      " 'Cayman Islands' 'Cyprus' 'Czech Republic' 'Germany' 'Djibouti'\n",
      " 'Dominica' 'Denmark' 'Dominican Republic' 'Algeria'\n",
      " 'East Asia & Pacific (developing only)'\n",
      " 'East Asia & Pacific (all income levels)'\n",
      " 'Europe & Central Asia (developing only)'\n",
      " 'Europe & Central Asia (all income levels)' 'Ecuador' 'Egypt' 'Euro area'\n",
      " 'Eritrea' 'Spain' 'Estonia' 'Ethiopia' 'European Union' 'Finland' 'Fiji'\n",
      " 'France' 'Faeroe Islands' 'Micronesia' 'Gabon' 'United Kingdom' 'Georgia'\n",
      " 'Ghana' 'Gibraltar' 'Guinea' 'The Gambia' 'Guinea-Bissau'\n",
      " 'Equatorial Guinea' 'Greece' 'Grenada' 'Greenland' 'Guatemala' 'Guam'\n",
      " 'Guyana' 'High income' 'Hong Kong SAR, China' 'Honduras'\n",
      " 'Heavily indebted poor countries (HIPC)' 'Croatia' 'Haiti' 'Hungary'\n",
      " 'Indonesia' 'Isle of Man' 'India' 'Ireland' 'Iran' 'Iraq' 'Iceland'\n",
      " 'Israel' 'Italy' 'Jamaica' 'Jordan' 'Japan' 'Kazakhstan' 'Kenya'\n",
      " 'Kyrgyz Republic' 'Cambodia' 'Kiribati' 'St. Kitts and Nevis' 'Korea'\n",
      " 'Kuwait' 'Latin America & Caribbean (developing only)' 'Lao PDR'\n",
      " 'Lebanon' 'Liberia' 'Libya' 'St. Lucia'\n",
      " 'Latin America & Caribbean (all income levels)'\n",
      " 'Least developed countries: UN classification' 'Low income'\n",
      " 'Liechtenstein' 'Sri Lanka' 'Lower middle income' 'Low & middle income'\n",
      " 'Lesotho' 'Lithuania' 'Luxembourg' 'Latvia' 'Macao SAR, China'\n",
      " 'St. Martin (French part)' 'Morocco' 'Monaco' 'Moldova' 'Madagascar'\n",
      " 'Maldives' 'Middle East & North Africa (all income levels)' 'Mexico'\n",
      " 'Marshall Islands' 'Middle income' 'Macedonia' 'Mali' 'Malta' 'Myanmar'\n",
      " 'Middle East & North Africa (developing only)' 'Montenegro' 'Mongolia'\n",
      " 'Northern Mariana Islands' 'Mozambique' 'Mauritania' 'Mauritius' 'Malawi'\n",
      " 'Malaysia' 'North America' 'Namibia' 'New Caledonia' 'Niger' 'Nigeria'\n",
      " 'Nicaragua' 'Netherlands' 'Norway' 'Nepal' 'Nauru' 'New Zealand'\n",
      " 'OECD members' 'Oman' 'Pakistan' 'Panama' 'Peru' 'Philippines' 'Palau'\n",
      " 'Papua New Guinea' 'Poland' 'Puerto Rico' \"Dem. People's Rep. Korea\"\n",
      " 'Portugal' 'Paraguay' 'West Bank and Gaza' 'French Polynesia' 'Qatar'\n",
      " 'Romania' 'Russia' 'Rwanda' 'South Asia' 'Saudi Arabia' 'Sudan' 'Senegal'\n",
      " 'Singapore' 'Solomon Islands' 'Sierra Leone' 'El Salvador' 'San Marino'\n",
      " 'Somalia' 'Serbia' 'Sub-Saharan Africa (developing only)' 'South Sudan'\n",
      " 'Sub-Saharan Africa (all income levels)' 'São Tomé and Principe'\n",
      " 'Suriname' 'Slovak Republic' 'Slovenia' 'Sweden' 'Swaziland'\n",
      " 'Sint Maarten (Dutch part)' 'Seychelles' 'Syrian Arab Republic'\n",
      " 'Turks and Caicos Islands' 'Chad' 'Togo' 'Thailand' 'Tajikistan'\n",
      " 'Turkmenistan' 'Timor-Leste' 'Tonga' 'Trinidad and Tobago' 'Tunisia'\n",
      " 'Turkey' 'Tuvalu' 'Tanzania' 'Uganda' 'Ukraine' 'Upper middle income'\n",
      " 'Uruguay' 'United States' 'Uzbekistan' 'St. Vincent and the Grenadines'\n",
      " 'Venezuela' 'Virgin Islands' 'Vietnam' 'Vanuatu' 'World' 'Samoa' 'Kosovo'\n",
      " 'Yemen' 'South Africa' 'Zambia' 'Zimbabwe']\n",
      "Table Name----------------------------------------,\n",
      " ['Aruba' 'Afghanistan' 'Angola' 'Albania' 'Andorra' 'Arab World'\n",
      " 'United Arab Emirates' 'Argentina' 'Armenia' 'American Samoa'\n",
      " 'Antigua and Barbuda' 'Australia' 'Austria' 'Azerbaijan' 'Burundi'\n",
      " 'Belgium' 'Benin' 'Burkina Faso' 'Bangladesh' 'Bulgaria' 'Bahrain'\n",
      " 'Bahamas, The' 'Bosnia and Herzegovina' 'Belarus' 'Belize' 'Bermuda'\n",
      " 'Bolivia' 'Brazil' 'Barbados' 'Brunei Darussalam' 'Bhutan' 'Botswana'\n",
      " 'Central African Republic' 'Canada' 'Switzerland' 'Channel Islands'\n",
      " 'Chile' 'China' \"Côte d'Ivoire\" 'Cameroon' 'Congo, Dem. Rep.'\n",
      " 'Congo, Rep.' 'Colombia' 'Comoros' 'Cabo Verde' 'Costa Rica' 'Cuba'\n",
      " 'Curaçao' 'Cayman Islands' 'Cyprus' 'Czech Republic' 'Germany' 'Djibouti'\n",
      " 'Dominica' 'Denmark' 'Dominican Republic' 'Algeria' 'East Asia & Pacific'\n",
      " 'East Asia & Pacific (all income levels)' 'Europe & Central Asia'\n",
      " 'Europe & Central Asia (all income levels)' 'Ecuador' 'Egypt, Arab Rep.'\n",
      " 'Euro area' 'Eritrea' 'Spain' 'Estonia' 'Ethiopia' 'European Union'\n",
      " 'Finland' 'Fiji' 'France' 'Faeroe Islands' 'Micronesia, Fed. Sts.'\n",
      " 'Gabon' 'United Kingdom' 'Georgia' 'Ghana' 'Gibraltar' 'Guinea'\n",
      " 'Gambia, The' 'Guinea-Bissau' 'Equatorial Guinea' 'Greece' 'Grenada'\n",
      " 'Greenland' 'Guatemala' 'Guam' 'Guyana' 'High income'\n",
      " 'Hong Kong SAR, China' 'Honduras'\n",
      " 'Heavily indebted poor countries (HIPC)' 'Croatia' 'Haiti' 'Hungary'\n",
      " 'Indonesia' 'Isle of Man' 'India' 'Ireland' 'Iran, Islamic Rep.' 'Iraq'\n",
      " 'Iceland' 'Israel' 'Italy' 'Jamaica' 'Jordan' 'Japan' 'Kazakhstan'\n",
      " 'Kenya' 'Kyrgyz Republic' 'Cambodia' 'Kiribati' 'St. Kitts and Nevis'\n",
      " 'Korea, Rep.' 'Kuwait' 'Latin America & Caribbean' 'Lao PDR' 'Lebanon'\n",
      " 'Liberia' 'Libya' 'St. Lucia'\n",
      " 'Latin America & Caribbean (all income levels)'\n",
      " 'Least developed countries: UN classification' 'Low income'\n",
      " 'Liechtenstein' 'Sri Lanka' 'Lower middle income' 'Low & middle income'\n",
      " 'Lesotho' 'Lithuania' 'Luxembourg' 'Latvia' 'Macao SAR, China'\n",
      " 'St. Martin (French part)' 'Morocco' 'Monaco' 'Moldova' 'Madagascar'\n",
      " 'Maldives' 'Middle East & North Africa (all income levels)' 'Mexico'\n",
      " 'Marshall Islands' 'Middle income' 'Macedonia, FYR' 'Mali' 'Malta'\n",
      " 'Myanmar' 'Middle East & North Africa' 'Montenegro' 'Mongolia'\n",
      " 'Northern Mariana Islands' 'Mozambique' 'Mauritania' 'Mauritius' 'Malawi'\n",
      " 'Malaysia' 'North America' 'Namibia' 'New Caledonia' 'Niger' 'Nigeria'\n",
      " 'Nicaragua' 'Netherlands' 'Norway' 'Nepal' 'Nauru' 'New Zealand'\n",
      " 'OECD members' 'Oman' 'Pakistan' 'Panama' 'Peru' 'Philippines' 'Palau'\n",
      " 'Papua New Guinea' 'Poland' 'Puerto Rico' 'Korea, Dem. Rep.' 'Portugal'\n",
      " 'Paraguay' 'West Bank and Gaza' 'French Polynesia' 'Qatar' 'Romania'\n",
      " 'Russian Federation' 'Rwanda' 'South Asia' 'Saudi Arabia' 'Sudan'\n",
      " 'Senegal' 'Singapore' 'Solomon Islands' 'Sierra Leone' 'El Salvador'\n",
      " 'San Marino' 'Somalia' 'Serbia' 'Sub-Saharan Africa' 'South Sudan'\n",
      " 'Sub-Saharan Africa (all income levels)' 'São Tomé and Principe'\n",
      " 'Suriname' 'Slovak Republic' 'Slovenia' 'Sweden' 'Swaziland'\n",
      " 'Sint Maarten (Dutch part)' 'Seychelles' 'Syrian Arab Republic'\n",
      " 'Turks and Caicos Islands' 'Chad' 'Togo' 'Thailand' 'Tajikistan'\n",
      " 'Turkmenistan' 'Timor-Leste' 'Tonga' 'Trinidad and Tobago' 'Tunisia'\n",
      " 'Turkey' 'Tuvalu' 'Tanzania' 'Uganda' 'Ukraine' 'Upper middle income'\n",
      " 'Uruguay' 'United States' 'Uzbekistan' 'St. Vincent and the Grenadines'\n",
      " 'Venezuela, RB' 'Virgin Islands (U.S.)' 'Vietnam' 'Vanuatu' 'World'\n",
      " 'Samoa' 'Kosovo' 'Yemen, Rep.' 'South Africa' 'Zambia' 'Zimbabwe']\n",
      "Long Name-----------------------------------------,\n",
      " ['Aruba' 'Islamic State of Afghanistan' \"People's Republic of Angola\"\n",
      " 'Republic of Albania' 'Principality of Andorra' 'Arab World'\n",
      " 'United Arab Emirates' 'Argentine Republic' 'Republic of Armenia'\n",
      " 'American Samoa' 'Antigua and Barbuda' 'Commonwealth of Australia'\n",
      " 'Republic of Austria' 'Republic of Azerbaijan' 'Republic of Burundi'\n",
      " 'Kingdom of Belgium' 'Republic of Benin' 'Burkina Faso'\n",
      " \"People's Republic of Bangladesh\" 'Republic of Bulgaria'\n",
      " 'Kingdom of Bahrain' 'Commonwealth of The Bahamas'\n",
      " 'Bosnia and Herzegovina' 'Republic of Belarus' 'Belize' 'The Bermudas'\n",
      " 'Plurinational State of Bolivia' 'Federative Republic of Brazil'\n",
      " 'Barbados' 'Brunei Darussalam' 'Kingdom of Bhutan' 'Republic of Botswana'\n",
      " 'Central African Republic' 'Canada' 'Switzerland' 'Channel Islands'\n",
      " 'Republic of Chile' \"People's Republic of China\"\n",
      " \"Republic of Côte d'Ivoire\" 'Republic of Cameroon'\n",
      " 'Democratic Republic of the Congo' 'Republic of Congo'\n",
      " 'Republic of Colombia' 'Union of the Comoros' 'Republic of Cabo Verde'\n",
      " 'Republic of Costa Rica' 'Republic of Cuba' 'Curaçao' 'Cayman Islands'\n",
      " 'Republic of Cyprus' 'Czech Republic' 'Federal Republic of Germany'\n",
      " 'Republic of Djibouti' 'Commonwealth of Dominica' 'Kingdom of Denmark'\n",
      " 'Dominican Republic' \"People's Democratic Republic of Algeria\"\n",
      " 'East Asia & Pacific (developing only)'\n",
      " 'East Asia & Pacific (all income levels)'\n",
      " 'Europe & Central Asia (developing only)'\n",
      " 'Europe & Central Asia (all income levels)' 'Republic of Ecuador'\n",
      " 'Arab Republic of Egypt' 'Euro area' 'State of Eritrea'\n",
      " 'Kingdom of Spain' 'Republic of Estonia'\n",
      " 'Federal Democratic Republic of Ethiopia' 'European Union'\n",
      " 'Republic of Finland' 'Republic of Fiji' 'French Republic'\n",
      " 'Faeroe Islands' 'Federated States of Micronesia' 'Gabonese Republic'\n",
      " 'United Kingdom of Great Britain and Northern Ireland' 'Georgia'\n",
      " 'Republic of Ghana' 'Gibraltar' 'Republic of Guinea'\n",
      " 'Republic of The Gambia' 'Republic of Guinea-Bissau'\n",
      " 'Republic of Equatorial Guinea' 'Hellenic Republic' 'Grenada' 'Greenland'\n",
      " 'Republic of Guatemala' 'Guam' 'Co-operative Republic of Guyana'\n",
      " 'High income'\n",
      " \"Hong Kong Special Administrative Region of the People's Republic of China\"\n",
      " 'Republic of Honduras' 'Heavily indebted poor countries (HIPC)'\n",
      " 'Republic of Croatia' 'Republic of Haiti' 'Hungary'\n",
      " 'Republic of Indonesia' 'Isle of Man' 'Republic of India' 'Ireland'\n",
      " 'Islamic Republic of Iran' 'Republic of Iraq' 'Republic of Iceland'\n",
      " 'State of Israel' 'Italian Republic' 'Jamaica'\n",
      " 'Hashemite Kingdom of Jordan' 'Japan' 'Republic of Kazakhstan'\n",
      " 'Republic of Kenya' 'Kyrgyz Republic' 'Kingdom of Cambodia'\n",
      " 'Republic of Kiribati' 'St. Kitts and Nevis' 'Republic of Korea'\n",
      " 'State of Kuwait' 'Latin America & Caribbean (developing only)'\n",
      " \"Lao People's Democratic Republic\" 'Lebanese Republic'\n",
      " 'Republic of Liberia' \"Socialist People's Libyan Arab Jamahiriya\"\n",
      " 'St. Lucia' 'Latin America & Caribbean (all income levels)'\n",
      " 'Least developed countries: UN classification' 'Low income'\n",
      " 'Principality of Liechtenstein'\n",
      " 'Democratic Socialist Republic of Sri Lanka' 'Lower middle income'\n",
      " 'Low & middle income' 'Kingdom of Lesotho' 'Republic of Lithuania'\n",
      " 'Grand Duchy of Luxembourg' 'Republic of Latvia'\n",
      " \"Macao Special Administrative Region of the People's Republic of China\"\n",
      " 'St. Martin (French part)' 'Kingdom of Morocco' 'Principality of Monaco'\n",
      " 'Republic of Moldova' 'Republic of Madagascar' 'Republic of Maldives'\n",
      " 'Middle East & North Africa (all income levels)' 'United Mexican States'\n",
      " 'Republic of the Marshall Islands' 'Middle income'\n",
      " 'Former Yugoslav Republic of Macedonia' 'Republic of Mali'\n",
      " 'Republic of Malta' 'Republic of the Union of Myanmar'\n",
      " 'Middle East & North Africa (developing only)' 'Montenegro' 'Mongolia'\n",
      " 'Commonwealth of the Northern Mariana Islands' 'Republic of Mozambique'\n",
      " 'Islamic Republic of Mauritania' 'Republic of Mauritius'\n",
      " 'Republic of Malawi' 'Malaysia' 'North America' 'Republic of Namibia'\n",
      " 'New Caledonia' 'Republic of Niger' 'Federal Republic of Nigeria'\n",
      " 'Republic of Nicaragua' 'Kingdom of the Netherlands' 'Kingdom of Norway'\n",
      " 'Nepal' 'Nauru' 'New Zealand' 'OECD members' 'Sultanate of Oman'\n",
      " 'Islamic Republic of Pakistan' 'Republic of Panama' 'Republic of Peru'\n",
      " 'Republic of the Philippines' 'Republic of Palau'\n",
      " 'The Independent State of Papua New Guinea' 'Republic of Poland'\n",
      " 'Puerto Rico' \"Democratic People's Republic of Korea\"\n",
      " 'Portuguese Republic' 'Republic of Paraguay' 'West Bank and Gaza'\n",
      " 'French Polynesia' 'State of Qatar' 'Romania' 'Russian Federation'\n",
      " 'Republic of Rwanda' 'South Asia' 'Kingdom of Saudi Arabia'\n",
      " 'Republic of the Sudan' 'Republic of Senegal' 'Republic of Singapore'\n",
      " 'Solomon Islands' 'Republic of Sierra Leone' 'Republic of El Salvador'\n",
      " 'Republic of San Marino' 'Somali Democratic Republic'\n",
      " 'Republic of Serbia' 'Sub-Saharan Africa (developing only)'\n",
      " 'Republic of South Sudan' 'Sub-Saharan Africa (all income levels)'\n",
      " 'Democratic Republic of São Tomé and Principe' 'Republic of Suriname'\n",
      " 'Slovak Republic' 'Republic of Slovenia' 'Kingdom of Sweden'\n",
      " 'Kingdom of Swaziland' 'Sint Maarten (Dutch part)'\n",
      " 'Republic of Seychelles' 'Syrian Arab Republic'\n",
      " 'Turks and Caicos Islands' 'Republic of Chad' 'Republic of Togo'\n",
      " 'Kingdom of Thailand' 'Republic of Tajikistan' 'Turkmenistan'\n",
      " 'Democratic Republic of Timor-Leste' 'Kingdom of Tonga'\n",
      " 'Republic of Trinidad and Tobago' 'Republic of Tunisia'\n",
      " 'Republic of Turkey' 'Tuvalu' 'United Republic of Tanzania'\n",
      " 'Republic of Uganda' 'Ukraine' 'Upper middle income'\n",
      " 'Oriental Republic of Uruguay' 'United States of America'\n",
      " 'Republic of Uzbekistan' 'St. Vincent and the Grenadines'\n",
      " 'República Bolivariana de Venezuela'\n",
      " 'Virgin Islands of the United States' 'Socialist Republic of Vietnam'\n",
      " 'Republic of Vanuatu' 'World' 'Samoa' 'Republic of Kosovo'\n",
      " 'Republic of Yemen' 'Republic of South Africa' 'Republic of Zambia'\n",
      " 'Republic of Zimbabwe']\n",
      "2-alpha code--------------------------------------,\n",
      " ['AW' 'AF' 'AO' 'AL' 'AD' '1A' 'AE' 'AR' 'AM' 'AS' 'AG' 'AU' 'AT' 'AZ'\n",
      " 'BI' 'BE' 'BJ' 'BF' 'BD' 'BG' 'BH' 'BS' 'BA' 'BY' 'BZ' 'BM' 'BO' 'BR'\n",
      " 'BB' 'BN' 'BT' 'BW' 'CF' 'CA' 'CH' nan 'CL' 'CN' 'CI' 'CM' 'CD' 'CG' 'CO'\n",
      " 'KM' 'CV' 'CR' 'CU' 'CW' 'KY' 'CY' 'CZ' 'DE' 'DJ' 'DM' 'DK' 'DO' 'DZ'\n",
      " '4E' 'Z4' '7E' 'Z7' 'EC' 'EG' 'XC' 'ER' 'ES' 'EE' 'ET' 'EU' 'FI' 'FJ'\n",
      " 'FR' 'FO' 'FM' 'GA' 'GB' 'GE' 'GH' 'GI' 'GN' 'GM' 'GW' 'GQ' 'GR' 'GD'\n",
      " 'GL' 'GT' 'GU' 'GY' 'XD' 'HK' 'HN' 'XE' 'HR' 'HT' 'HU' 'ID' 'IM' 'IN'\n",
      " 'IE' 'IR' 'IQ' 'IS' 'IL' 'IT' 'JM' 'JO' 'JP' 'KZ' 'KE' 'KG' 'KH' 'KI'\n",
      " 'KN' 'KR' 'KW' 'XJ' 'LA' 'LB' 'LR' 'LY' 'LC' 'ZJ' 'XL' 'XM' 'LI' 'LK'\n",
      " 'XN' 'XO' 'LS' 'LT' 'LU' 'LV' 'MO' 'MF' 'MA' 'MC' 'MD' 'MG' 'MV' 'ZQ'\n",
      " 'MX' 'MH' 'XP' 'MK' 'ML' 'MT' 'MM' 'XQ' 'ME' 'MN' 'MP' 'MZ' 'MR' 'MU'\n",
      " 'MW' 'MY' 'XU' 'NC' 'NE' 'NG' 'NI' 'NL' 'NO' 'NP' 'NR' 'NZ' 'OE' 'OM'\n",
      " 'PK' 'PA' 'PE' 'PH' 'PW' 'PG' 'PL' 'PR' 'KP' 'PT' 'PY' 'PS' 'PF' 'QA'\n",
      " 'RO' 'RU' 'RW' '8S' 'SA' 'SD' 'SN' 'SG' 'SB' 'SL' 'SV' 'SM' 'SO' 'RS'\n",
      " 'ZF' 'SS' 'ZG' 'ST' 'SR' 'SK' 'SI' 'SE' 'SZ' 'SX' 'SC' 'SY' 'TC' 'TD'\n",
      " 'TG' 'TH' 'TJ' 'TM' 'TL' 'TO' 'TT' 'TN' 'TR' 'TV' 'TZ' 'UG' 'UA' 'XT'\n",
      " 'UY' 'US' 'UZ' 'VC' 'VE' 'VI' 'VN' 'VU' '1W' 'WS' 'YE' 'ZA' 'ZM' 'ZW']\n",
      "Currency Unit-------------------------------------,\n",
      " ['Aruban florin' 'Afghan afghani' 'Angolan kwanza' 'Albanian lek' 'Euro'\n",
      " nan 'U.A.E. dirham' 'Argentine peso' 'Armenian dram' 'U.S. dollar'\n",
      " 'East Caribbean dollar' 'Australian dollar' 'New Azeri manat'\n",
      " 'Burundi franc' 'CFA franc' 'Bangladeshi taka' 'Bulgarian lev'\n",
      " 'Bahraini dinar' 'Bahamian dollar'\n",
      " 'Bosnia and Herzegovina convertible mark' 'Belarusian rubel'\n",
      " 'Belize dollar' 'Bermuda dollar' 'Bolivian Boliviano' 'Brazilian real'\n",
      " 'Barbados dollar' 'Brunei dollar' 'Bhutanese ngultrum' 'Botswana pula'\n",
      " 'Canadian dollar' 'Swiss franc' 'Pound sterling' 'Chilean peso'\n",
      " 'Chinese yuan' 'Congolese franc' 'Colombian peso' 'Comorian franc'\n",
      " 'Cabo Verde escudo' 'Costa Rican colon' 'Cuban peso'\n",
      " 'Netherlands Antilles guilder' 'Cayman Islands dollar' 'Czech koruna'\n",
      " 'Djibouti franc' 'Danish krone' 'Dominican peso' 'Algerian dinar'\n",
      " 'Egyptian pound' 'Eritrean nakfa' 'Ethiopian birr' 'Fijian dollar'\n",
      " 'Georgian lari' 'New Ghanaian cedi' 'Gibraltar pound' 'Guinean franc'\n",
      " 'Gambian dalasi' 'Guatemalan quetzal' 'Guyana dollar' 'Hong Kong dollar'\n",
      " 'Honduran lempira' 'Croatian kuna' 'Haitian gourde' 'Hungarian forint'\n",
      " 'Indonesian rupiah' 'Indian rupee' 'Iranian rial' 'Iraqi dinar'\n",
      " 'Iceland krona' 'Israeli new shekel' 'Jamaican dollar' 'Jordanian dinar'\n",
      " 'Japanese yen' 'Kazakh tenge' 'Kenyan shilling' 'Kyrgyz som'\n",
      " 'Cambodian riel' 'Korean won' 'Kuwaiti dinar' 'Lao kip' 'Lebanese pound'\n",
      " 'Liberian dollar' 'Libyan dinar' 'Sri Lankan rupee' 'Lesotho loti'\n",
      " 'Lithuanian litas' 'Latvian lats' 'Macao pataca' 'Moroccan dirham'\n",
      " 'Moldovan leu' 'Malagasy ariary' 'Maldivian rufiyaa' 'Mexican peso'\n",
      " 'Macedonian denar' 'Myanmar kyat' 'Mongolian tugrik'\n",
      " 'New Mozambican metical' 'Mauritanian ouguiya' 'Mauritian rupee'\n",
      " 'Malawi kwacha' 'Malaysian ringgit' 'Namibian dollar' 'CFP franc'\n",
      " 'Nigerian naira' 'Nicaraguan gold cordoba' 'Norwegian krone'\n",
      " 'Nepalese rupee' 'New Zealand dollar' 'Rial Omani' 'Pakistani rupee'\n",
      " 'Panamanian balboa' 'Peruvian new sol' 'Philippine peso'\n",
      " 'Papua New Guinea kina' 'Polish zloty'\n",
      " \"Democratic People's Republic of Korean won\" 'Paraguayan guarani'\n",
      " 'Qatari riyal' 'New Romanian leu' 'Russian ruble' 'Rwandan franc'\n",
      " 'Saudi Arabian riyal' 'Sudanese pound' 'Singapore dollar'\n",
      " 'Solomon Islands dollar' 'Sierra Leonean leone' 'Somali shilling'\n",
      " 'New Serbian dinar' 'South Sudanese Pound' 'São Tomé and Principe dobra'\n",
      " 'Suriname dollar' 'Swedish krona' 'Swaziland lilangeni'\n",
      " 'Seychelles rupee' 'Syrian pound' 'Thai baht' 'Tajik somoni'\n",
      " 'New Turkmen manat' \"Tongan pa'anga\" 'Trinidad and Tobago dollar'\n",
      " 'Tunisian dinar' 'New Turkish lira' 'Tanzanian shilling'\n",
      " 'Ugandan shilling' 'Ukrainian hryvnia' 'Uruguayan peso' 'Uzbek sum'\n",
      " 'Venezuelan bolivar fuerte' 'Vietnamese dong' 'Vanuatu vatu'\n",
      " 'Samoan tala' 'Yemeni rial' 'South African rand' 'New Zambian kwacha']\n",
      "Special Notes-------------------------------------,\n",
      " ['SNA data for 2000-2011 are updated from official government statistics; 1994-1999 from UN databases. Base year has changed from 1995 to 2000.'\n",
      " 'Fiscal year end: March 20; reporting period for national accounts data: FY (from 2013 are CY). National accounts data are sourced from the IMF and differ from the Central Statistics Organization numbers due to exclusion of the opium economy.'\n",
      " 'April 2013 database update: Based on IMF data, national accounts data were revised for 2000 onward; the base year changed to 2002.'\n",
      " nan\n",
      " 'Arab World aggregate. Arab World is composed of members of the League of Arab States.'\n",
      " 'April 2013 database update: Based on data from the National Bureau of Statistics, national accounts data were revised for 2001 onward; the base year changed to 2007.'\n",
      " 'April 2012 database update: Based on official government statistics, national accounts data were revised for 2000 onward; the base year changed to 2006.'\n",
      " 'Fiscal year end: June 30; reporting period for national accounts data: FY. Value added current series updated by the Australian Bureau of Statistics; data revised from 1990 onward; Australia reports using SNA 2008.'\n",
      " 'A simple multiplier is used to convert the national currencies of EMU members to euros. The following irrevocable euro conversion rate was adopted by the EU Council on January 1, 1999: 1 euro = 13.7603 Austrian schilling. Please note that historical data before 1999 are not actual euros and are not comparable or suitable for aggregation across countries.'\n",
      " 'April 2012 database update: National accounts historical expenditure series in constant prices were revised in line with State Statistical Committee data that were not previously available.'\n",
      " 'A simple multiplier is used to convert the national currencies of EMU members to euros. The following irrevocable euro conversion rate was adopted by the EU Council on January 1, 1999: 1 euro = 40.3399 Belgian franc. Please note that historical data before 1999 are not actual euros and are not comparable or suitable for aggregation across countries.'\n",
      " 'Fiscal year end: June 30; reporting period for national accounts data: FY.'\n",
      " 'April 2011 database update: The National Statistical Office revised national accounts data from 1995 onward. GDP in current prices were about 4 percent higher than previous estimates.'\n",
      " 'April 2013 database update: Data were updated using the government of Bhutan macroeconomic framework.'\n",
      " 'Fiscal year end: March 31; reporting period for national accounts data: CY. Based on official government statistics, national accounts data have been revised from 2006 onward; the new base year is 2006. Data before 2006 were reported on a fiscal year basis.'\n",
      " 'Fiscal year end: March 31; reporting period for national accounts data: CY.'\n",
      " 'On 1 July 1997 China resumed its exercise of sovereignty over Hong Kong; and on 20 December 1999 China resumed its exercise of sovereignty over Macao. Unless otherwise noted, data for China do not include data for Hong Kong SAR, China; Macao SAR, China; or Taiwan, China. Based on data from the National Bureau of Statistics, the methodology for national accounts exports and imports of goods and services in constant prices have been revised from 2000 onward.'\n",
      " 'Based on INS (2000-09) and IMF (2010-13) data, national accounts data were revised for 2000 onward; the base year changed to 2005.'\n",
      " 'April 2013 database update: Based on IMF data, national accounts data were revised for 1990 onward; the base year changed to 1990.'\n",
      " 'Cabo Verde is the new name for the country previously listed as Cape Verde. Based on official government statistics and IMF data, national accounts data have been revised from 1990 onward; the new base year is 2007.'\n",
      " 'A simple multiplier is used to convert the national currencies of EMU members to euros. The following irrevocable euro conversion rate entered into force on January 1, 2008: 1 euro = 0.585274 Cyprus pounds. Please note that historical data are not actual euros and are not comparable or suitable for aggregation across countries.'\n",
      " 'A simple multiplier is used to convert the national currencies of EMU members to euros. The following irrevocable euro conversion rate was adopted by the EU Council on January 1, 1999: 1 euro = 1.95583 German mark. Please note that historical data before 1999 are not actual euros and are not comparable or suitable for aggregation across countries.'\n",
      " 'East Asia and Pacific regional aggregate (does not include high-income economies).'\n",
      " 'East Asia and Pacific regional aggregate (including high-income economies).'\n",
      " 'Europe and Central Asia regional aggregate (does not include high-income economies).'\n",
      " 'Europe and Central Asia regional aggregate (including high-income economies).'\n",
      " 'National accounts have been revised from 1965 onward based on official government data; the new base year is 2007. The large upward changes are due to an improved calculation method for nominal GDP.'\n",
      " 'Euro area aggregate.'\n",
      " 'April 2013 database update: Based on IMF data, national accounts data were revised for 2000 onward; the base year changed to 2000.'\n",
      " 'A simple multiplier is used to convert the national currencies of EMU members to euros. The following irrevocable euro conversion rate was adopted by the EU Council on January 1, 1999: 1 euro = 166.386 Spanish peseta. Please note that historical data before 1999 are not actual euros and are not comparable or suitable for aggregation across countries.'\n",
      " 'A simple multiplier is used to convert the national currencies of EMU members to euros. The following irrevocable euro conversion rate entered into force on January 1, 2011: 1 euro = 15.6466 Estonian kroon. Please note that historical data are not actual euros and are not comparable or suitable for aggregation across countries.'\n",
      " 'Fiscal year end: July 7; reporting period for national accounts data: FY. Based on IMF data, national accounts data have been revised for 2000 onward; the new base year is 2011.'\n",
      " 'European Union aggregate.'\n",
      " 'A simple multiplier is used to convert the national currencies of EMU members to euros. The following irrevocable euro conversion rate was adopted by the EU Council on January 1, 1999: 1 euro = 5.94573 Finnish markka. Please note that historical data before 1999 are not actual euros and are not comparable or suitable for aggregation across countries.'\n",
      " 'Based on data from the Bureau of Statistics, national accounts data on the expenditure side have been revised from 2005 onward; the new base year is 2005.'\n",
      " 'A simple multiplier is used to convert the national currencies of EMU members to euros. The following irrevocable euro conversion rate was adopted by the EU Council on January 1, 1999: 1 euro = 6.55957 French franc. Please note that historical data before 1999 are not actual euros and are not comparable or suitable for aggregation across countries.'\n",
      " 'Fiscal year ends on September 30; reporting period for national accounts data: FY. Based on the Pacific and Virgin Islands Training Initiative, national accounts data have been revised from 2009 onward. 2013 estimates are based on the IMF Small States Monitor, Issue 1.2014. In 2010, the government statistical office revised national accounts data for 1995-2008.'\n",
      " \"In 2010, the Ghana Statistical Service revised the base year for Ghana's national accounts series from 1993 to 2006. The new GDP data were about 60 percent higher than previously reported and incorporated improved data sources and methodology.\"\n",
      " 'Fiscal year end: June 30; reporting period for national accounts data: CY. April 2013 database update: Based on official government statistics, national accounts data were revised for 2004 onward; the base year changed to 2004.'\n",
      " 'In 2010, national accounts data for 2003-09 were revised. The new data had broader coverage of all sectors of the economy, and GDP in current prices averaged 89 percent higher than previous estimates.'\n",
      " 'National accounts have been revised from 1980 onward based on official government data; the new base year is 2006.'\n",
      " 'A simple multiplier is used to convert the national currencies of EMU members to euros. The following irrevocable euro conversion rate was adopted by the EU Council on January 1, 1999: 1 euro = 340.75 Greek drachma. Please note that historical data before 1999 are not actual euros and are not comparable or suitable for aggregation across countries.'\n",
      " 'In 2010, the Bureau of Statistics introduced a new series of GDP rebased to year 2006. Current price GDP averaged 63 percent higher than previous estimates.'\n",
      " 'High income group aggregate. High-income economies are those in which 2013 GNI per capita was $12,746 or more.'\n",
      " 'On 1 July 1997 China resumed its exercise of sovereignty over Hong Kong. Unless otherwise noted, data for China do not include data for Hong Kong SAR, China; Macao SAR, China; or Taiwan, China. Agriculture value added includes mining and quarrying.'\n",
      " 'Heavily indebted poor countries aggregate.'\n",
      " 'April 2013 database update: Based on official government statistics, the base year for constant price series changed to 2005.'\n",
      " 'Fiscal year end: September 30; reporting period for national accounts data: FY. In 2010, the government revised national accounts data following changes in the methodology. Current price series since 1991 and constant price series since 1996 were revised.'\n",
      " 'April 2012 database update: Based on data from the Organisation for Economic Co-operation and Development, national accounts data were revised for 1991 onward.'\n",
      " 'Fiscal year end: March 31; reporting period for national accounts data: CY. Data for Indonesia include Timor-Leste through 1999 unless otherwise noted.'\n",
      " 'Fiscal year end: March 31; reporting period for national accounts data: FY. April 2013 database update: The India Central Statistical Office revised historical data series both current and constant going back to 1960 with 2004–05 as the base.'\n",
      " 'A simple multiplier is used to convert the national currencies of EMU members to euros. The following irrevocable euro conversion rate was adopted by the EU Council on January 1, 1999: 1 euro = 0.787564 Irish pound. Please note that historical data before 1999 are not actual euros and are not comparable or suitable for aggregation across countries.'\n",
      " 'Fiscal year end: March 20; reporting period for national accounts data: FY.'\n",
      " 'National accounts have been revised from 2000 onward based on official government data; the new base year is 1988. The new series raises GDP significantly from previous estimates.'\n",
      " 'A simple multiplier is used to convert the national currencies of EMU members to euros. The following irrevocable euro conversion rate was adopted by the EU Council on January 1, 1999: 1 euro = 1936.27 Italian lira. Please note that historical data before 1999 are not actual euros and are not comparable or suitable for aggregation across countries.'\n",
      " 'April 2013 database update: Based on official government statistics, national accounts data were revised for 2002 onward; the base year changed to 2007.'\n",
      " 'Fiscal year end: June 30; reporting period for national accounts data: CY.'\n",
      " 'Based on IMF and World Bank data, GDP in current and constant prices have been revised from 2000 onward. Value added components are calculated using shares from the Asian Development Bank.'\n",
      " 'New base year is 2010. GDP data are available from 1970 onward while components are revised from 2000 onward only. Historical data in constant prices are linked to preserve growth rates.'\n",
      " 'Latin America and Caribbean regional aggregate (does not include high-income economies).'\n",
      " 'National accounts data are revised from 2010 to 2013 based on IMF and World Bank staff estimates.'\n",
      " 'Latin America and Caribbean regional aggregate (including high-income economies).'\n",
      " 'Least developed countries (UN classification) aggregate.'\n",
      " 'Low income group aggregate. Low-income economies are those in which 2013 GNI per capita was $1,045 or less.'\n",
      " 'Lower middle income group aggregate. Lower-middle-income economies are those in which 2013 GNI per capita was between $1,046 and $4,125.'\n",
      " 'Low and middle income group aggregate (all developing economies). Low- and middle-income economies are those in which 2013 GNI per capita was $12,745 or less.'\n",
      " 'A simple multiplier is used to convert the national currencies of EMU members to euros. The following irrevocable euro conversion rate was adopted by the EU Council on January 1, 1999: 1 euro = 40.3399 Luxembourg franc. Please note that historical data before 1999 are not actual euros and are not comparable or suitable for aggregation across countries.'\n",
      " 'Country joined euro area on 1 January 2014; data in the WDI database are reported in lats.'\n",
      " 'On 20 December 1999 China resumed its exercise of sovereignty over Macao. Unless otherwise noted, data for China do not include data for Hong Kong SAR, China; Macao SAR, China; or Taiwan, China.'\n",
      " 'April 2012 database update: The Department of National Planning revised national accounts data for 2000 onward; the base year changed to 2003.'\n",
      " 'Middle East and North Africa regional aggregate (including high-income economies).'\n",
      " 'The new base year is 2008.'\n",
      " 'Fiscal year ends on September 30; reporting period for national accounts data: FY.'\n",
      " 'Middle income group aggregate. Middle-income economies are those in which 2013 GNI per capita was between $1,046 and $12,745.'\n",
      " 'April 2012 database update: Based on official statistics, national accounts data were revised for 2003 onward.'\n",
      " 'A simple multiplier is used to convert the national currencies of EMU members to euros. The following irrevocable euro conversion rate entered into force on January 1, 2008: 1 euro = 0.4293 Maltese lira. Please note that historical data are not actual euros and are not comparable or suitable for aggregation across countries.'\n",
      " 'Fiscal year end: March 31; reporting period for national accounts data: FY.'\n",
      " 'Middle East and North Africa regional aggregate (does not include high-income economies).'\n",
      " 'Montenegro declared independence from Serbia and Montenegro on June 3, 2006. Where available, data for each country are shown separately. However, for Serbia, some indicators continue to include data for Montenegro through 2005.'\n",
      " 'April 2012 database update: Based on official government statistics, data were revised for 1991 onward; the base year for constant price series changed to 2004.'\n",
      " 'Fiscal year end: March 31; reporting period for national accounts data: CY. Based on IMF data, national accounts data have been revised for 2000 onward; the new base year is 2009.'\n",
      " 'Based on official government statistics, value added in services in constant and current prices have been revised from 1990 onward. National accounts data in constant prices have been linked back to 1960; the new base year is 2005.'\n",
      " 'North America regional aggregate. There are no economies in North America classified as low or middle income.'\n",
      " 'Fiscal year end: March 31; reporting period for national accounts data: CY. Based on official government statistics, national accounts data have been revised from 1980 onward; the new base year is 2010.'\n",
      " 'Based on official government statistics, national accounts data have been revised from 2006 onward; the new base year is 2006.'\n",
      " 'Based on official government statistics released 6 April, 2014, national accounts data have been revised from 2010 onward; the new base year is 2010. The new GDP data are 60 to 75 percent higher than previously reported and incorporate improved data sources and methodology.'\n",
      " 'April 2013 database update: Based on official government statistics, national accounts data were revised for 1994 onward; the base year changed to 2006.'\n",
      " 'A simple multiplier is used to convert the national currencies of EMU members to euros. The following irrevocable euro conversion rate was adopted by the EU Council on January 1, 1999: 1 euro = 2.20371 Netherlands guilder. Please note that historical data before 1999 are not actual euros and are not comparable or suitable for aggregation across countries.'\n",
      " 'Fiscal year end: July 14; reporting period for national accounts data: FY.'\n",
      " 'OECD members aggregate (all, including developing countries).'\n",
      " 'Fiscal year end: June 30; reporting period for national accounts data: FY. The new base year is 2005/06.'\n",
      " 'Source for GNI and net income from abroad is changed to national statistical office from central bank. April 2012 database update: National accounts data were revised for 1998 onward. Because intellectual property products are now reported as a part of gross fixed capital formation, gross domestic product (GDP) in current prices averaged 4 percent higher than previous estimates.'\n",
      " 'Fiscal year ends on September 30; reporting period for national accounts data: FY. National accounts data are revised based on IMF reports.'\n",
      " 'Fiscal year end: June 30; reporting period for national accounts data: FY. April 2012 database update: Based on data from the Instituto de Estadísticas de Puerto Rico, national accounts data were revised for 2001 onward.'\n",
      " 'A simple multiplier is used to convert the national currencies of EMU members to euros. The following irrevocable euro conversion rate was adopted by the EU Council on January 1, 1999: 1 euro = 200.482 Portuguese escudo. Please note that historical data before 1999 are not actual euros and are not comparable or suitable for aggregation across countries.'\n",
      " 'National accounts data have been revised from 1960 onward. The methodology and base year have not changed but the output of two hydroelectric plants (shared with neighboring countries) has been added raising GDP from previous estimates. On the supply side, it was added in \"gas, electricity and water.\" On the demand side changes were mainly to exports, but also for imports, investment and consumption. National accounts price valuations for 1991 to 2012 have also been corrected and changed from VAP to VAB.'\n",
      " 'National accounts have been revised based on data from the National Statistical Institute; the new base year is 2000.'\n",
      " 'Based on official government statistics, national accounts data are revised for 2006 onward; the new base year is 2011.'\n",
      " 'South Asia regional aggregate. There are no economies in South Asia classified as high income.'\n",
      " 'Total population data are reported separately for Sudan and South Sudan; see specific notes for other demographic-related series. National accounts data exclude South Sudan after July 9, 2011. Other data reported for Sudan include South Sudan unless otherwise noted.'\n",
      " 'Fiscal year end: March 31; reporting period for national accounts data: CY. Country reports using a blend of SNA 1993 and SNA 2008. April 2012 database update: National accounts time series were replaced with official government statistics.'\n",
      " 'National accounts data have been revised from 2007 to 2013 based on IMF reports.'\n",
      " 'Fiscal year end: June 30; reporting period for national accounts data: CY. April 2013 database update: Based on official government statistics, national accounts data were revised for 1990 onward; the base year changed to 2006.'\n",
      " 'Montenegro declared independence from Serbia and Montenegro on June 3, 2006. Where available, data for each country are shown separately. However, for Serbia, some indicators, such as those series for which data appear only for Serbia and not Montenegro--e.g., aid, environment, external debt, balance of payments, various social indicators excluding population--continue to include data for Montenegro through 2005. Moreover, data from 1999 onward for Serbia for most indicators exclude data for Kosovo, 1999 being the year when Kosovo became a territory under international administration pursuant to UN Security Council Resolution 1244 (1999); any exceptions are noted. Kosovo became a World Bank member on June 29, 2009; available data are shown separately for Kosovo. In 2011, the Statistical Office of Serbia improved the methodology of national accounts data for 2003 onward. Specifically, the classification of sectors was revised, and GDP is now calculated using chain linked volumes in 2005 prices.'\n",
      " 'Sub-Saharan Africa regional aggregate (does not include high-income economies).'\n",
      " \"South Sudan declared its independence on July 9, 2011. Data are shown separately for South Sudan where available. However, data reported for Sudan include South Sudan unless otherwise noted. Though limited data are available in the WDI database for South Sudan, additional data are available from South Sudan's National Bureau of Statistics (http://ssnbs.org/).\"\n",
      " 'Sub-Saharan Africa regional aggregate (including high-income economies).'\n",
      " 'Based on IMF data, national accounts data have been revised for 2000 onward; the new base year is 2000.'\n",
      " 'A simple multiplier is used to convert the national currencies of EMU members to euros. The following irrevocable euro conversion rate entered into force on January 1, 2009: 1 euro = 30.126 Slovak koruna. Please note that historical data are not actual euros and are not comparable or suitable for aggregation across countries.'\n",
      " 'A simple multiplier is used to convert the national currencies of EMU members to euros. The following irrevocable euro conversion rate entered into force on January 1, 2007: 1 euro = 239.64 Slovenian tolar. Please note that historical data are not actual euros and are not comparable or suitable for aggregation across countries.'\n",
      " 'Fiscal year end: March 31; reporting period for national accounts data: CY. In 2011, the Central Statistical Office revised national accounts data for 1990 onward.'\n",
      " 'April 2013 database update: Based on official government statistics, national accounts data were revised for 1976 onward; the base year changed to 2006.'\n",
      " 'April 2013 database update: Based on data from the Central Bureau of Statistics, national accounts data were revised for 2003 onward.'\n",
      " 'Based on IMF data, national accounts data have been revised for 2005 onward; the new base year is 2005.'\n",
      " 'April 2013 database update: Based on IMF data, national accounts data have been revised for 2000; the new base year is 2000.'\n",
      " 'Fiscal year end: September 30; reporting period for national accounts data: CY.'\n",
      " 'On January 1, 2009, the Turkmen manat was redenominated (1 new manat = 5,000 old manats).'\n",
      " 'Based on official government statistics, national account data have been revised, and value added is measured at basic prices; the new base year is 2010.'\n",
      " 'Fiscal year ends on June 30; reporting period for national accounts data: FY. April 2013 database update: Based on data from the National Bureau of Statistics, national accounts data were revised; the base year changed to 2010/11.'\n",
      " 'National accounts data from 2005 onward have been revised based on data published by the Tunisian authorities. April 2012 database update: Based on data from the Central Bank and its Statistical Bulletin, national accounts data were revised for 1997 onward.'\n",
      " 'Based on data from the IMF, World Bank and government official statistics, national accounts data have been revised from 2006 onward. Value added is measured at producer prices up to 1999 and at basic prices from 2000 onward.'\n",
      " 'Fiscal year end: June 30; reporting period for national accounts data: FY. In 2011, the Bureau of Statistics revised national accounts series for 1998 onward; the base year for constant price series changed to 2001/02.'\n",
      " 'Upper middle income group aggregate. Upper-middle-income economies are those in which 2013 GNI per capita was between $4,126 and $12,745.'\n",
      " 'In 2011, the Central Bank revised national accounts data for 2006 onward.'\n",
      " 'Based on data from the Vietnam Statistics Office, national accounts data have been revised from 2000 onward; the new base year is 2010.'\n",
      " 'Based on official government statistics, value added is measured at producer prices through 1997 and at basic prices from 1998 onward.'\n",
      " 'World aggregate.'\n",
      " 'Fiscal year ends on June 30; reporting period for national accounts data: FY. Data are revised from Samoa Bureau of Statistics and Central Bank of Samoa.'\n",
      " 'Kosovo became a World Bank member on June 29, 2009. Since 1999, Kosovo has been a territory under international administration pursuant to UN Security Council Resolution 1244 (1999).'\n",
      " 'Based on official government statistics and International Monetary Fund data, national accounts data have been revised for 1990 onward.'\n",
      " 'National accounts data have rebased to reflect the January 1, 2013, introduction of the new Zambian kwacha at a rate of 1,000 old kwacha = 1 new kwacha.'\n",
      " 'Fiscal year end: June 30; reporting period for national accounts data: CY. As of January 2009, multiple hard currencies, such as rand, pound sterling, euro and U.S. dollar are in use. Data are reported in U.S. dollars, the most-used currency.']\n",
      "Region--------------------------------------------,\n",
      " ['Latin America & Caribbean' 'South Asia' 'Sub-Saharan Africa'\n",
      " 'Europe & Central Asia' nan 'Middle East & North Africa'\n",
      " 'East Asia & Pacific' 'North America']\n",
      "Income Group--------------------------------------,\n",
      " ['High income: nonOECD' 'Low income' 'Upper middle income' nan\n",
      " 'Lower middle income' 'High income: OECD']\n",
      "WB-2 code-----------------------------------------,\n",
      " ['AW' 'AF' 'AO' 'AL' 'AD' '1A' 'AE' 'AR' 'AM' 'AS' 'AG' 'AU' 'AT' 'AZ'\n",
      " 'BI' 'BE' 'BJ' 'BF' 'BD' 'BG' 'BH' 'BS' 'BA' 'BY' 'BZ' 'BM' 'BO' 'BR'\n",
      " 'BB' 'BN' 'BT' 'BW' 'CF' 'CA' 'CH' 'JG' 'CL' 'CN' 'CI' 'CM' 'ZR' 'CG'\n",
      " 'CO' 'KM' 'CV' 'CR' 'CU' 'CW' 'KY' 'CY' 'CZ' 'DE' 'DJ' 'DM' 'DK' 'DO'\n",
      " 'DZ' '4E' 'Z4' '7E' 'Z7' 'EC' 'EG' 'XC' 'ER' 'ES' 'EE' 'ET' 'EU' 'FI'\n",
      " 'FJ' 'FR' 'FO' 'FM' 'GA' 'GB' 'GE' 'GH' 'GI' 'GN' 'GM' 'GW' 'GQ' 'GR'\n",
      " 'GD' 'GL' 'GT' 'GU' 'GY' 'XD' 'HK' 'HN' 'XE' 'HR' 'HT' 'HU' 'ID' 'IM'\n",
      " 'IN' 'IE' 'IR' 'IQ' 'IS' 'IL' 'IT' 'JM' 'JO' 'JP' 'KZ' 'KE' 'KG' 'KH'\n",
      " 'KI' 'KN' 'KR' 'KW' 'XJ' 'LA' 'LB' 'LR' 'LY' 'LC' 'ZJ' 'XL' 'XM' 'LI'\n",
      " 'LK' 'XN' 'XO' 'LS' 'LT' 'LU' 'LV' 'MO' 'MF' 'MA' 'MC' 'MD' 'MG' 'MV'\n",
      " 'ZQ' 'MX' 'MH' 'XP' 'MK' 'ML' 'MT' 'MM' 'XQ' 'ME' 'MN' 'MP' 'MZ' 'MR'\n",
      " 'MU' 'MW' 'MY' 'XU' nan 'NC' 'NE' 'NG' 'NI' 'NL' 'NO' 'NP' 'NR' 'NZ' 'OE'\n",
      " 'OM' 'PK' 'PA' 'PE' 'PH' 'PW' 'PG' 'PL' 'PR' 'KP' 'PT' 'PY' 'GZ' 'PF'\n",
      " 'QA' 'RO' 'RU' 'RW' '8S' 'SA' 'SD' 'SN' 'SG' 'SB' 'SL' 'SV' 'SM' 'SO'\n",
      " 'YF' 'ZF' 'SS' 'ZG' 'ST' 'SR' 'SK' 'SI' 'SE' 'SZ' 'SX' 'SC' 'SY' 'TC'\n",
      " 'TD' 'TG' 'TH' 'TJ' 'TM' 'TP' 'TO' 'TT' 'TN' 'TR' 'TV' 'TZ' 'UG' 'UA'\n",
      " 'XT' 'UY' 'US' 'UZ' 'VC' 'VE' 'VI' 'VN' 'VU' '1W' 'WS' 'KV' 'RY' 'ZA'\n",
      " 'ZM' 'ZW']\n",
      "National accounts base year-----------------------,\n",
      " ['2000' '2002/03' '2002'\n",
      " 'Original chained constant price data are rescaled.' '1990' nan '2007'\n",
      " '2004' '2006' '2005' '1985' '1999' '1995/96' '1974' '2003' '2008' '1996'\n",
      " '1991' '1980' '1991/92' '2011' '2001' '1986/87' '2004/05' '1997/98'\n",
      " '1988' '1994' '2010' '1995' '1997' '2012' '1998' '1984' '1987' '2005/06'\n",
      " '2009' '2000/01' '2005/2006' '1954' '1990/91'\n",
      " '1981/82. Reporting period switch from fiscal year to calendar year from 1996. Pre-1996 data converted to calendar year.'\n",
      " '2010/11' '2001/02' '1982']\n",
      "SNA price valuation-------------------------------,\n",
      " ['Value added at basic prices (VAB)'\n",
      " 'Value added at producer prices (VAP)' nan]\n",
      "Lending category----------------------------------,\n",
      " [nan 'IDA' 'IBRD' 'Blend']\n",
      "Other groups--------------------------------------,\n",
      " [nan 'HIPC' 'Euro area']\n",
      "System of National Accounts-----------------------,\n",
      " ['Country uses the 1993 System of National Accounts methodology.'\n",
      " 'Country uses the 1968 System of National Accounts methodology.' nan\n",
      " 'Country uses the 2008 System of National Accounts methodology.']\n",
      "Alternative conversion factor---------------------,\n",
      " [nan '1991–96' '1971–84' '1990–95' '1992–95' '1992' '1992–93'\n",
      " '1978–89, 1991–92' '1960–85' '1978–93' '1999–2001' '1993' '1992–94'\n",
      " '1987–95' '1973–87' '1965–84' '1988–89' '1991' '1980–2002' '1997, 2004'\n",
      " '1986' '1971–98' '1965–95' '1985–90' '1989' '1987–89, 1992' '1994'\n",
      " '1977–90' '1970–2010' '1987–95, 1997–2007' '1990–96' '1990–92'\n",
      " '1991, 1998']\n",
      "PPP survey year-----------------------------------,\n",
      " [nan '2005' 'Rolling' '2011']\n",
      "Balance of Payments Manual in use-----------------,\n",
      " ['IMF Balance of Payments Manual, 6th edition.' nan]\n",
      "External debt Reporting status--------------------,\n",
      " [nan 'Actual' 'Preliminary' 'Estimate']\n",
      "System of trade-----------------------------------,\n",
      " ['Special trade system' 'General trade system' nan]\n",
      "Government Accounting concept---------------------,\n",
      " [nan 'Consolidated central government' 'Budgetary central government']\n",
      "IMF data dissemination standard-------------------,\n",
      " [nan 'General Data Dissemination System (GDDS)'\n",
      " 'Special Data Dissemination Standard (SDDS)']\n",
      "Latest population census--------------------------,\n",
      " ['2010' '1979' '1970' '2011'\n",
      " '2011. Population figures compiled from administrative registers.' nan\n",
      " '2009' '2008' '2013' '2006' '2012' '2005' '2003'\n",
      " 'Guernsey: 2009; Jersey: 2011.' '1998' '1984' '2007'\n",
      " '2006. Rolling census based on continuous sample survey.' '2002' '1996'\n",
      " '2011. The population censuses for 1986 and 1996 were based on a one-in-seven sample of the population, while that for 2006 was based on a one-in-ten sample of the population.'\n",
      " '1997' '2004' '1993' '1983' '1987' '2001' '1989']\n",
      "Latest household survey---------------------------,\n",
      " [nan 'Multiple Indicator Cluster Survey (MICS), 2010/11'\n",
      " 'Malaria Indicator Survey (MIS), 2011'\n",
      " 'Demographic and Health Survey (DHS), 2008/09'\n",
      " 'Multiple Indicator Cluster Survey (MICS), 2011/12'\n",
      " 'Demographic and Health Survey (DHS), 2010'\n",
      " 'Demographic and Health Survey (DHS), 2006'\n",
      " 'Malaria Indicator Survey (MIS), 2012'\n",
      " 'Demographic and Health Survey (DHS), 2011/12'\n",
      " 'Demographic and Health Survey (DHS), 2011'\n",
      " 'Living Standards Measurement Study Survey (LSMS), 2007'\n",
      " 'Multiple Indicator Cluster Survey (MICS), 2012'\n",
      " 'Multiple Indicator Cluster Survey (MICS), 2011'\n",
      " 'Demographic and Health Survey (DHS), 2008'\n",
      " 'World Health Survey (WHS), 2003'\n",
      " 'Multiple Indicator Cluster Survey (MICS), 2010'\n",
      " 'Demographic and Health Survey (DHS), 1988'\n",
      " 'National Sample Survey on Population Change (NSS), 2007'\n",
      " 'Demographic and Health Survey (DHS), 2013'\n",
      " 'Demographic and Health Survey (DHS), 2012'\n",
      " 'Demographic and Health Survey (DHS), 2005'\n",
      " 'Multiple Indicator Cluster Survey (MICS), 2006'\n",
      " 'Reproductive Health Survey (RHS), 2004'\n",
      " 'Demographic and Health Survey (DHS), 2002'\n",
      " 'Multiple Indicator Cluster Survey (MICS), 2005; Reproductive Health Survey (RHS), 2005'\n",
      " 'Reproductive Health Survey (RHS), 1985'\n",
      " 'Reproductive Health Survey (RHS), 2008/09'\n",
      " 'Demographic and Health Survey (DHS), 2009'\n",
      " 'HIV/Maternal and Child Health (HIV/MCH) Service Provision Assessments (SPA), 2013'\n",
      " 'Demographic and Health Survey (DHS), 2005/06'\n",
      " 'Demographic and Health Survey (DHS), 2000'\n",
      " 'Malaria Indicator Survey (MIS), 2010; HIV/Maternal and Child Health (HIV/MCH) Service Provision Assessments (SPA), 2010'\n",
      " 'Family Health Survey (FHS), 1996'\n",
      " 'Multiple Indicator Cluster Survey (MICS), 2000'\n",
      " 'Demographic and Health Survey (DHS), 2006/07'\n",
      " 'Multiple Indicator Cluster Survey (MICS)/Pan Arab Project for Family Health (PAPFAM), 2006'\n",
      " 'Malaria Indicator Survey (MIS), 2013'\n",
      " 'National Survey of Demographic Dynamics (ENADID), 2009'\n",
      " 'Demographic and Health Survey (DHS), 2012/13'\n",
      " 'Multiple Indicator Cluster Survey (MICS), 2009/10'\n",
      " 'Multiple Indicator Cluster Survey (MICS), 2005/06'\n",
      " 'Reproductive Health Survey (RHS), 1991'\n",
      " 'Reproductive Health Survey (RHS), 2006/2007'\n",
      " 'Living Standards Measurement Study Survey (LSMS), 2008'\n",
      " 'Continuous Demographic and Health Survey (DHS), 2013'\n",
      " 'Living Standards Measurement Study Survey (LSMS), 1996'\n",
      " 'Reproductive Health Survey (RHS), 1995/96'\n",
      " 'Multiple Indicator Cluster Survey (MICS), 2009'\n",
      " 'Reproductive Health Survey (RHS), 2008'\n",
      " 'Reproductive Health Survey (RHS), 1999' 'Demographic survey, 2007'\n",
      " 'Sudan Household Health Survey (SHHS), 2010'\n",
      " 'Continuous Demographic and Health Survey (DHS), 2013/14; HIV/Maternal and Child Health (HIV/MCH) Service Provision Assessments (SPA), 2013/14'\n",
      " 'National Health Survey (NHS), 2010'\n",
      " 'Demographic and Health Survey (DHS), 2013; Malaria Indicator Survey (MIS), 2013'\n",
      " 'Demographic and Health Survey (DHS), 2009/10'\n",
      " 'Demographic and Health Survey (DHS), 2003; World Health Survey (WHS), 2003'\n",
      " 'HIV/Maternal and Child Health (HIV/MCH) Service Provision Assessments (SPA), 2013/14'\n",
      " 'HIV/AIDS Indicator Survey (AIS), 2011; Demographic and Health Survey (DHS), 2011'\n",
      " 'Multiple Indicator Cluster Survey (MICS), 2007'\n",
      " 'Demographic and Health Survey (DHS), 2010/11']\n",
      "Source of most recent Income and expenditure data-,\n",
      " [nan 'Integrated household survey (IHS), 2008'\n",
      " 'Living Standards Measurement Study Survey (LSMS), 2012'\n",
      " 'Integrated household survey (IHS), 2012'\n",
      " 'Expenditure survey/budget survey (ES/BS), 1994'\n",
      " 'Income survey (IS), 2000'\n",
      " 'Expenditure survey/budget survey (ES/BS), 2012'\n",
      " 'Core Welfare Indicator Questionnaire Survey (CWIQ), 2006'\n",
      " 'Integrated household survey (IHS), 2000'\n",
      " 'Core Welfare Indicator Questionnaire Survey (CWIQ), 2011'\n",
      " 'Core Welfare Indicator Questionnaire Survey (CWIQ), 2009'\n",
      " 'Integrated household survey (IHS), 2010'\n",
      " 'Expenditure survey/budget survey (ES/BS), 2007'\n",
      " 'Living Standards Measurement Study Survey (LSMS), 2007'\n",
      " 'Expenditure survey/budget survey (ES/BS), 2011'\n",
      " 'Integrated household survey (IHS), 2009'\n",
      " 'Expenditure survey/budget survey (ES/BS), 2009/10'\n",
      " 'Priority survey (PS), 2008' 'Labor force survey (LFS), 2000'\n",
      " 'Expenditure survey/budget survey (ES/BS), 2000'\n",
      " 'Integrated household survey (IHS), 2011' 'Priority survey (PS), 2007'\n",
      " '1-2-3 survey (1-2-3), 2004/05'\n",
      " 'Core Welfare Indicator Questionnaire Survey (CWIQ)/Priority survey (PS), 2011'\n",
      " 'Integrated household survey (IHS), 2004' 'Income survey (IS), 1996'\n",
      " 'Priority survey (PS), 2002' 'Income tax registers (ITR), 1997'\n",
      " 'Integrated household survey (IHS), 1995' 'Priority survey (PS), 1993'\n",
      " 'Expenditure survey/budget survey (ES/BS), 2004'\n",
      " 'Expenditure survey/budget survey (ES/BS), 2010/11'\n",
      " 'Expenditure survey/budget survey (ES/BS), 2009'\n",
      " 'Expenditure survey/budget survey (ES/BS), 1994/95'\n",
      " 'Core Welfare Indicator Questionnaire Survey (CWIQ)/Integrated household survey (IHS), 2005'\n",
      " 'Income survey (IS), 1999'\n",
      " 'Living Standards Measurement Study Survey (LSMS), 2005/06'\n",
      " 'Core Welfare Indicator Questionnaire Survey (CWIQ), 2012'\n",
      " 'Core Welfare Indicator Questionnaire Survey (CWIQ), 2010'\n",
      " 'Priority survey (PS), 2006'\n",
      " 'Living Standards Measurement Study Survey (LSMS), 2011'\n",
      " 'Integrated household survey (IHS), 1998'\n",
      " 'Expenditure survey/budget survey (ES/BS), 2008'\n",
      " 'Integrated household survey (IHS), 2001'\n",
      " 'Integrated household survey (IHS), 2013'\n",
      " 'Expenditure survey/budget survey (ES/BS), 2005'\n",
      " 'Integrated household survey (IHS), 2007'\n",
      " 'Expenditure survey/budget survey (ES/BS), 2001'\n",
      " 'Living Standards Measurement Study Survey (LSMS), 2010'\n",
      " 'Expenditure survey/budget survey (ES/BS), 2010'\n",
      " 'Income survey (IS), 1993' 'Integrated household survey (IHS), 2005/06'\n",
      " 'Expenditure survey/budget survey (ES/BS), 1998'\n",
      " 'Core Welfare Indicator Questionnaire Survey (CWIQ), 2007'\n",
      " 'Expenditure survey/budget survey (ES/BS), 2002/03'\n",
      " 'Priority survey (PS), 2010' 'Integrated household survey (IHS), 2009/10'\n",
      " 'Expenditure survey/budget survey (ES/BS), 2008/09'\n",
      " 'Integrated household survey (IHS), 2010/11'\n",
      " 'Core Welfare Indicator Questionnaire Survey (CWIQ)/Priority survey (PS), 2007'\n",
      " 'Living Standards Measurement Study Survey (LSMS), 2009'\n",
      " 'Integrated household survey (IHS), 1999' 'Income survey (IS), 1997'\n",
      " 'Labor force survey (LFS), 2010' 'Priority survey (PS), 2010/11'\n",
      " 'Priority survey (PS), 2009/10'\n",
      " 'Expenditure survey/budget survey (ES/BS), 1999'\n",
      " 'Income survey (IS), 2009' 'Budget survey (BS), 2006/07'\n",
      " 'Priority survey (PS), 2002/03'\n",
      " 'Living Standards Measurement Study Survey (LSMS), 1998'\n",
      " '2013 national accounts estimates are based on IMF reports.'\n",
      " 'Integrated household survey (IHS), 1992'\n",
      " 'Labor force survey (LFS), 2009'\n",
      " 'Expenditure survey/budget survey (ES/BS), 2011/12'\n",
      " 'Integrated household survey (IHS), 2011/12']\n",
      "Vital registration complete-----------------------,\n",
      " ['Yes' nan 'Yes. Vital registration for Guernsey and Jersey.']\n",
      "Latest agricultural census------------------------,\n",
      " [nan '2013/14' '2015' '2012' '2013' '2007' '2011' '2010' '2011/12' '2008'\n",
      " '2006' '2010. Population and Housing Census.' '2009'\n",
      " '2011. Population and Housing Census.' '2014' '2012/13' '2013/15'\n",
      " '2009/2010' '2013/ 2014' '2008/ 2009' '2011/2012'\n",
      " '2009. Population and Housing Census.' '2010/11'\n",
      " '2008. Population and Housing Census.' '2013/2014' '2009/ 2010'\n",
      " '2006/ 2007' '2004-2008' '2011/ 2012' '2012/ 2013' '2007/2008'\n",
      " '2007. Population and Housing Census.' '2010/ 2011' '2014/ 2015'\n",
      " '2007/08' '2012 /2013']\n",
      "Latest water withdrawal data----------------------,\n",
      " [nan '2000' '2005' '2006' '2007' '2002' '2001' '2008' '2009' '2003' '1994'\n",
      " '1986' '1999' '1997' '2004' '2010' '1979' '1993'\n",
      " '2005. Includes South Sudan.' '1975' '1995']\n"
     ]
    }
   ],
   "source": [
    "for col in country.select_dtypes('object'):\n",
    "    print(f'{col:-<50},\\n {country[col].unique()}')"
   ]
  },
  {
   "cell_type": "code",
   "execution_count": 41,
   "metadata": {},
   "outputs": [
    {
     "data": {
      "text/plain": [
       "\" y'a un indicateur country qui n'est pas dans la liste country code, estr cette indicateur c'est VGB\""
      ]
     },
     "execution_count": 41,
     "metadata": {},
     "output_type": "execute_result"
    }
   ],
   "source": [
    "# liste de code_country pour verifier avec les autre dataset:\n",
    "code_country = []\n",
    "for col in country['Country Code']:\n",
    "    if col not in code_country:\n",
    "        code_country.append(col)\n",
    "#print(code_country)\n",
    "\n",
    "# verification avec dataset EdstatsData:\n",
    "code_data = []\n",
    "for col in data['Country Code']:\n",
    "    if col not in code_country:\n",
    "        code_data.append(col)\n",
    "#print(code_data)\n",
    "''' y'a un indicateur country qui n'est pas dans la liste country code, estr cette indicateur c'est VGB'''"
   ]
  },
  {
   "cell_type": "code",
   "execution_count": 42,
   "metadata": {},
   "outputs": [
    {
     "name": "stdout",
     "output_type": "stream",
     "text": [
      "[]\n"
     ]
    }
   ],
   "source": [
    "# verification avec dataset EdstatsCountry_Series:\n",
    "code_countryseries = []\n",
    "for col in country_series['CountryCode']:\n",
    "    if col not in code_country:\n",
    "        code_countryseries.append(col)\n",
    "print(code_countryseries)\n"
   ]
  },
  {
   "cell_type": "markdown",
   "metadata": {},
   "source": [
    "-  On trouve meme indicateurs dans dataset country et dataset series"
   ]
  },
  {
   "cell_type": "code",
   "execution_count": 43,
   "metadata": {},
   "outputs": [],
   "source": [
    "# verification avec dataset EdstatsSeries:\n",
    "code_note = []\n",
    "for col in note['CountryCode']:\n",
    "    if col not in code_country:\n",
    "        code_note.append(col)\n",
    "#print(code_note)\n"
   ]
  },
  {
   "cell_type": "code",
   "execution_count": 44,
   "metadata": {},
   "outputs": [
    {
     "data": {
      "text/plain": [
       "array(['Latin America & Caribbean', 'South Asia', 'Sub-Saharan Africa',\n",
       "       'Europe & Central Asia', nan, 'Middle East & North Africa',\n",
       "       'East Asia & Pacific', 'North America'], dtype=object)"
      ]
     },
     "execution_count": 44,
     "metadata": {},
     "output_type": "execute_result"
    }
   ],
   "source": [
    "country['Region'].unique()"
   ]
  },
  {
   "cell_type": "markdown",
   "metadata": {},
   "source": [
    "- On trouve 7 régions"
   ]
  },
  {
   "cell_type": "code",
   "execution_count": null,
   "metadata": {},
   "outputs": [],
   "source": [
    "# Regroupement des pays/régions/groupes de revenus\n",
    "\n",
    "fig=plt.figure(figsize=(15,10))\n",
    "grid = plt.GridSpec(2, 2, wspace=0.8, hspace=0.3)\n",
    "\n",
    "\n",
    "plt.subplot(grid[0, 0])\n",
    "# Regroupement des pays par régions\n",
    "nb_pays_par_region=country.groupby('Region')[['Short Name']].count().reset_index().sort_values(by='Short Name', ascending=False)\n",
    "colors = ['Coral','Peru','HotPink','PowderBlue','Khaki','LightGreen','RoyalBlue','Cyan']\n",
    "sns.barplot(nb_pays_par_region['Short Name'].sort_values(), nb_pays_par_region['Region'], palette=colors,)\n",
    "plt.xlabel('Nombre de pays', fontsize=12)\n",
    "plt.ylabel('Région', fontsize=12)\n",
    "plt.title('Nombre de pays par Région', fontsize=14)\n",
    "\n",
    "\n",
    "plt.subplot(grid[0, 1])\n",
    "# Regroupement des pays par groupe de revenus\n",
    "nb_pays_par_groupe_revenu=country.groupby('Income Group')[['Short Name']].count().reset_index().sort_values(by='Short Name', ascending=False)\n",
    "colors = ['FireBrick','RoyalBlue','MediumPurple','MediumSeaGreen','SandyBrown','Khaki']\n",
    "sns.barplot(nb_pays_par_groupe_revenu['Short Name'].sort_values(), nb_pays_par_groupe_revenu['Income Group'], palette=colors)\n",
    "plt.xlabel('Nombre de pays', fontsize=12)\n",
    "plt.ylabel('Groupe de revenus', fontsize=12)\n",
    "plt.title('Nombre de pays par groupe de revenus', fontsize=14)\n",
    "\n",
    "plt.show()"
   ]
  },
  {
   "cell_type": "markdown",
   "metadata": {},
   "source": [
    "***\n",
    "**Bilan sur le jeu de données EdStatsCountry.csv**: </span>\n",
    "***\n",
    "\n",
    "-\tLa dataset contient des informations géographiques les **noms des pays**, les regroupements pour 7 region, des données économiques globales et des dates de référence des dernières études.\n",
    "-\tLe jeu de données contient **241 lignes et 32 colonnes**.\n",
    "-\tAucune observation dupliquée sur les noms des pays et les codes pays. \n",
    "-\tCertaines colonnes sont en float et contiennent des dates (années) : à transformer.\n",
    "-\tLa colonne **Unnamed:31** est vide et devra être supprimée.\n",
    "-\tToutes les régions du monde sont représentées."
   ]
  },
  {
   "cell_type": "markdown",
   "metadata": {},
   "source": [
    "___________________________________________________________________________________________________________"
   ]
  },
  {
   "cell_type": "code",
   "execution_count": 46,
   "metadata": {},
   "outputs": [
    {
     "name": "stdout",
     "output_type": "stream",
     "text": [
      "53\n"
     ]
    }
   ],
   "source": [
    "# Vérification de nombre d'indicateurs en data:\n",
    "diff_ind = []\n",
    "All_indicateur = data['Indicator Code'].unique()\n",
    "All_indicateur_series = series['Series Code'].unique()\n",
    "#print(len(All_indicateur))\n",
    "#print(len(All_indicateur_series))\n",
    "'''On a le meme nombre d'indicateurs dans la data'''\n",
    "# vérifier si on a meme indicateur dans les deux dataframe:\n",
    "for ind in All_indicateur:\n",
    "    if ind not in All_indicateur_series:\n",
    "        diff_ind.append(ind)\n",
    "#print(diff_ind)\n",
    "print(len(diff_ind))"
   ]
  },
  {
   "cell_type": "code",
   "execution_count": 47,
   "metadata": {},
   "outputs": [
    {
     "name": "stdout",
     "output_type": "stream",
     "text": [
      "53\n"
     ]
    }
   ],
   "source": [
    "diff = []\n",
    "for indi in All_indicateur_series:\n",
    "    if indi not in All_indicateur:\n",
    "        diff.append(indi)\n",
    "#print(diff)\n",
    "print(len(diff))"
   ]
  },
  {
   "cell_type": "markdown",
   "metadata": {},
   "source": [
    "- on comparant les deux liste visuellement on voit que la différence est dans les miniscule et majuscule et puis y'a aussi les espaces:"
   ]
  },
  {
   "cell_type": "code",
   "execution_count": 48,
   "metadata": {},
   "outputs": [
    {
     "name": "stdout",
     "output_type": "stream",
     "text": [
      "la difference entre indicateur de dataframe series et indicateur de dataframe data sont :\n",
      "\n",
      " {'UIS.LP.Ag65.M', 'UIS.XGDP.1.FSgov.FDinstadm.FFd', 'UIS.GER.1t6.M', 'UIS.LP.Ag15t99', 'UIS.E.4.Pu.F', 'UIS.E.1.Guk', 'UIS.NIR.1.AgM1.F', 'UIS.GER.1t6.GPI', 'UIS.XPubP.4', 'UIS.LPP.Ag65', 'UIS.LR.Ag15t99.GPI', 'UIS.LP.Ag15t99.F', 'UIS.XSpendP.56.Fdpub.Fncap', 'UIS.NIR.1.AgP1.M', 'UIS.thDur.0', 'UIS.E.23.Pu.F', 'UIS.XGDP.0.FSgov.FDinstadm.FFd', 'SE.SEC.DURS.LO ', 'UIS.NIR.1.AgP1.F', 'UIS.XPubP.0', 'UIS.E.1.Pu', 'UIS.NIR.1.AgM1', 'UIS.LP.Ag15t24.F', 'UIS.TranRA.23.GPV.GPI', 'UIS.LPP.Ag15t99', 'UIS.E.23.Pu', 'SE.SEC.ENRR.UP.FE ', 'UIS.XGDP.FSgov.FDinstadm.FFd', 'UIS.LR.Ag65.F', 'UIS.SR.1.Glast.GPI', 'UIS.thAge.3.A.GPV', 'UIS.thDur.4.A.GPV', 'UIS.LP.Ag15t24', 'UIS.NIR.1.AgM1.M', 'UIS.FOSEP.56.Fuk.F', 'UIS.E.2.Pu.F', 'UIS.thAge.4.A.GPV', 'UIS.thAge.0', 'UIS.OE.56.40510 ', 'UIS.CEAge.1', 'UIS.E.1.Guk.F', 'UIS.NIR.1.AgP1', 'UIS.GER.1t6.F', 'UIS.SLE.1t6.GPI', 'UIS.LP.Ag65', 'UIS.LR.Ag65.M', 'UIS.E.4.Pu', 'UIS.AIR.1.Glast.GPI', 'UIS.E.3.Pu.F', 'UIS.XSpendP.56.Fdpub.Fnnons', 'UIS.E.1.Pu.F', 'UIS.E.0.Pu.F', 'UIS.LP.Ag15t24.M'},\n",
      "\n",
      "\n",
      "la difference entre indicateur dataframe data et dataframe series sont : \n",
      "\n",
      "{'UIS.E.1.PU.F', 'UIS.TRANRA.23.GPV.GPI', 'UIS.LP.AG65.M', 'UIS.E.2.PU.F', 'UIS.NIR.1.AGP1', 'UIS.LP.AG15T24.M', 'SE.SEC.ENRR.UP.FE', 'UIS.E.1.GUK.F', 'UIS.LPP.AG15T99', 'UIS.E.1.GUK', 'UIS.GER.1T6.M', 'UIS.NIR.1.AGP1.M', 'UIS.LR.AG15T99.GPI', 'UIS.E.1.PU', 'UIS.SR.1.GLAST.GPI', 'UIS.THAGE.0', 'UIS.LR.AG65.M', 'UIS.LPP.AG65', 'UIS.E.23.PU.F', 'UIS.E.4.PU', 'UIS.FOSEP.56.FUK.F', 'UIS.NIR.1.AGM1.F', 'UIS.THAGE.4.A.GPV', 'UIS.E.4.PU.F', 'UIS.NIR.1.AGP1.F', 'UIS.SLE.1T6.GPI', 'UIS.LP.AG15T99.F', 'UIS.LP.AG15T99', 'UIS.LP.AG65', 'UIS.XGDP.1.FSGOV.FDINSTADM.FFD', 'UIS.E.23.PU', 'UIS.LP.AG15T24', 'UIS.OE.56.40510', 'UIS.CEAGE.1', 'UIS.GER.1T6.F', 'UIS.THDUR.0', 'UIS.XSPENDP.56.FDPUB.FNNONS', 'UIS.LP.AG15T24.F', 'UIS.XGDP.0.FSGOV.FDINSTADM.FFD', 'UIS.E.0.PU.F', 'UIS.NIR.1.AGM1', 'UIS.NIR.1.AGM1.M', 'UIS.THAGE.3.A.GPV', 'UIS.THDUR.4.A.GPV', 'SE.SEC.DURS.LO', 'UIS.LR.AG65.F', 'UIS.XGDP.FSGOV.FDINSTADM.FFD', 'UIS.XPUBP.4', 'UIS.XPUBP.0', 'UIS.AIR.1.GLAST.GPI', 'UIS.E.3.PU.F', 'UIS.XSPENDP.56.FDPUB.FNCAP', 'UIS.GER.1T6.GPI'}\n"
     ]
    }
   ],
   "source": [
    "\"\"\" Meilleurs façon de faire et de detection des difference  on utilisant SET\"\"\"\n",
    "\n",
    "print(f'la difference entre indicateur de dataframe series et indicateur de dataframe data sont :\\n\\n {set(All_indicateur_series) - set(All_indicateur)},\\n\\n')\n",
    "print(f'la difference entre indicateur dataframe data et dataframe series sont : \\n\\n{set(All_indicateur) -set(All_indicateur_series)}')"
   ]
  },
  {
   "cell_type": "code",
   "execution_count": 49,
   "metadata": {},
   "outputs": [
    {
     "name": "stdout",
     "output_type": "stream",
     "text": [
      " la difference entre les deux apres la correction est : \tset()\n",
      "\n",
      " la difference entre les deux apres la correction est : \tset()\n"
     ]
    }
   ],
   "source": [
    "'''on corrige les erreurs de majuscule et de miniscule des deux dataframe :'''\n",
    "All_indicateur = np.array([ind.upper().strip() for ind in All_indicateur])\n",
    "All_indicateur_series = np.array([indi.upper().strip() for indi in All_indicateur_series])\n",
    "print(f' la difference entre les deux apres la correction est : \\t{set(All_indicateur) -set(All_indicateur_series)}\\n')\n",
    "print(f' la difference entre les deux apres la correction est : \\t{set(All_indicateur_series) -set(All_indicateur)}')"
   ]
  },
  {
   "cell_type": "markdown",
   "metadata": {},
   "source": [
    "- ON regarde les topic:"
   ]
  },
  {
   "cell_type": "code",
   "execution_count": 50,
   "metadata": {},
   "outputs": [
    {
     "name": "stdout",
     "output_type": "stream",
     "text": [
      "il ya 37 deffirents topics dans dataframe series,\n"
     ]
    },
    {
     "data": {
      "text/html": [
       "<div>\n",
       "<style scoped>\n",
       "    .dataframe tbody tr th:only-of-type {\n",
       "        vertical-align: middle;\n",
       "    }\n",
       "\n",
       "    .dataframe tbody tr th {\n",
       "        vertical-align: top;\n",
       "    }\n",
       "\n",
       "    .dataframe thead th {\n",
       "        text-align: right;\n",
       "    }\n",
       "</style>\n",
       "<table border=\"1\" class=\"dataframe\">\n",
       "  <thead>\n",
       "    <tr style=\"text-align: right;\">\n",
       "      <th></th>\n",
       "      <th>Series Code</th>\n",
       "    </tr>\n",
       "    <tr>\n",
       "      <th>Topic</th>\n",
       "      <th></th>\n",
       "    </tr>\n",
       "  </thead>\n",
       "  <tbody>\n",
       "    <tr>\n",
       "      <th>Attainment</th>\n",
       "      <td>733</td>\n",
       "    </tr>\n",
       "    <tr>\n",
       "      <th>Background</th>\n",
       "      <td>2</td>\n",
       "    </tr>\n",
       "    <tr>\n",
       "      <th>EMIS</th>\n",
       "      <td>2</td>\n",
       "    </tr>\n",
       "    <tr>\n",
       "      <th>Early Child Development (SABER)</th>\n",
       "      <td>12</td>\n",
       "    </tr>\n",
       "    <tr>\n",
       "      <th>Early Childhood Education</th>\n",
       "      <td>24</td>\n",
       "    </tr>\n",
       "    <tr>\n",
       "      <th>Economic Policy &amp; Debt: National accounts: Atlas GNI &amp; GNI per capita</th>\n",
       "      <td>1</td>\n",
       "    </tr>\n",
       "    <tr>\n",
       "      <th>Economic Policy &amp; Debt: National accounts: US$ at constant 2010 prices: Aggregate indicators</th>\n",
       "      <td>2</td>\n",
       "    </tr>\n",
       "    <tr>\n",
       "      <th>Economic Policy &amp; Debt: National accounts: US$ at current prices: Aggregate indicators</th>\n",
       "      <td>3</td>\n",
       "    </tr>\n",
       "    <tr>\n",
       "      <th>Economic Policy &amp; Debt: Purchasing power parity</th>\n",
       "      <td>6</td>\n",
       "    </tr>\n",
       "    <tr>\n",
       "      <th>Education Equality</th>\n",
       "      <td>426</td>\n",
       "    </tr>\n",
       "    <tr>\n",
       "      <th>Education Management Information Systems (SABER)</th>\n",
       "      <td>23</td>\n",
       "    </tr>\n",
       "    <tr>\n",
       "      <th>Engaging the Private Sector (SABER)</th>\n",
       "      <td>51</td>\n",
       "    </tr>\n",
       "    <tr>\n",
       "      <th>Expenditures</th>\n",
       "      <td>93</td>\n",
       "    </tr>\n",
       "    <tr>\n",
       "      <th>Health: Mortality</th>\n",
       "      <td>1</td>\n",
       "    </tr>\n",
       "    <tr>\n",
       "      <th>Health: Population: Dynamics</th>\n",
       "      <td>1</td>\n",
       "    </tr>\n",
       "    <tr>\n",
       "      <th>Health: Population: Structure</th>\n",
       "      <td>13</td>\n",
       "    </tr>\n",
       "    <tr>\n",
       "      <th>Health: Risk factors</th>\n",
       "      <td>1</td>\n",
       "    </tr>\n",
       "    <tr>\n",
       "      <th>Infrastructure: Communications</th>\n",
       "      <td>2</td>\n",
       "    </tr>\n",
       "    <tr>\n",
       "      <th>Laber</th>\n",
       "      <td>3</td>\n",
       "    </tr>\n",
       "    <tr>\n",
       "      <th>Learning Outcomes</th>\n",
       "      <td>1046</td>\n",
       "    </tr>\n",
       "    <tr>\n",
       "      <th>Literacy</th>\n",
       "      <td>32</td>\n",
       "    </tr>\n",
       "    <tr>\n",
       "      <th>Population</th>\n",
       "      <td>213</td>\n",
       "    </tr>\n",
       "    <tr>\n",
       "      <th>Post-Secondary/Non-Tertiary</th>\n",
       "      <td>19</td>\n",
       "    </tr>\n",
       "    <tr>\n",
       "      <th>Pre-Primary</th>\n",
       "      <td>14</td>\n",
       "    </tr>\n",
       "    <tr>\n",
       "      <th>Primary</th>\n",
       "      <td>248</td>\n",
       "    </tr>\n",
       "    <tr>\n",
       "      <th>School Autonomy and Accountability (SABER)</th>\n",
       "      <td>29</td>\n",
       "    </tr>\n",
       "    <tr>\n",
       "      <th>School Finance (SABER)</th>\n",
       "      <td>18</td>\n",
       "    </tr>\n",
       "    <tr>\n",
       "      <th>School Health and School Feeding (SABER)</th>\n",
       "      <td>9</td>\n",
       "    </tr>\n",
       "    <tr>\n",
       "      <th>Secondary</th>\n",
       "      <td>256</td>\n",
       "    </tr>\n",
       "    <tr>\n",
       "      <th>Social Protection &amp; Labor: Labor force structure</th>\n",
       "      <td>11</td>\n",
       "    </tr>\n",
       "    <tr>\n",
       "      <th>Social Protection &amp; Labor: Unemployment</th>\n",
       "      <td>3</td>\n",
       "    </tr>\n",
       "    <tr>\n",
       "      <th>Student Assessment (SABER)</th>\n",
       "      <td>15</td>\n",
       "    </tr>\n",
       "    <tr>\n",
       "      <th>Teachers</th>\n",
       "      <td>137</td>\n",
       "    </tr>\n",
       "    <tr>\n",
       "      <th>Teachers (SABER)</th>\n",
       "      <td>29</td>\n",
       "    </tr>\n",
       "    <tr>\n",
       "      <th>Tertiary</th>\n",
       "      <td>158</td>\n",
       "    </tr>\n",
       "    <tr>\n",
       "      <th>Tertiary Education (SABER)</th>\n",
       "      <td>17</td>\n",
       "    </tr>\n",
       "    <tr>\n",
       "      <th>Workforce Development (SABER)</th>\n",
       "      <td>12</td>\n",
       "    </tr>\n",
       "  </tbody>\n",
       "</table>\n",
       "</div>"
      ],
      "text/plain": [
       "                                                                                              Series Code\n",
       "Topic                                                                                                    \n",
       "Attainment                                                                                            733\n",
       "Background                                                                                              2\n",
       "EMIS                                                                                                    2\n",
       "Early Child Development (SABER)                                                                        12\n",
       "Early Childhood Education                                                                              24\n",
       "Economic Policy & Debt: National accounts: Atlas GNI & GNI per capita                                   1\n",
       "Economic Policy & Debt: National accounts: US$ at constant 2010 prices: Aggregate indicators            2\n",
       "Economic Policy & Debt: National accounts: US$ at current prices: Aggregate indicators                  3\n",
       "Economic Policy & Debt: Purchasing power parity                                                         6\n",
       "Education Equality                                                                                    426\n",
       "Education Management Information Systems (SABER)                                                       23\n",
       "Engaging the Private Sector (SABER)                                                                    51\n",
       "Expenditures                                                                                           93\n",
       "Health: Mortality                                                                                       1\n",
       "Health: Population: Dynamics                                                                            1\n",
       "Health: Population: Structure                                                                          13\n",
       "Health: Risk factors                                                                                    1\n",
       "Infrastructure: Communications                                                                          2\n",
       "Laber                                                                                                   3\n",
       "Learning Outcomes                                                                                    1046\n",
       "Literacy                                                                                               32\n",
       "Population                                                                                            213\n",
       "Post-Secondary/Non-Tertiary                                                                            19\n",
       "Pre-Primary                                                                                            14\n",
       "Primary                                                                                               248\n",
       "School Autonomy and Accountability (SABER)                                                             29\n",
       "School Finance (SABER)                                                                                 18\n",
       "School Health and School Feeding (SABER)                                                                9\n",
       "Secondary                                                                                             256\n",
       "Social Protection & Labor: Labor force structure                                                       11\n",
       "Social Protection & Labor: Unemployment                                                                 3\n",
       "Student Assessment (SABER)                                                                             15\n",
       "Teachers                                                                                              137\n",
       "Teachers (SABER)                                                                                       29\n",
       "Tertiary                                                                                              158\n",
       "Tertiary Education (SABER)                                                                             17\n",
       "Workforce Development (SABER)                                                                          12"
      ]
     },
     "execution_count": 50,
     "metadata": {},
     "output_type": "execute_result"
    }
   ],
   "source": [
    "topics = series['Topic'].unique()\n",
    "print(f'il ya {len(topics)} deffirents topics dans dataframe series,')\n",
    "\n",
    "series1 = series[['Series Code','Topic']].groupby('Topic').count()\n",
    "series1"
   ]
  },
  {
   "cell_type": "code",
   "execution_count": 51,
   "metadata": {},
   "outputs": [],
   "source": [
    "country_series1 = country_series[[\"CountryCode\",\"SeriesCode\"]].groupby('SeriesCode').count()\n",
    "#country_series1"
   ]
  },
  {
   "cell_type": "markdown",
   "metadata": {},
   "source": [
    "#### D'aprés les topics : \n",
    "on tire les topics interessantes selon notre étude, donc on s'interesse à : \n",
    "- Health: Population: Structure \n",
    "- population:\n",
    "- Economic Policy & Debt: Purchasing power parity\n",
    "- Secondary : \n",
    "- Tertiary  : \n",
    "- Attainement\n",
    "- Infrastructure : Communications"
   ]
  },
  {
   "cell_type": "markdown",
   "metadata": {},
   "source": [
    "#### Les indicateurs dans chaque topics :"
   ]
  },
  {
   "cell_type": "markdown",
   "metadata": {},
   "source": [
    "### Health: Population: Structure :\n",
    "- Population, total SP.POP.TOTL\n",
    "\n",
    "### population:\n",
    "- Population, ages 15-24, totalSP.POP.1524.TO.UN\n",
    "\n",
    "### Learning Outcomes:\n",
    "-  PIAAC: Young adults by proficiency level in problem solving in technology-rich environments (%). No computer experience or      failed the ICT core test LO.PIAAC.TEC.YOU.FAILNO\n",
    "-  PIAAC: Adults by proficiency level in problem solving in technology-rich environments (%). Failed the ICT Core Test LO.PIAAC.TEC.FAIL\n",
    "-    PIAAC: Adults by proficiency level in problem solving in technology-rich environments (%). No computer experience LO.PIAAC.TEC.NO\n",
    "#### Economic Policy & Debt: Purchasing power parity\n",
    "- PIAAC: Adults by proficiency level in problem solving in technology-rich environments (%). No computer experience NY.GDP.MKTP.PP.CD\n",
    "\n"
   ]
  },
  {
   "cell_type": "markdown",
   "metadata": {},
   "source": [
    "#### \tSecondary:\n",
    " - Enrolment in upper secondary education, both sexes (number) UIS.E.3\n",
    " - Gross enrolment ratio, primary and lower secondary, both sexes (%) \n",
    " - Enrolment in upper secondary general, both sexes (number) UIS.E.3.GPV\n",
    " - Adjusted net enrolment rate, upper secondary, both sexes (%)UIS.NERA.3\n",
    " - Enrolment in secondary education, both sexes (number) SE.SEC.ENRL\n",
    " - Enrolment in secondary general, both sexes (number) SE.SEC.ENRL.GC\n",
    " - SE.SEC.ENRR.UP Gross enrolment ratio, upper secondary, both sexes (%)\n",
    " ####  \tTertiary\n",
    " - Adult literacy rate, population 15+ years, both sexes (%)SE.ADT.LITR.ZS.\n",
    " - Enrolment in tertiary education, ISCED 5 programmes, both sexes (number)  UIS.E.5.B\n",
    " - Enrolment in tertiary education, ISCED 6 programmes, both sexes (number) UIS.E.6\n",
    " - Enrolment in tertiary education, ISCED 7 programmes, both sexes (number) UIS.E.7\n",
    " - Enrolment in tertiary education, ISCED 8 programmes, both sexes (number) UIS.E.8\n",
    " - Enrolment in tertiary education, all programmes, both sexes (number)  SE.TER.ENRL\n",
    " - Gross enrolment ratio, tertiary, both sexes (%) SE.TER.ENRR\n",
    " - Graduates from tertiary education, both sexes (number) SE.TER.GRAD\n",
    " - Gross graduation ratio from first degree programmes (ISCED 6 and 7) in tertiary education, both sexes (%) SE.TER.CMPL.ZS'"
   ]
  },
  {
   "cell_type": "markdown",
   "metadata": {},
   "source": [
    "### Infrastructure: communication :\n",
    "- Internet users (per 100 people):IT.NET.USER.P2.\n",
    "- Personal computers (per 100 people):IT.CMP.PCMP.P2.\n",
    "\n",
    "#### Topic : Attainement\n",
    "\n",
    " - Percentage of population age 15+ with secondary schooling. Completed Secondary   BAR.SEC.CMPT.15UP.ZS\n",
    " - Percentage of population age 15+ with tertiary schooling. Completed Tertiary \tBAR.TER.CMPT.15UP.ZS\n",
    " - Percentage of population age 25+ with secondary schooling. Completed Secondary                 BAR.SEC.CMPT.25UP.ZS\n",
    " - Percentage of population age 25+ with tertiary schooling. Completed Tertiary     BAR.TER.CMPT.25UP.ZS\n",
    " - Percentage of the population age 15+ by highest level of educational attainment. Upper Secondary. Total  PRJ.ATT.15UP.3.MF\n",
    " - Percentage of the population age 15+ by highest level of educational attainment. Post Secondary. Total     PRJ.ATT.15UP.4.MF\n",
    " - Percentage of the population age 25+ by highest level of educational attainment. Upper Secondary. Total PRJ.ATT.25UP.3.MF\n",
    " - Percentage of the population age 25+ by highest level of educational attainment. Post Secondary. Total PRJ.ATT.25UP.4.MF\n",
    " - Percentage of the population age 20-24 by highest level of educational attainment. Upper Secondary. Total  PRJ.ATT.2024.3.MF\n",
    " - Percentage of the population age 20-24 by highest level of educational attainment. Post Secondary PRJ.ATT.2024.4.MF\n",
    " - Population age 20-24 in thousands by highest level of educational attainment. Upper Secondary. Total PRJ.POP.2024.3.MF\n",
    " - Projection: Population age 20-24 in thousands by highest level of educational attainment. Post Secondary. TotalPRJ.POP.2024.4.MF\n",
    " - Projection: Population in thousands by highest level of educational attainment. Upper Secondary. Total  PRJ.POP.ALL.3.MF.\n",
    " -   Projection: Population in thousands by highest level of educational attainment. Post Secondary. Total PRJ.POP.ALL.4.MF\n",
    " - Projection: Percentage of the total population by highest level of educational attainment. Upper Secondary PRJ.ATT.ALL.3.MF\n",
    " - Projection: Percentage of the total population by highest level of educational attainment. Post Secondary. PRJ.ATT.ALL.4.MF'\n",
    " -  UIS: Percentage of population age 25+ with at least completed upper secondary education (ISCED 3 or higher) UIS.EA.3T6.AG25T99\n",
    " - UIS: Percentage of population age 25+ with at least a completed bachelor's or equivalent degree (ISCED 6 or higher) UIS.EA.6T8.AG25T99\n",
    "\n"
   ]
  },
  {
   "cell_type": "markdown",
   "metadata": {},
   "source": [
    "- A chaque fois je change l'indicateurs et je vois quelle indicateurs qui a bcp de données par le heatmap"
   ]
  },
  {
   "cell_type": "markdown",
   "metadata": {},
   "source": [
    "La cible de notre entreprise :\n",
    "- la population des 15-24 ans, \n",
    "- le nombre d'étudiants scolarisés au niveau lycée et universités.\n",
    "- le niveau de vie des habitants comparable par pays\n",
    "- les moyens de communication (accès au réseau internet, possession d'un ordinateur personnel).\n",
    "\n",
    "En parcourant le site de la banque mondiale:\n",
    "\n",
    "- les différents groupes d'indicateur à étudier sont :\n",
    "    \n",
    "    - **SE** : Social Education\n",
    "    - **SP** : Social Population\n",
    "    - **IT** : Infrastructure\n",
    "    - **NY** : National Accounts, produits intérieurs et nationaux\n",
    "  \n",
    "\n",
    "- les différents mots clés à rechercher :\n",
    "    - **15** : pour la cible de la population des 15-19 ans\n",
    "    - **20** : pour la cible de la population des 20-24 ans\n",
    "    - **SEC** : pour les regroupements par lycéens\n",
    "    - **TER** : pour les regroupements par étudiants de l'enseignement supérieur\n",
    "    - **IT** : pour l'accès aux infrastructures techniques\n"
   ]
  },
  {
   "cell_type": "code",
   "execution_count": 52,
   "metadata": {},
   "outputs": [],
   "source": [
    "my_indicators = ['SP.POP.1524.TO.UN','IT.NET.USER.P2','SE.TER.ENRR','SE.SEC.ENRR','NY.GNP.PCAP.PP.CD']\n"
   ]
  },
  {
   "cell_type": "code",
   "execution_count": 53,
   "metadata": {},
   "outputs": [
    {
     "name": "stdout",
     "output_type": "stream",
     "text": [
      "Nombre de lignes à l'origine : 886930\n"
     ]
    }
   ],
   "source": [
    "df_pays=data.copy()\n",
    "df_pays.drop(columns=['Unnamed: 69'],inplace=True)\n",
    "df_pays.shape\n",
    "print(f'Nombre de lignes à l\\'origine : {df_pays.shape[0]}')"
   ]
  },
  {
   "cell_type": "markdown",
   "metadata": {},
   "source": [
    "<**Réduction temporelle**>\n",
    "\n",
    "D'après la description des données de EdStastsData.csv,on s'interesse à une plage d'année 2000-2020 (plus de 94% de NaN pour 2016-2017) mais on verra la suite : **Plage temporelle** retenue : **2000-2020**.    "
   ]
  },
  {
   "cell_type": "code",
   "execution_count": 54,
   "metadata": {},
   "outputs": [
    {
     "data": {
      "text/plain": [
       "array(['2000', '2001', '2002', '2003', '2004', '2005', '2006', '2007',\n",
       "       '2008', '2009', '2010', '2011', '2012', '2013', '2014', '2015',\n",
       "       '2016', '2017'], dtype='<U4')"
      ]
     },
     "execution_count": 54,
     "metadata": {},
     "output_type": "execute_result"
    }
   ],
   "source": [
    "years = list(df_pays.columns.values[4:])\n",
    "All_years = np.array([year for year  in years if int(year) >= 2000 and int(year) < 2020])\n",
    "All_years\n"
   ]
  },
  {
   "cell_type": "code",
   "execution_count": 55,
   "metadata": {},
   "outputs": [
    {
     "data": {
      "text/html": [
       "<div>\n",
       "<style scoped>\n",
       "    .dataframe tbody tr th:only-of-type {\n",
       "        vertical-align: middle;\n",
       "    }\n",
       "\n",
       "    .dataframe tbody tr th {\n",
       "        vertical-align: top;\n",
       "    }\n",
       "\n",
       "    .dataframe thead th {\n",
       "        text-align: right;\n",
       "    }\n",
       "</style>\n",
       "<table border=\"1\" class=\"dataframe\">\n",
       "  <thead>\n",
       "    <tr style=\"text-align: right;\">\n",
       "      <th></th>\n",
       "      <th>Country Name</th>\n",
       "      <th>Country Code</th>\n",
       "      <th>Indicator Name</th>\n",
       "      <th>Indicator Code</th>\n",
       "      <th>2000</th>\n",
       "      <th>2001</th>\n",
       "      <th>2002</th>\n",
       "      <th>2003</th>\n",
       "      <th>2004</th>\n",
       "      <th>2005</th>\n",
       "      <th>...</th>\n",
       "      <th>2008</th>\n",
       "      <th>2009</th>\n",
       "      <th>2010</th>\n",
       "      <th>2011</th>\n",
       "      <th>2012</th>\n",
       "      <th>2013</th>\n",
       "      <th>2014</th>\n",
       "      <th>2015</th>\n",
       "      <th>2016</th>\n",
       "      <th>2017</th>\n",
       "    </tr>\n",
       "  </thead>\n",
       "  <tbody>\n",
       "    <tr>\n",
       "      <th>0</th>\n",
       "      <td>Arab World</td>\n",
       "      <td>ARB</td>\n",
       "      <td>Adjusted net enrolment rate, lower secondary, both sexes (%)</td>\n",
       "      <td>UIS.NERA.2</td>\n",
       "      <td>NaN</td>\n",
       "      <td>NaN</td>\n",
       "      <td>NaN</td>\n",
       "      <td>NaN</td>\n",
       "      <td>NaN</td>\n",
       "      <td>NaN</td>\n",
       "      <td>...</td>\n",
       "      <td>NaN</td>\n",
       "      <td>NaN</td>\n",
       "      <td>NaN</td>\n",
       "      <td>NaN</td>\n",
       "      <td>NaN</td>\n",
       "      <td>NaN</td>\n",
       "      <td>NaN</td>\n",
       "      <td>NaN</td>\n",
       "      <td>NaN</td>\n",
       "      <td>NaN</td>\n",
       "    </tr>\n",
       "    <tr>\n",
       "      <th>1</th>\n",
       "      <td>Arab World</td>\n",
       "      <td>ARB</td>\n",
       "      <td>Adjusted net enrolment rate, lower secondary, female (%)</td>\n",
       "      <td>UIS.NERA.2.F</td>\n",
       "      <td>NaN</td>\n",
       "      <td>NaN</td>\n",
       "      <td>NaN</td>\n",
       "      <td>NaN</td>\n",
       "      <td>NaN</td>\n",
       "      <td>NaN</td>\n",
       "      <td>...</td>\n",
       "      <td>NaN</td>\n",
       "      <td>NaN</td>\n",
       "      <td>NaN</td>\n",
       "      <td>NaN</td>\n",
       "      <td>NaN</td>\n",
       "      <td>NaN</td>\n",
       "      <td>NaN</td>\n",
       "      <td>NaN</td>\n",
       "      <td>NaN</td>\n",
       "      <td>NaN</td>\n",
       "    </tr>\n",
       "  </tbody>\n",
       "</table>\n",
       "<p>2 rows × 22 columns</p>\n",
       "</div>"
      ],
      "text/plain": [
       "  Country Name Country Code  \\\n",
       "0   Arab World          ARB   \n",
       "1   Arab World          ARB   \n",
       "\n",
       "                                                 Indicator Name  \\\n",
       "0  Adjusted net enrolment rate, lower secondary, both sexes (%)   \n",
       "1      Adjusted net enrolment rate, lower secondary, female (%)   \n",
       "\n",
       "  Indicator Code  2000  2001  2002  2003  2004  2005  ...  2008  2009  2010  \\\n",
       "0     UIS.NERA.2   NaN   NaN   NaN   NaN   NaN   NaN  ...   NaN   NaN   NaN   \n",
       "1   UIS.NERA.2.F   NaN   NaN   NaN   NaN   NaN   NaN  ...   NaN   NaN   NaN   \n",
       "\n",
       "   2011  2012  2013  2014  2015  2016  2017  \n",
       "0   NaN   NaN   NaN   NaN   NaN   NaN   NaN  \n",
       "1   NaN   NaN   NaN   NaN   NaN   NaN   NaN  \n",
       "\n",
       "[2 rows x 22 columns]"
      ]
     },
     "execution_count": 55,
     "metadata": {},
     "output_type": "execute_result"
    }
   ],
   "source": [
    "df_pays = df_pays.filter(list(df_pays.columns.values[:4]) + list(All_years))\n",
    "df_pays.head(2)\n"
   ]
  },
  {
   "cell_type": "code",
   "execution_count": 56,
   "metadata": {},
   "outputs": [
    {
     "data": {
      "text/html": [
       "<div>\n",
       "<style scoped>\n",
       "    .dataframe tbody tr th:only-of-type {\n",
       "        vertical-align: middle;\n",
       "    }\n",
       "\n",
       "    .dataframe tbody tr th {\n",
       "        vertical-align: top;\n",
       "    }\n",
       "\n",
       "    .dataframe thead th {\n",
       "        text-align: right;\n",
       "    }\n",
       "</style>\n",
       "<table border=\"1\" class=\"dataframe\">\n",
       "  <thead>\n",
       "    <tr style=\"text-align: right;\">\n",
       "      <th></th>\n",
       "      <th>Country Name</th>\n",
       "      <th>Country Code</th>\n",
       "      <th>Indicator Name</th>\n",
       "      <th>Indicator Code</th>\n",
       "      <th>2000</th>\n",
       "      <th>2001</th>\n",
       "      <th>2002</th>\n",
       "      <th>2003</th>\n",
       "      <th>2004</th>\n",
       "      <th>2005</th>\n",
       "      <th>...</th>\n",
       "      <th>2008</th>\n",
       "      <th>2009</th>\n",
       "      <th>2010</th>\n",
       "      <th>2011</th>\n",
       "      <th>2012</th>\n",
       "      <th>2013</th>\n",
       "      <th>2014</th>\n",
       "      <th>2015</th>\n",
       "      <th>2016</th>\n",
       "      <th>2017</th>\n",
       "    </tr>\n",
       "  </thead>\n",
       "  <tbody>\n",
       "    <tr>\n",
       "      <th>1252</th>\n",
       "      <td>Arab World</td>\n",
       "      <td>ARB</td>\n",
       "      <td>GNI per capita, PPP (current international $)</td>\n",
       "      <td>NY.GNP.PCAP.PP.CD</td>\n",
       "      <td>8966.476028</td>\n",
       "      <td>9224.632683</td>\n",
       "      <td>9256.850109</td>\n",
       "      <td>9831.654380</td>\n",
       "      <td>10590.896336</td>\n",
       "      <td>11369.476580</td>\n",
       "      <td>...</td>\n",
       "      <td>13824.485684</td>\n",
       "      <td>13852.502783</td>\n",
       "      <td>14284.023177</td>\n",
       "      <td>14996.156034</td>\n",
       "      <td>15846.498202</td>\n",
       "      <td>16141.560252</td>\n",
       "      <td>NaN</td>\n",
       "      <td>NaN</td>\n",
       "      <td>NaN</td>\n",
       "      <td>NaN</td>\n",
       "    </tr>\n",
       "    <tr>\n",
       "      <th>1335</th>\n",
       "      <td>Arab World</td>\n",
       "      <td>ARB</td>\n",
       "      <td>Gross enrolment ratio, secondary, both sexes (%)</td>\n",
       "      <td>SE.SEC.ENRR</td>\n",
       "      <td>59.745178</td>\n",
       "      <td>61.171799</td>\n",
       "      <td>62.234928</td>\n",
       "      <td>64.037773</td>\n",
       "      <td>65.853859</td>\n",
       "      <td>65.931007</td>\n",
       "      <td>...</td>\n",
       "      <td>65.342293</td>\n",
       "      <td>66.828903</td>\n",
       "      <td>68.050880</td>\n",
       "      <td>70.691490</td>\n",
       "      <td>71.716560</td>\n",
       "      <td>70.274689</td>\n",
       "      <td>70.735046</td>\n",
       "      <td>NaN</td>\n",
       "      <td>NaN</td>\n",
       "      <td>NaN</td>\n",
       "    </tr>\n",
       "  </tbody>\n",
       "</table>\n",
       "<p>2 rows × 22 columns</p>\n",
       "</div>"
      ],
      "text/plain": [
       "     Country Name Country Code  \\\n",
       "1252   Arab World          ARB   \n",
       "1335   Arab World          ARB   \n",
       "\n",
       "                                        Indicator Name     Indicator Code  \\\n",
       "1252     GNI per capita, PPP (current international $)  NY.GNP.PCAP.PP.CD   \n",
       "1335  Gross enrolment ratio, secondary, both sexes (%)        SE.SEC.ENRR   \n",
       "\n",
       "             2000         2001         2002         2003          2004  \\\n",
       "1252  8966.476028  9224.632683  9256.850109  9831.654380  10590.896336   \n",
       "1335    59.745178    61.171799    62.234928    64.037773     65.853859   \n",
       "\n",
       "              2005  ...          2008          2009          2010  \\\n",
       "1252  11369.476580  ...  13824.485684  13852.502783  14284.023177   \n",
       "1335     65.931007  ...     65.342293     66.828903     68.050880   \n",
       "\n",
       "              2011          2012          2013       2014  2015  2016  2017  \n",
       "1252  14996.156034  15846.498202  16141.560252        NaN   NaN   NaN   NaN  \n",
       "1335     70.691490     71.716560     70.274689  70.735046   NaN   NaN   NaN  \n",
       "\n",
       "[2 rows x 22 columns]"
      ]
     },
     "execution_count": 56,
     "metadata": {},
     "output_type": "execute_result"
    }
   ],
   "source": [
    "my_data = df_pays.loc[df_pays['Indicator Code'].isin(my_indicators)]\n",
    "my_data.head(2)"
   ]
  },
  {
   "cell_type": "code",
   "execution_count": 57,
   "metadata": {},
   "outputs": [
    {
     "name": "stdout",
     "output_type": "stream",
     "text": [
      "Nombre de lignes restantes : 1210\n"
     ]
    }
   ],
   "source": [
    "print(f'Nombre de lignes restantes : {my_data.shape[0]}')"
   ]
  },
  {
   "cell_type": "markdown",
   "metadata": {},
   "source": [
    "**Suppression des indicateurs des pays avec aucune donnée pour toutes les années**"
   ]
  },
  {
   "cell_type": "code",
   "execution_count": 58,
   "metadata": {},
   "outputs": [
    {
     "name": "stdout",
     "output_type": "stream",
     "text": [
      "Nombre de lignes restantes : 1063\n"
     ]
    },
    {
     "name": "stderr",
     "output_type": "stream",
     "text": [
      "C:\\Users\\Lynda\\AppData\\Local\\Temp\\ipykernel_22776\\1127468580.py:1: SettingWithCopyWarning: \n",
      "A value is trying to be set on a copy of a slice from a DataFrame\n",
      "\n",
      "See the caveats in the documentation: https://pandas.pydata.org/pandas-docs/stable/user_guide/indexing.html#returning-a-view-versus-a-copy\n",
      "  my_data.dropna(thresh = 5, inplace=True)\n"
     ]
    }
   ],
   "source": [
    "my_data.dropna(thresh = 5, inplace=True)\n",
    "print(f'Nombre de lignes restantes : {my_data.shape[0]}')"
   ]
  },
  {
   "cell_type": "code",
   "execution_count": 59,
   "metadata": {},
   "outputs": [
    {
     "data": {
      "image/png": "[encoded data removed]",
      "text/plain": [
       "<Figure size 2000x1000 with 1 Axes>"
      ]
     },
     "metadata": {},
     "output_type": "display_data"
    }
   ],
   "source": [
    "plt.figure(figsize=(20,10))\n",
    "data_map=my_data.set_index('Country Name')\n",
    "#data_map\n",
    "sns.heatmap(data_map.isna(), cbar=False)\n",
    "plt.show()  "
   ]
  },
  {
   "cell_type": "code",
   "execution_count": 60,
   "metadata": {},
   "outputs": [
    {
     "data": {
      "text/plain": [
       "Index(['Country Name', 'Country Code', 'Indicator Name', 'Indicator Code',\n",
       "       '2000', '2001', '2002', '2003', '2004', '2005', '2006', '2007', '2008',\n",
       "       '2009', '2010', '2011', '2012', '2013', '2014', '2015', '2016', '2017'],\n",
       "      dtype='object')"
      ]
     },
     "execution_count": 60,
     "metadata": {},
     "output_type": "execute_result"
    }
   ],
   "source": [
    "my_data.columns"
   ]
  },
  {
   "cell_type": "code",
   "execution_count": 61,
   "metadata": {},
   "outputs": [
    {
     "data": {
      "text/html": [
       "<div>\n",
       "<style scoped>\n",
       "    .dataframe tbody tr th:only-of-type {\n",
       "        vertical-align: middle;\n",
       "    }\n",
       "\n",
       "    .dataframe tbody tr th {\n",
       "        vertical-align: top;\n",
       "    }\n",
       "\n",
       "    .dataframe thead th {\n",
       "        text-align: right;\n",
       "    }\n",
       "</style>\n",
       "<table border=\"1\" class=\"dataframe\">\n",
       "  <thead>\n",
       "    <tr style=\"text-align: right;\">\n",
       "      <th></th>\n",
       "      <th>Country Name</th>\n",
       "      <th>Country Code</th>\n",
       "      <th>Indicator Name</th>\n",
       "      <th>Indicator Code</th>\n",
       "      <th>2000</th>\n",
       "      <th>2001</th>\n",
       "      <th>2002</th>\n",
       "      <th>2003</th>\n",
       "      <th>2004</th>\n",
       "      <th>2005</th>\n",
       "      <th>...</th>\n",
       "      <th>IMF data dissemination standard</th>\n",
       "      <th>Latest population census</th>\n",
       "      <th>Latest household survey</th>\n",
       "      <th>Source of most recent Income and expenditure data</th>\n",
       "      <th>Vital registration complete</th>\n",
       "      <th>Latest agricultural census</th>\n",
       "      <th>Latest industrial data</th>\n",
       "      <th>Latest trade data</th>\n",
       "      <th>Latest water withdrawal data</th>\n",
       "      <th>Unnamed: 31</th>\n",
       "    </tr>\n",
       "  </thead>\n",
       "  <tbody>\n",
       "    <tr>\n",
       "      <th>0</th>\n",
       "      <td>Arab World</td>\n",
       "      <td>ARB</td>\n",
       "      <td>GNI per capita, PPP (current international $)</td>\n",
       "      <td>NY.GNP.PCAP.PP.CD</td>\n",
       "      <td>8966.476028</td>\n",
       "      <td>9224.632683</td>\n",
       "      <td>9256.850109</td>\n",
       "      <td>9831.654380</td>\n",
       "      <td>10590.896336</td>\n",
       "      <td>11369.476580</td>\n",
       "      <td>...</td>\n",
       "      <td>NaN</td>\n",
       "      <td>NaN</td>\n",
       "      <td>NaN</td>\n",
       "      <td>NaN</td>\n",
       "      <td>NaN</td>\n",
       "      <td>NaN</td>\n",
       "      <td>NaN</td>\n",
       "      <td>NaN</td>\n",
       "      <td>NaN</td>\n",
       "      <td>NaN</td>\n",
       "    </tr>\n",
       "    <tr>\n",
       "      <th>1</th>\n",
       "      <td>Arab World</td>\n",
       "      <td>ARB</td>\n",
       "      <td>Gross enrolment ratio, secondary, both sexes (%)</td>\n",
       "      <td>SE.SEC.ENRR</td>\n",
       "      <td>59.745178</td>\n",
       "      <td>61.171799</td>\n",
       "      <td>62.234928</td>\n",
       "      <td>64.037773</td>\n",
       "      <td>65.853859</td>\n",
       "      <td>65.931007</td>\n",
       "      <td>...</td>\n",
       "      <td>NaN</td>\n",
       "      <td>NaN</td>\n",
       "      <td>NaN</td>\n",
       "      <td>NaN</td>\n",
       "      <td>NaN</td>\n",
       "      <td>NaN</td>\n",
       "      <td>NaN</td>\n",
       "      <td>NaN</td>\n",
       "      <td>NaN</td>\n",
       "      <td>NaN</td>\n",
       "    </tr>\n",
       "  </tbody>\n",
       "</table>\n",
       "<p>2 rows × 53 columns</p>\n",
       "</div>"
      ],
      "text/plain": [
       "  Country Name Country Code                                    Indicator Name  \\\n",
       "0   Arab World          ARB     GNI per capita, PPP (current international $)   \n",
       "1   Arab World          ARB  Gross enrolment ratio, secondary, both sexes (%)   \n",
       "\n",
       "      Indicator Code         2000         2001         2002         2003  \\\n",
       "0  NY.GNP.PCAP.PP.CD  8966.476028  9224.632683  9256.850109  9831.654380   \n",
       "1        SE.SEC.ENRR    59.745178    61.171799    62.234928    64.037773   \n",
       "\n",
       "           2004          2005  ...  IMF data dissemination standard  \\\n",
       "0  10590.896336  11369.476580  ...                              NaN   \n",
       "1     65.853859     65.931007  ...                              NaN   \n",
       "\n",
       "   Latest population census  Latest household survey  \\\n",
       "0                       NaN                      NaN   \n",
       "1                       NaN                      NaN   \n",
       "\n",
       "   Source of most recent Income and expenditure data  \\\n",
       "0                                                NaN   \n",
       "1                                                NaN   \n",
       "\n",
       "   Vital registration complete  Latest agricultural census  \\\n",
       "0                          NaN                         NaN   \n",
       "1                          NaN                         NaN   \n",
       "\n",
       "   Latest industrial data  Latest trade data  Latest water withdrawal data  \\\n",
       "0                     NaN                NaN                           NaN   \n",
       "1                     NaN                NaN                           NaN   \n",
       "\n",
       "   Unnamed: 31  \n",
       "0          NaN  \n",
       "1          NaN  \n",
       "\n",
       "[2 rows x 53 columns]"
      ]
     },
     "execution_count": 61,
     "metadata": {},
     "output_type": "execute_result"
    }
   ],
   "source": [
    "DATA = pd.merge(my_data,country,on = 'Country Code',how = 'left')\n",
    "DATA.head(2)\n"
   ]
  },
  {
   "cell_type": "code",
   "execution_count": 62,
   "metadata": {},
   "outputs": [],
   "source": [
    "DATA.drop(['Short Name','2-alpha code',\n",
    "       'Currency Unit', 'Special Notes', 'WB-2 code',\n",
    "       'National accounts base year', 'National accounts reference year',\n",
    "       'SNA price valuation', 'Lending category', 'Other groups',\n",
    "       'System of National Accounts', 'Alternative conversion factor',\n",
    "       'PPP survey year', 'Balance of Payments Manual in use',\n",
    "       'External debt Reporting status', 'System of trade',\n",
    "       'Government Accounting concept', 'IMF data dissemination standard',\n",
    "       'Latest population census', 'Latest household survey',\n",
    "       'Source of most recent Income and expenditure data',\n",
    "       'Vital registration complete', 'Latest agricultural census',\n",
    "       'Latest industrial data', 'Latest trade data',\n",
    "       'Latest water withdrawal data', 'Unnamed: 31'],axis = 1, inplace = True)"
   ]
  },
  {
   "cell_type": "code",
   "execution_count": 63,
   "metadata": {},
   "outputs": [
    {
     "data": {
      "text/plain": [
       "235"
      ]
     },
     "execution_count": 63,
     "metadata": {},
     "output_type": "execute_result"
    }
   ],
   "source": [
    "DATA['Country Name'].nunique()"
   ]
  },
  {
   "cell_type": "code",
   "execution_count": 64,
   "metadata": {},
   "outputs": [
    {
     "data": {
      "text/plain": [
       "Country Name         0\n",
       "Country Code         0\n",
       "Indicator Name       0\n",
       "Indicator Code       0\n",
       "2000               137\n",
       "2001               124\n",
       "2002               108\n",
       "2003               119\n",
       "2004               105\n",
       "2005               109\n",
       "2006               121\n",
       "2007               115\n",
       "2008               118\n",
       "2009               112\n",
       "2010               113\n",
       "2011               102\n",
       "2012               114\n",
       "2013               135\n",
       "2014               150\n",
       "2015               226\n",
       "2016               626\n",
       "2017              1063\n",
       "Table Name           2\n",
       "Long Name            2\n",
       "Region             104\n",
       "Income Group       104\n",
       "dtype: int64"
      ]
     },
     "execution_count": 64,
     "metadata": {},
     "output_type": "execute_result"
    }
   ],
   "source": [
    "DATA.isna().sum()"
   ]
  },
  {
   "cell_type": "code",
   "execution_count": 65,
   "metadata": {},
   "outputs": [
    {
     "data": {
      "text/plain": [
       "(794, 26)"
      ]
     },
     "execution_count": 65,
     "metadata": {},
     "output_type": "execute_result"
    }
   ],
   "source": [
    "# je filtre ma data tout en gardons les pays riches et moyennement riche:\n",
    "income_group = ['Upper middle income', 'High income: nonOECD','Lower middle income', 'High income: OECD']\n",
    "data_filtre = DATA.loc[DATA['Income Group'].isin(income_group)]\n",
    "data_filtre.shape"
   ]
  },
  {
   "cell_type": "markdown",
   "metadata": {},
   "source": [
    "**Trouve que l'année 2010 comport bcp de donnée paraport aux autre année , on va choisir cette année pour notre étude**"
   ]
  },
  {
   "cell_type": "markdown",
   "metadata": {},
   "source": [
    "### Année 2010"
   ]
  },
  {
   "cell_type": "code",
   "execution_count": null,
   "metadata": {},
   "outputs": [],
   "source": [
    "df_score_2010 = data_filtre.pivot_table(index = ['Country Name'],columns = 'Indicator Code')['2010']\n",
    "df_score_2010"
   ]
  },
  {
   "cell_type": "markdown",
   "metadata": {},
   "source": [
    "- Les statistiques descriptives:"
   ]
  },
  {
   "cell_type": "code",
   "execution_count": null,
   "metadata": {},
   "outputs": [],
   "source": []
  },
  {
   "cell_type": "code",
   "execution_count": null,
   "metadata": {},
   "outputs": [],
   "source": [
    "# Statistiques descriptives\n",
    "# la moyenne : \n",
    "mean_num=df_score_2010['IT.NET.USER.P2'].mean()\n",
    "mean_eco=df_score_2010['NY.GNP.PCAP.PP.CD'].mean()\n",
    "mean_edu_sec=df_score_2010['SE.SEC.ENRR'].mean()\n",
    "mean_edu_ter=df_score_2010['SE.TER.ENRR'].mean()\n",
    "mean_pop=df_score_2010['SP.POP.1524.TO.UN'].mean()\n",
    "# la mediane\n",
    "median_num=df_score_2010['IT.NET.USER.P2'].median()\n",
    "median_eco=df_score_2010['NY.GNP.PCAP.PP.CD'].median()\n",
    "median_edu_sec=df_score_2010['SE.SEC.ENRR'].median()\n",
    "median_edu_ter=df_score_2010['SE.TER.ENRR'].median()\n",
    "median_pop=df_score_2010['SP.POP.1524.TO.UN'].median()\n",
    "# la variance\n",
    "var_num=df_score_2010['IT.NET.USER.P2'].var()\n",
    "var_eco=df_score_2010['NY.GNP.PCAP.PP.CD'].var()\n",
    "var_edu_sec=df_score_2010['SE.SEC.ENRR'].var()\n",
    "var_edu_ter=df_score_2010['SE.TER.ENRR'].var()\n",
    "var_pop=df_score_2010['SP.POP.1524.TO.UN'].var()\n",
    "\n",
    "std_num=df_score_2010['IT.NET.USER.P2'].std()\n",
    "std_eco=df_score_2010['NY.GNP.PCAP.PP.CD'].std()\n",
    "std_edu_sec=df_score_2010['SE.SEC.ENRR'].std()\n",
    "std_edu_ter=df_score_2010['SE.TER.ENRR'].std()\n",
    "std_pop=df_score_2010['SP.POP.1524.TO.UN'].std()\n",
    "\n",
    "skew_num=df_score_2010['IT.NET.USER.P2'].skew()\n",
    "skew_eco=df_score_2010['NY.GNP.PCAP.PP.CD'].skew()\n",
    "skew_edu_sec=df_score_2010['SE.SEC.ENRR'].skew()\n",
    "skew_edu_ter=df_score_2010['SE.TER.ENRR'].skew()\n",
    "skew_pop=df_score_2010['SP.POP.1524.TO.UN'].skew()\n",
    "\n",
    "kurtosis_num=df_score_2010['IT.NET.USER.P2'].kurtosis()\n",
    "kurtosis_eco=df_score_2010['NY.GNP.PCAP.PP.CD'].kurtosis()\n",
    "kurtosis_edu_sec=df_score_2010['SE.SEC.ENRR'].kurtosis()\n",
    "kurtosis_edu_ter=df_score_2010['SE.TER.ENRR'].kurtosis()\n",
    "kurtosis_pop=df_score_2010['SP.POP.1524.TO.UN'].kurtosis()\n",
    "\n",
    "data_stats = [['mean',mean_num, mean_eco, mean_edu_sec, mean_edu_ter, mean_pop],\n",
    "        ['median', median_num, median_eco, median_edu_sec,median_edu_ter,median_pop],\n",
    "        ['var',var_num, var_eco, var_edu_sec,var_edu_ter,var_pop], ['std',std_num, std_eco,std_edu_sec, std_edu_ter, std_pop], \n",
    "        ['skew', skew_num, skew_eco, skew_edu_sec, skew_edu_ter, skew_pop], \n",
    "        ['kurtosis', kurtosis_num, kurtosis_eco, kurtosis_edu_sec, kurtosis_edu_ter, kurtosis_pop]]\n",
    "\n",
    "df_stat = pd.DataFrame(data_stats,columns=['Description','IT.NET.USER.P2','NY.GNP.PCAP.PP.CD','SE.SEC.ENRR','SP.POP.1524.TO.UN','SE.TER.ENRR'])\n",
    "df_stat"
   ]
  },
  {
   "cell_type": "markdown",
   "metadata": {},
   "source": [
    "- Les courbes des indicateurs démographiques et économique sont étalées à droite (skewness positif)\n",
    "- La courbe de l'indicateur éducatif du niveau lycée est bimodale, étalée à gauche (skewness négatif)\n",
    "- La courbe de l'indicateur éducatif de l'enseignement supérieur est bimodale, étalée à droite (skewness positif)  \n",
    "- La courbe de l'indicateur numérique est bimodale et plus aplatie que la distribution normale (kurtosis empirique négatif)."
   ]
  },
  {
   "cell_type": "code",
   "execution_count": null,
   "metadata": {},
   "outputs": [],
   "source": [
    "# Liste des pays avec au moins un indicateur manquant\n",
    "pays_indic_manquant=df_score_2010.isnull().sum(axis=1)\n",
    "i_pays_indic_manquant=pays_indic_manquant[pays_indic_manquant > 1].index\n",
    "print(f'Nombre de pays à retirer : {len(i_pays_indic_manquant)}')\n",
    "df_pays_retires=df_score_2010.loc[i_pays_indic_manquant, :].sort_values(by='SE.SEC.ENRR', ascending=False)\n"
   ]
  },
  {
   "cell_type": "code",
   "execution_count": null,
   "metadata": {},
   "outputs": [],
   "source": [
    "df_score_2010.dropna(thresh = 4, inplace=True)\n",
    "print(f'Nombre de pays restant : {df_score_2010.shape[0]}')"
   ]
  },
  {
   "cell_type": "code",
   "execution_count": null,
   "metadata": {},
   "outputs": [],
   "source": [
    "from sklearn.impute import KNNImputer\n",
    "imputer = KNNImputer(weights='distance')\n",
    "knn_imputer = imputer.fit_transform(df_score_2010[['IT.NET.USER.P2','NY.GNP.PCAP.PP.CD','SE.SEC.ENRR','SE.TER.ENRR','SP.POP.1524.TO.UN']])\n",
    "df_score_2010[['IT.NET.USER.P2','NY.GNP.PCAP.PP.CD','SE.SEC.ENRR','SE.TER.ENRR','SP.POP.1524.TO.UN']] = knn_imputer\n"
   ]
  },
  {
   "cell_type": "code",
   "execution_count": null,
   "metadata": {},
   "outputs": [],
   "source": [
    "cols = ['IT.NET.USER.P2','NY.GNP.PCAP.PP.CD','SE.SEC.ENRR','SE.TER.ENRR','SP.POP.1524.TO.UN']"
   ]
  },
  {
   "cell_type": "code",
   "execution_count": null,
   "metadata": {},
   "outputs": [],
   "source": [
    "from sklearn.preprocessing import StandardScaler,MinMaxScaler\n",
    "scaler_std = StandardScaler()\n",
    "scaled_df_std= scaler_std.fit_transform(df_score_2010[cols])\n",
    "scaled_df_std = pd.DataFrame(scaled_df_std, columns=cols)\n",
    "\n"
   ]
  },
  {
   "cell_type": "code",
   "execution_count": null,
   "metadata": {},
   "outputs": [],
   "source": [
    "scaled_df_std['Country Name'] = df_score_2010.index\n",
    "scaled_df_std"
   ]
  },
  {
   "cell_type": "code",
   "execution_count": null,
   "metadata": {},
   "outputs": [],
   "source": [
    "scaled_df_std['score'] = [((row[0] + row[1] + row[2]+row[3]+row[4])) \n",
    "                        for row in zip(scaled_df_std['IT.NET.USER.P2'],\n",
    "                            scaled_df_std['NY.GNP.PCAP.PP.CD'],\n",
    "                            scaled_df_std['SE.SEC.ENRR'],\n",
    "                            scaled_df_std['SE.TER.ENRR'],\n",
    "                            scaled_df_std['SP.POP.1524.TO.UN'])]\n",
    "\n",
    "scaled_df_std.sort_values(by='score', ascending=False)"
   ]
  },
  {
   "cell_type": "markdown",
   "metadata": {},
   "source": [
    "** Top 10 des pays attractifs**"
   ]
  },
  {
   "cell_type": "code",
   "execution_count": null,
   "metadata": {},
   "outputs": [],
   "source": [
    "df_top10_prov = scaled_df_std[['Country Name','score']].sort_values(by='score',ascending=False).head(10)\n",
    "df_top10_prov['Place Provisoire']=np.arange(1, 11, 1)\n",
    "df_top10_prov['Country Name'].tolist\n",
    "df_top10_prov"
   ]
  },
  {
   "cell_type": "markdown",
   "metadata": {},
   "source": [
    "### Prediction pour les annéees 2000-2017"
   ]
  },
  {
   "cell_type": "code",
   "execution_count": null,
   "metadata": {},
   "outputs": [],
   "source": [
    "data_score_pred= data_filtre.copy()\n",
    "data_score_pred=data_score_pred[['Country Name', 'Country Code', 'Indicator Name', 'Indicator Code','2000', '2001', '2002', '2003', '2004', '2005', '2006', '2007', '2008', '2009', '2010', '2011', '2012', '2013', '2014','2015','2016']]\n"
   ]
  },
  {
   "cell_type": "code",
   "execution_count": null,
   "metadata": {},
   "outputs": [],
   "source": [
    "pays_top10=df_top10_prov['Country Name'].tolist()\n",
    "#pays_top10"
   ]
  },
  {
   "cell_type": "code",
   "execution_count": null,
   "metadata": {},
   "outputs": [],
   "source": [
    "country_top10=data_score_pred.loc[data_score_pred['Country Name'].isin(pays_top10)]\n",
    "\n"
   ]
  },
  {
   "cell_type": "code",
   "execution_count": null,
   "metadata": {},
   "outputs": [],
   "source": [
    "datamelt =country_top10.melt(id_vars = ['Country Name','Indicator Code'],value_vars =['2000','2001','2002','2003','2004','2005','2006','2007','2008','2009','2010','2011','2012','2013','2014','2015','2016'])\n",
    "datamelt"
   ]
  },
  {
   "cell_type": "code",
   "execution_count": null,
   "metadata": {},
   "outputs": [],
   "source": [
    "datamelt.rename(columns = {'variable': 'Year','value': 'Value'}, inplace = True)\n",
    "datamelt"
   ]
  },
  {
   "cell_type": "code",
   "execution_count": null,
   "metadata": {},
   "outputs": [],
   "source": [
    "pivot = datamelt.pivot_table(index = ['Country Name','Year'],columns = 'Indicator Code', values = 'Value')\n",
    "pivot"
   ]
  },
  {
   "cell_type": "code",
   "execution_count": null,
   "metadata": {},
   "outputs": [],
   "source": [
    "from sklearn.impute import KNNImputer\n",
    "imputer = KNNImputer(weights='distance')\n",
    "knn_imputer = imputer.fit_transform(pivot[['IT.NET.USER.P2','NY.GNP.PCAP.PP.CD','SE.SEC.ENRR','SE.TER.ENRR','SP.POP.1524.TO.UN']])\n",
    "pivot[['IT.NET.USER.P2','NY.GNP.PCAP.PP.CD','SE.SEC.ENRR','SE.TER.ENRR','SP.POP.1524.TO.UN']] = knn_imputer\n"
   ]
  },
  {
   "cell_type": "code",
   "execution_count": null,
   "metadata": {},
   "outputs": [],
   "source": [
    "pivot = pivot.reset_index()\n",
    "pivot"
   ]
  },
  {
   "cell_type": "code",
   "execution_count": null,
   "metadata": {},
   "outputs": [],
   "source": [
    "pivot.shape"
   ]
  },
  {
   "cell_type": "code",
   "execution_count": null,
   "metadata": {},
   "outputs": [],
   "source": [
    "pivot.isna().sum()"
   ]
  },
  {
   "cell_type": "code",
   "execution_count": null,
   "metadata": {},
   "outputs": [],
   "source": [
    "pivot.describe()"
   ]
  },
  {
   "cell_type": "markdown",
   "metadata": {},
   "source": [
    "### visualisation"
   ]
  },
  {
   "cell_type": "code",
   "execution_count": null,
   "metadata": {},
   "outputs": [],
   "source": [
    "plt.figure(figsize = (12,8))\n",
    "for CountryName in pivot['Country Name'].unique():\n",
    "    df = pivot[pivot['Country Name'] == CountryName]\n",
    "    plt.plot(df['Year'],df['IT.NET.USER.P2'], label = CountryName,marker = 'o')\n",
    "plt.title('Prédiction de l\\'indicateur numérique IT.NET.USER.P2 pour les top 10 pays')\n",
    "plt.legend()\n",
    "plt.show()"
   ]
  },
  {
   "cell_type": "code",
   "execution_count": null,
   "metadata": {},
   "outputs": [],
   "source": [
    "plt.figure(figsize = (12,8))\n",
    "for CountryName in pivot['Country Name'].unique():\n",
    "    df = pivot[pivot['Country Name'] == CountryName]\n",
    "    plt.plot(df['Year'],df['NY.GNP.PCAP.PP.CD'], label = CountryName,marker = 'o')\n",
    "plt.title('Prédiction de l\\'indicateur économique NY.GNP.PCAP.PP.CD pour les top 10 pays')\n",
    "plt.legend()\n",
    "plt.show()"
   ]
  },
  {
   "cell_type": "code",
   "execution_count": null,
   "metadata": {},
   "outputs": [],
   "source": [
    "plt.figure(figsize = (12,8))\n",
    "for CountryName in pivot['Country Name'].unique():\n",
    "    df = pivot[pivot['Country Name'] == CountryName]\n",
    "    plt.plot(df['Year'],df['SP.POP.1524.TO.UN'], label = CountryName,marker = 'o')\n",
    "plt.title('Prédiction de l\\'indicateur démographique SP.POP.1524.TO.UN pour les top 10 pays')\n",
    "plt.legend()\n",
    "plt.show()"
   ]
  },
  {
   "cell_type": "code",
   "execution_count": null,
   "metadata": {},
   "outputs": [],
   "source": [
    "plt.figure(figsize = (12,8))\n",
    "for CountryName in pivot['Country Name'].unique():\n",
    "    df = pivot[pivot['Country Name'] == CountryName]\n",
    "    plt.plot(df['Year'],df['SE.SEC.ENRR'], label = CountryName,marker = 'o')\n",
    "plt.title('Prédiction de l\\'indicateur éducatif lycée SE.SEC.ENRR pour les top 10 pays')\n",
    "plt.legend()\n",
    "plt.show()"
   ]
  },
  {
   "cell_type": "code",
   "execution_count": null,
   "metadata": {},
   "outputs": [],
   "source": [
    "plt.figure(figsize = (12,8))\n",
    "for CountryName in pivot['Country Name'].unique():\n",
    "    df = pivot[pivot['Country Name'] == CountryName]\n",
    "    plt.plot(df['Year'],df['SE.TER.ENRR'], label = CountryName,marker = 'o')\n",
    "plt.title('Prédiction de l\\'indicateur éducatif enseignement supérieur SE.TER.ENRR pour les top 10 pays')\n",
    "plt.legend()\n",
    "plt.show()"
   ]
  },
  {
   "cell_type": "markdown",
   "metadata": {},
   "source": [
    "### Classement final : \n",
    "- 1er : United States\n",
    "- 2ème : Norway\n",
    "- 3éme : Australia\n",
    "- 4ème : Netherlands\n",
    "- 5ème : Denmark\n",
    "- 6ème : Finland\t\t\n",
    "- 7éme : China\n",
    "- 8éme : New Zealand\n",
    "- 9éme : Korea, Rep\n",
    "- 10éme : Iceland\n"
   ]
  },
  {
   "cell_type": "markdown",
   "metadata": {},
   "source": [
    "Analyse des graphe:"
   ]
  },
  {
   "cell_type": "markdown",
   "metadata": {},
   "source": [
    "- Les graphiques montrent que la population des 15-24 ans a une tendance de stagener (comme presque tous les pays)\n",
    "(une population trés importante pour la chine et pour les états unis un peux dans la moyenne mais pour d'autre pays c'est très faible).\n",
    "- le taux d'utilisateur d'internet a une tendance croissante faible(  surtout la chine à partir année 2016).\n",
    "- le taux de scolarisation au niveau lycée en augmentation légère au dire se tagene dans la moyenne  pour certains pays mais est compensé par le taux de scolarisation dans l'enseignement supérieur(a une tendance- de coissance si on compare avec les etude en lycée)"
   ]
  },
  {
   "cell_type": "markdown",
   "metadata": {},
   "source": [
    "- la population de 15-24 ans est 2 fois plus importante donc un vivier plus grand d'élève. Le potentiel du taux de scolarisation dans le secondaire est favorable pour la chine,"
   ]
  },
  {
   "cell_type": "markdown",
   "metadata": {},
   "source": [
    "Pour la troisième place, le score prédit pour l'Australia , montre un plus fort potentiel que celui de Korea, Rep. les taux de scolarisation sont forts pour  les deux pays(etude université mais lycée peux important pour la coré a celui de l'australie). Comme les Etats-Unis ,l'Australie ont la même langue commune, le choix de l'**Australie** sera privilégié. Il faudrait recueillir des données sur la concurrence déjà présente en Corée du Sud, pouvoir prédire si les formations en anglais ne seraient pas un frein ou si notre entreprise souhaite donner des cours dans plusieurs langues."
   ]
  },
  {
   "cell_type": "markdown",
   "metadata": {},
   "source": [
    "*Notes* :\n",
    "***\n",
    "-  le fort potentiel d'évolution de la Corée du Sud et la présence du Japon . Ces pays représentant la région 'East Asia & Pacific' pourront être des pays à fort potentiel sur le plus long terme.\n"
   ]
  }
 ],
 "metadata": {
  "kernelspec": {
   "display_name": "Python 3.8.5 64-bit",
   "language": "python",
   "name": "python3"
  },
  "language_info": {
   "codemirror_mode": {
    "name": "ipython",
    "version": 3
   },
   "file_extension": ".py",
   "mimetype": "text/x-python",
   "name": "python",
   "nbconvert_exporter": "python",
   "pygments_lexer": "ipython3",
   "version": "3.8.5"
  },
  "orig_nbformat": 4,
  "vscode": {
   "interpreter": {
    "hash": "9650cb4e16cdd4a8e8e2d128bf38d875813998db22a3c986335f89e0cb4d7bb2"
   }
  }
 },
 "nbformat": 4,
 "nbformat_minor": 2
}
